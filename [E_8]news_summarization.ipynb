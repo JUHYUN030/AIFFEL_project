{
  "cells": [
    {
      "cell_type": "markdown",
      "id": "415afa74",
      "metadata": {
        "id": "415afa74"
      },
      "source": [
        "# 1. 데이터 수집하기"
      ]
    },
    {
      "cell_type": "code",
      "execution_count": 56,
      "id": "53bdb4f2",
      "metadata": {
        "colab": {
          "base_uri": "https://localhost:8080/"
        },
        "id": "53bdb4f2",
        "outputId": "10d55fbd-2b39-49dd-872a-8f7972fbf820"
      },
      "outputs": [
        {
          "output_type": "stream",
          "name": "stdout",
          "text": [
            "[nltk_data] Downloading package stopwords to /root/nltk_data...\n",
            "[nltk_data]   Package stopwords is already up-to-date!\n"
          ]
        }
      ],
      "source": [
        "import nltk\n",
        "nltk.download('stopwords')\n",
        "\n",
        "import numpy as np\n",
        "import pandas as pd\n",
        "import os\n",
        "import re\n",
        "import matplotlib.pyplot as plt\n",
        "from nltk.corpus import stopwords\n",
        "from bs4 import BeautifulSoup \n",
        "import tensorflow.keras as keras\n",
        "from tensorflow.keras.preprocessing.text import Tokenizer \n",
        "from tensorflow.keras.preprocessing.sequence import pad_sequences\n",
        "import urllib.request"
      ]
    },
    {
      "cell_type": "code",
      "execution_count": 6,
      "id": "77865f37",
      "metadata": {
        "id": "77865f37"
      },
      "outputs": [],
      "source": [
        "import urllib.request\n",
        "urllib.request.urlretrieve(\"https://raw.githubusercontent.com/sunnysai12345/News_Summary/master/news_summary_more.csv\", filename=\"news_summary_more.csv\")\n",
        "data = pd.read_csv('news_summary_more.csv', encoding='iso-8859-1')"
      ]
    },
    {
      "cell_type": "code",
      "execution_count": 7,
      "id": "a3cbb57b",
      "metadata": {
        "colab": {
          "base_uri": "https://localhost:8080/",
          "height": 363
        },
        "id": "a3cbb57b",
        "outputId": "1919feca-1312-4cf8-afdb-ed82fed17289"
      },
      "outputs": [
        {
          "output_type": "execute_result",
          "data": {
            "text/html": [
              "\n",
              "  <div id=\"df-6797800d-9802-4908-928c-e050ec39d651\">\n",
              "    <div class=\"colab-df-container\">\n",
              "      <div>\n",
              "<style scoped>\n",
              "    .dataframe tbody tr th:only-of-type {\n",
              "        vertical-align: middle;\n",
              "    }\n",
              "\n",
              "    .dataframe tbody tr th {\n",
              "        vertical-align: top;\n",
              "    }\n",
              "\n",
              "    .dataframe thead th {\n",
              "        text-align: right;\n",
              "    }\n",
              "</style>\n",
              "<table border=\"1\" class=\"dataframe\">\n",
              "  <thead>\n",
              "    <tr style=\"text-align: right;\">\n",
              "      <th></th>\n",
              "      <th>headlines</th>\n",
              "      <th>text</th>\n",
              "    </tr>\n",
              "  </thead>\n",
              "  <tbody>\n",
              "    <tr>\n",
              "      <th>26</th>\n",
              "      <td>UK zoo offers people to name cockroach after t...</td>\n",
              "      <td>A London zoo is offering people to name a cock...</td>\n",
              "    </tr>\n",
              "    <tr>\n",
              "      <th>28139</th>\n",
              "      <td>Tripura cuts internet for 48hrs to stop rumour...</td>\n",
              "      <td>The Tripura government suspended internet for ...</td>\n",
              "    </tr>\n",
              "    <tr>\n",
              "      <th>68550</th>\n",
              "      <td>In Pictures: Durga Puja pandals across Kolkata</td>\n",
              "      <td>A photo gallery showcases Durga Puja pandals i...</td>\n",
              "    </tr>\n",
              "    <tr>\n",
              "      <th>84398</th>\n",
              "      <td>Anupam shares pic with Oscar-winning actor Rob...</td>\n",
              "      <td>Actor Anupam Kher shared pictures with Oscar-w...</td>\n",
              "    </tr>\n",
              "    <tr>\n",
              "      <th>10018</th>\n",
              "      <td>14-yr-old gaming addict commits suicide after ...</td>\n",
              "      <td>A 14-year-old boy addicted to gaming allegedly...</td>\n",
              "    </tr>\n",
              "    <tr>\n",
              "      <th>28610</th>\n",
              "      <td>Gaming team ousted from $15-million event over...</td>\n",
              "      <td>A player of multiplayer online battle video ga...</td>\n",
              "    </tr>\n",
              "    <tr>\n",
              "      <th>91515</th>\n",
              "      <td>CBSE declares JEE Main 2017 results</td>\n",
              "      <td>The Central Board of Secondary Education (CBSE...</td>\n",
              "    </tr>\n",
              "    <tr>\n",
              "      <th>8356</th>\n",
              "      <td>Actis to buy Essel Infra's solar projects for ...</td>\n",
              "      <td>UK-based private equity firm Actis has agreed ...</td>\n",
              "    </tr>\n",
              "    <tr>\n",
              "      <th>21819</th>\n",
              "      <td>Video of couple getting married in flooded chu...</td>\n",
              "      <td>A video of a Filipino couple exchanging vows i...</td>\n",
              "    </tr>\n",
              "    <tr>\n",
              "      <th>40178</th>\n",
              "      <td>Microsoft may acquire web host GitHub for $5 b...</td>\n",
              "      <td>Technology giant Microsoft is in talks to acqu...</td>\n",
              "    </tr>\n",
              "  </tbody>\n",
              "</table>\n",
              "</div>\n",
              "      <button class=\"colab-df-convert\" onclick=\"convertToInteractive('df-6797800d-9802-4908-928c-e050ec39d651')\"\n",
              "              title=\"Convert this dataframe to an interactive table.\"\n",
              "              style=\"display:none;\">\n",
              "        \n",
              "  <svg xmlns=\"http://www.w3.org/2000/svg\" height=\"24px\"viewBox=\"0 0 24 24\"\n",
              "       width=\"24px\">\n",
              "    <path d=\"M0 0h24v24H0V0z\" fill=\"none\"/>\n",
              "    <path d=\"M18.56 5.44l.94 2.06.94-2.06 2.06-.94-2.06-.94-.94-2.06-.94 2.06-2.06.94zm-11 1L8.5 8.5l.94-2.06 2.06-.94-2.06-.94L8.5 2.5l-.94 2.06-2.06.94zm10 10l.94 2.06.94-2.06 2.06-.94-2.06-.94-.94-2.06-.94 2.06-2.06.94z\"/><path d=\"M17.41 7.96l-1.37-1.37c-.4-.4-.92-.59-1.43-.59-.52 0-1.04.2-1.43.59L10.3 9.45l-7.72 7.72c-.78.78-.78 2.05 0 2.83L4 21.41c.39.39.9.59 1.41.59.51 0 1.02-.2 1.41-.59l7.78-7.78 2.81-2.81c.8-.78.8-2.07 0-2.86zM5.41 20L4 18.59l7.72-7.72 1.47 1.35L5.41 20z\"/>\n",
              "  </svg>\n",
              "      </button>\n",
              "      \n",
              "  <style>\n",
              "    .colab-df-container {\n",
              "      display:flex;\n",
              "      flex-wrap:wrap;\n",
              "      gap: 12px;\n",
              "    }\n",
              "\n",
              "    .colab-df-convert {\n",
              "      background-color: #E8F0FE;\n",
              "      border: none;\n",
              "      border-radius: 50%;\n",
              "      cursor: pointer;\n",
              "      display: none;\n",
              "      fill: #1967D2;\n",
              "      height: 32px;\n",
              "      padding: 0 0 0 0;\n",
              "      width: 32px;\n",
              "    }\n",
              "\n",
              "    .colab-df-convert:hover {\n",
              "      background-color: #E2EBFA;\n",
              "      box-shadow: 0px 1px 2px rgba(60, 64, 67, 0.3), 0px 1px 3px 1px rgba(60, 64, 67, 0.15);\n",
              "      fill: #174EA6;\n",
              "    }\n",
              "\n",
              "    [theme=dark] .colab-df-convert {\n",
              "      background-color: #3B4455;\n",
              "      fill: #D2E3FC;\n",
              "    }\n",
              "\n",
              "    [theme=dark] .colab-df-convert:hover {\n",
              "      background-color: #434B5C;\n",
              "      box-shadow: 0px 1px 3px 1px rgba(0, 0, 0, 0.15);\n",
              "      filter: drop-shadow(0px 1px 2px rgba(0, 0, 0, 0.3));\n",
              "      fill: #FFFFFF;\n",
              "    }\n",
              "  </style>\n",
              "\n",
              "      <script>\n",
              "        const buttonEl =\n",
              "          document.querySelector('#df-6797800d-9802-4908-928c-e050ec39d651 button.colab-df-convert');\n",
              "        buttonEl.style.display =\n",
              "          google.colab.kernel.accessAllowed ? 'block' : 'none';\n",
              "\n",
              "        async function convertToInteractive(key) {\n",
              "          const element = document.querySelector('#df-6797800d-9802-4908-928c-e050ec39d651');\n",
              "          const dataTable =\n",
              "            await google.colab.kernel.invokeFunction('convertToInteractive',\n",
              "                                                     [key], {});\n",
              "          if (!dataTable) return;\n",
              "\n",
              "          const docLinkHtml = 'Like what you see? Visit the ' +\n",
              "            '<a target=\"_blank\" href=https://colab.research.google.com/notebooks/data_table.ipynb>data table notebook</a>'\n",
              "            + ' to learn more about interactive tables.';\n",
              "          element.innerHTML = '';\n",
              "          dataTable['output_type'] = 'display_data';\n",
              "          await google.colab.output.renderOutput(dataTable, element);\n",
              "          const docLink = document.createElement('div');\n",
              "          docLink.innerHTML = docLinkHtml;\n",
              "          element.appendChild(docLink);\n",
              "        }\n",
              "      </script>\n",
              "    </div>\n",
              "  </div>\n",
              "  "
            ],
            "text/plain": [
              "                                               headlines                                               text\n",
              "26     UK zoo offers people to name cockroach after t...  A London zoo is offering people to name a cock...\n",
              "28139  Tripura cuts internet for 48hrs to stop rumour...  The Tripura government suspended internet for ...\n",
              "68550     In Pictures: Durga Puja pandals across Kolkata  A photo gallery showcases Durga Puja pandals i...\n",
              "84398  Anupam shares pic with Oscar-winning actor Rob...  Actor Anupam Kher shared pictures with Oscar-w...\n",
              "10018  14-yr-old gaming addict commits suicide after ...  A 14-year-old boy addicted to gaming allegedly...\n",
              "28610  Gaming team ousted from $15-million event over...  A player of multiplayer online battle video ga...\n",
              "91515                CBSE declares JEE Main 2017 results  The Central Board of Secondary Education (CBSE...\n",
              "8356   Actis to buy Essel Infra's solar projects for ...  UK-based private equity firm Actis has agreed ...\n",
              "21819  Video of couple getting married in flooded chu...  A video of a Filipino couple exchanging vows i...\n",
              "40178  Microsoft may acquire web host GitHub for $5 b...  Technology giant Microsoft is in talks to acqu..."
            ]
          },
          "metadata": {},
          "execution_count": 7
        }
      ],
      "source": [
        "data.sample(10)"
      ]
    },
    {
      "cell_type": "markdown",
      "id": "17db7b97",
      "metadata": {
        "id": "17db7b97"
      },
      "source": [
        "# 2. 데이터 전처리하기 (추상적 요약)"
      ]
    },
    {
      "cell_type": "markdown",
      "id": "a759bc05",
      "metadata": {
        "id": "a759bc05"
      },
      "source": [
        "# 2-1. 중복값, 결측치 제거"
      ]
    },
    {
      "cell_type": "code",
      "execution_count": 8,
      "id": "adc5da4f",
      "metadata": {
        "colab": {
          "base_uri": "https://localhost:8080/"
        },
        "id": "adc5da4f",
        "outputId": "23ea5ef2-5549-4622-a939-8ba4882058f9"
      },
      "outputs": [
        {
          "output_type": "stream",
          "name": "stdout",
          "text": [
            "text 열에서 중복을 배제한 유일한 샘플의 수 : 98360\n",
            "headlines 열에서 중복을 배제한 유일한 샘플의 수 : 98280\n"
          ]
        }
      ],
      "source": [
        "print('text 열에서 중복을 배제한 유일한 샘플의 수 :', data['text'].nunique())\n",
        "print('headlines 열에서 중복을 배제한 유일한 샘플의 수 :', data['headlines'].nunique())"
      ]
    },
    {
      "cell_type": "code",
      "execution_count": 9,
      "id": "7824437d",
      "metadata": {
        "colab": {
          "base_uri": "https://localhost:8080/"
        },
        "id": "7824437d",
        "outputId": "7f5ffe46-505b-4e36-ab2f-c442b8cfb3ef"
      },
      "outputs": [
        {
          "output_type": "stream",
          "name": "stdout",
          "text": [
            "전체 샘플 수 : 98360\n"
          ]
        }
      ],
      "source": [
        "data.drop_duplicates(subset = ['text'], inplace = True)\n",
        "print('전체 샘플 수 :',(len(data)))"
      ]
    },
    {
      "cell_type": "code",
      "execution_count": 10,
      "id": "17913e6b",
      "metadata": {
        "colab": {
          "base_uri": "https://localhost:8080/"
        },
        "id": "17913e6b",
        "outputId": "3c2212e8-fa85-4efc-fbfc-a81a94459933"
      },
      "outputs": [
        {
          "output_type": "stream",
          "name": "stdout",
          "text": [
            "headlines    0\n",
            "text         0\n",
            "dtype: int64\n"
          ]
        }
      ],
      "source": [
        "print(data.isnull().sum())"
      ]
    },
    {
      "cell_type": "markdown",
      "id": "14fdcfc1",
      "metadata": {
        "id": "14fdcfc1"
      },
      "source": [
        "# 2-2. 텍스트 정규화, 불용어 제거"
      ]
    },
    {
      "cell_type": "code",
      "execution_count": 11,
      "id": "2ac5626f",
      "metadata": {
        "colab": {
          "base_uri": "https://localhost:8080/"
        },
        "id": "2ac5626f",
        "outputId": "7cfb5db2-e0e1-4883-a1fe-77f5dd42e348"
      },
      "outputs": [
        {
          "output_type": "stream",
          "name": "stdout",
          "text": [
            "정규화 사전의 수:  120\n"
          ]
        }
      ],
      "source": [
        "contractions = {\"ain't\": \"is not\", \"aren't\": \"are not\",\"can't\": \"cannot\", \"'cause\": \"because\", \"could've\": \"could have\", \"couldn't\": \"could not\",\n",
        "                           \"didn't\": \"did not\",  \"doesn't\": \"does not\", \"don't\": \"do not\", \"hadn't\": \"had not\", \"hasn't\": \"has not\", \"haven't\": \"have not\",\n",
        "                           \"he'd\": \"he would\",\"he'll\": \"he will\", \"he's\": \"he is\", \"how'd\": \"how did\", \"how'd'y\": \"how do you\", \"how'll\": \"how will\", \"how's\": \"how is\",\n",
        "                           \"I'd\": \"I would\", \"I'd've\": \"I would have\", \"I'll\": \"I will\", \"I'll've\": \"I will have\",\"I'm\": \"I am\", \"I've\": \"I have\", \"i'd\": \"i would\",\n",
        "                           \"i'd've\": \"i would have\", \"i'll\": \"i will\",  \"i'll've\": \"i will have\",\"i'm\": \"i am\", \"i've\": \"i have\", \"isn't\": \"is not\", \"it'd\": \"it would\",\n",
        "                           \"it'd've\": \"it would have\", \"it'll\": \"it will\", \"it'll've\": \"it will have\",\"it's\": \"it is\", \"let's\": \"let us\", \"ma'am\": \"madam\",\n",
        "                           \"mayn't\": \"may not\", \"might've\": \"might have\",\"mightn't\": \"might not\",\"mightn't've\": \"might not have\", \"must've\": \"must have\",\n",
        "                           \"mustn't\": \"must not\", \"mustn't've\": \"must not have\", \"needn't\": \"need not\", \"needn't've\": \"need not have\",\"o'clock\": \"of the clock\",\n",
        "                           \"oughtn't\": \"ought not\", \"oughtn't've\": \"ought not have\", \"shan't\": \"shall not\", \"sha'n't\": \"shall not\", \"shan't've\": \"shall not have\",\n",
        "                           \"she'd\": \"she would\", \"she'd've\": \"she would have\", \"she'll\": \"she will\", \"she'll've\": \"she will have\", \"she's\": \"she is\",\n",
        "                           \"should've\": \"should have\", \"shouldn't\": \"should not\", \"shouldn't've\": \"should not have\", \"so've\": \"so have\",\"so's\": \"so as\",\n",
        "                           \"this's\": \"this is\",\"that'd\": \"that would\", \"that'd've\": \"that would have\", \"that's\": \"that is\", \"there'd\": \"there would\",\n",
        "                           \"there'd've\": \"there would have\", \"there's\": \"there is\", \"here's\": \"here is\",\"they'd\": \"they would\", \"they'd've\": \"they would have\",\n",
        "                           \"they'll\": \"they will\", \"they'll've\": \"they will have\", \"they're\": \"they are\", \"they've\": \"they have\", \"to've\": \"to have\",\n",
        "                           \"wasn't\": \"was not\", \"we'd\": \"we would\", \"we'd've\": \"we would have\", \"we'll\": \"we will\", \"we'll've\": \"we will have\", \"we're\": \"we are\",\n",
        "                           \"we've\": \"we have\", \"weren't\": \"were not\", \"what'll\": \"what will\", \"what'll've\": \"what will have\", \"what're\": \"what are\",\n",
        "                           \"what's\": \"what is\", \"what've\": \"what have\", \"when's\": \"when is\", \"when've\": \"when have\", \"where'd\": \"where did\", \"where's\": \"where is\",\n",
        "                           \"where've\": \"where have\", \"who'll\": \"who will\", \"who'll've\": \"who will have\", \"who's\": \"who is\", \"who've\": \"who have\",\n",
        "                           \"why's\": \"why is\", \"why've\": \"why have\", \"will've\": \"will have\", \"won't\": \"will not\", \"won't've\": \"will not have\",\n",
        "                           \"would've\": \"would have\", \"wouldn't\": \"would not\", \"wouldn't've\": \"would not have\", \"y'all\": \"you all\",\n",
        "                           \"y'all'd\": \"you all would\",\"y'all'd've\": \"you all would have\",\"y'all're\": \"you all are\",\"y'all've\": \"you all have\",\n",
        "                           \"you'd\": \"you would\", \"you'd've\": \"you would have\", \"you'll\": \"you will\", \"you'll've\": \"you will have\",\n",
        "                           \"you're\": \"you are\", \"you've\": \"you have\"}\n",
        "\n",
        "print(\"정규화 사전의 수: \", len(contractions))"
      ]
    },
    {
      "cell_type": "code",
      "execution_count": 12,
      "id": "5ab15e10",
      "metadata": {
        "scrolled": true,
        "colab": {
          "base_uri": "https://localhost:8080/"
        },
        "id": "5ab15e10",
        "outputId": "2004406c-54ea-48bd-c240-39138d71ea6a"
      },
      "outputs": [
        {
          "output_type": "stream",
          "name": "stdout",
          "text": [
            "불용어 개수 : 179\n",
            "['i', 'me', 'my', 'myself', 'we', 'our', 'ours', 'ourselves', 'you', \"you're\", \"you've\", \"you'll\", \"you'd\", 'your', 'yours', 'yourself', 'yourselves', 'he', 'him', 'his', 'himself', 'she', \"she's\", 'her', 'hers', 'herself', 'it', \"it's\", 'its', 'itself', 'they', 'them', 'their', 'theirs', 'themselves', 'what', 'which', 'who', 'whom', 'this', 'that', \"that'll\", 'these', 'those', 'am', 'is', 'are', 'was', 'were', 'be', 'been', 'being', 'have', 'has', 'had', 'having', 'do', 'does', 'did', 'doing', 'a', 'an', 'the', 'and', 'but', 'if', 'or', 'because', 'as', 'until', 'while', 'of', 'at', 'by', 'for', 'with', 'about', 'against', 'between', 'into', 'through', 'during', 'before', 'after', 'above', 'below', 'to', 'from', 'up', 'down', 'in', 'out', 'on', 'off', 'over', 'under', 'again', 'further', 'then', 'once', 'here', 'there', 'when', 'where', 'why', 'how', 'all', 'any', 'both', 'each', 'few', 'more', 'most', 'other', 'some', 'such', 'no', 'nor', 'not', 'only', 'own', 'same', 'so', 'than', 'too', 'very', 's', 't', 'can', 'will', 'just', 'don', \"don't\", 'should', \"should've\", 'now', 'd', 'll', 'm', 'o', 're', 've', 'y', 'ain', 'aren', \"aren't\", 'couldn', \"couldn't\", 'didn', \"didn't\", 'doesn', \"doesn't\", 'hadn', \"hadn't\", 'hasn', \"hasn't\", 'haven', \"haven't\", 'isn', \"isn't\", 'ma', 'mightn', \"mightn't\", 'mustn', \"mustn't\", 'needn', \"needn't\", 'shan', \"shan't\", 'shouldn', \"shouldn't\", 'wasn', \"wasn't\", 'weren', \"weren't\", 'won', \"won't\", 'wouldn', \"wouldn't\"]\n"
          ]
        }
      ],
      "source": [
        "print('불용어 개수 :', len(stopwords.words('english') ))\n",
        "print(stopwords.words('english'))"
      ]
    },
    {
      "cell_type": "code",
      "execution_count": 13,
      "id": "5d92e940",
      "metadata": {
        "id": "5d92e940"
      },
      "outputs": [],
      "source": [
        "#데이터 전처리 함수\n",
        "def preprocess_sentence(sentence, remove_stopwords=True):\n",
        "    sentence = sentence.lower() # 텍스트 소문자화\n",
        "    sentence = BeautifulSoup(sentence, \"lxml\").text # <br />, <a href = ...> 등의 html 태그 제거\n",
        "    sentence = re.sub(r'\\([^)]*\\)', '', sentence) # 괄호로 닫힌 문자열 (...) 제거 Ex) my husband (and myself!) for => my husband for\n",
        "    sentence = re.sub('\"','', sentence) # 쌍따옴표 \" 제거\n",
        "    sentence = ' '.join([contractions[t] if t in contractions else t for t in sentence.split(\" \")]) # 약어 정규화\n",
        "    sentence = re.sub(r\"'s\\b\",\"\",sentence) # 소유격 제거. Ex) roland's -> roland\n",
        "    sentence = re.sub(\"[^a-zA-Z]\", \" \", sentence) # 영어 외 문자(숫자, 특수문자 등) 공백으로 변환\n",
        "    sentence = re.sub('[m]{2,}', 'mm', sentence) # m이 3개 이상이면 2개로 변경. Ex) ummmmmmm yeah -> umm yeah\n",
        "    \n",
        "    # 불용어 제거 (text)\n",
        "    if remove_stopwords:\n",
        "        tokens = ' '.join(word for word in sentence.split() if not word in stopwords.words('english') if len(word) > 1)\n",
        "    # 불용어 미제거 (headlines)\n",
        "    else:\n",
        "        tokens = ' '.join(word for word in sentence.split() if len(word) > 1)\n",
        "    return tokens"
      ]
    },
    {
      "cell_type": "code",
      "source": [
        "# 전처리 전후 결과 확인하기 위한 임의의 데이터 호출\n",
        "\n",
        "temp_text = 'Everything I bought was great, infact I ordered twice and the third ordered was<br />for my mother and father.'\n",
        "temp_headline = 'Great way to start (or finish) the day!!!'\n",
        "\n",
        "print(preprocess_sentence(temp_text))\n",
        "print(preprocess_sentence(temp_headline, False))  # 불용어를 제거하지 않습니다."
      ],
      "metadata": {
        "colab": {
          "base_uri": "https://localhost:8080/"
        },
        "id": "J3m53VeE1aHS",
        "outputId": "a7563d8b-9315-4e4b-bd8c-48b5a7b2ac71"
      },
      "id": "J3m53VeE1aHS",
      "execution_count": 15,
      "outputs": [
        {
          "output_type": "stream",
          "name": "stdout",
          "text": [
            "everything bought great infact ordered twice third ordered wasfor mother father\n",
            "great way to start the day\n"
          ]
        }
      ]
    },
    {
      "cell_type": "code",
      "execution_count": 16,
      "id": "21a80be9",
      "metadata": {
        "colab": {
          "base_uri": "https://localhost:8080/"
        },
        "id": "21a80be9",
        "outputId": "923007de-d33a-43a7-cd02-01e7edafebc0"
      },
      "outputs": [
        {
          "output_type": "execute_result",
          "data": {
            "text/plain": [
              "['saurav kant alumnus upgrad iiit pg program machine learning artificial intelligence sr systems engineer infosys almost years work experience program upgrad degree career support helped transition data scientist tech mahindra salary hike upgrad online power learning powered lakh careers',\n",
              " 'kunal shah credit card bill payment platform cred gave users chance win free food swiggy one year pranav kaushik delhi techie bagged reward spending cred coins users get one cred coin per rupee bill paid used avail rewards brands like ixigo bookmyshow ubereats cult fit',\n",
              " 'new zealand defeated india wickets fourth odi hamilton thursday win first match five match odi series india lost international match rohit sharma captaincy consecutive victories dating back march match witnessed india getting seventh lowest total odi cricket history',\n",
              " 'aegon life iterm insurance plan customers enjoy tax benefits premiums paid save taxes plan provides life cover age years also customers options insure critical illnesses disability accidental death benefit rider life cover age years',\n",
              " 'speaking sexual harassment allegations rajkumar hirani sonam kapoor said known hirani many years true metoo movement get derailed metoo movement always believe woman case need reserve judgment added hirani accused assistant worked sanju']"
            ]
          },
          "metadata": {},
          "execution_count": 16
        }
      ],
      "source": [
        "clean_text = []\n",
        "\n",
        "# 전체 Text 데이터에 대한 전처리 : 10분 이상 시간이 걸릴 수 있음\n",
        "for s in data['text']:\n",
        "    clean_text.append(preprocess_sentence(s))\n",
        "\n",
        "# 전처리 후 출력\n",
        "clean_text[:5]"
      ]
    },
    {
      "cell_type": "code",
      "execution_count": 17,
      "id": "a512012b",
      "metadata": {
        "scrolled": true,
        "colab": {
          "base_uri": "https://localhost:8080/"
        },
        "id": "a512012b",
        "outputId": "9168211b-f75f-43af-f461-9a40af7ccd26"
      },
      "outputs": [
        {
          "output_type": "execute_result",
          "data": {
            "text/plain": [
              "['upgrad learner switches to career in ml al with salary hike',\n",
              " 'delhi techie wins free food from swiggy for one year on cred',\n",
              " 'new zealand end rohit sharma led india match winning streak',\n",
              " 'aegon life iterm insurance plan helps customers save tax',\n",
              " 'have known hirani for yrs what if metoo claims are not true sonam']"
            ]
          },
          "metadata": {},
          "execution_count": 17
        }
      ],
      "source": [
        "clean_summary = []\n",
        "\n",
        "# 전체 Summary 데이터에 대한 전처리 : 5분 이상 시간이 걸릴 수 있음 \n",
        "for s in data['headlines']:\n",
        "    clean_summary.append(preprocess_sentence(s, False)) # 불용어를 제거하지 않습니다.\n",
        "\n",
        "clean_summary[:5]"
      ]
    },
    {
      "cell_type": "code",
      "execution_count": 18,
      "id": "5f8cb6bf",
      "metadata": {
        "id": "5f8cb6bf"
      },
      "outputs": [],
      "source": [
        "data['text'] = clean_text\n",
        "data['headlines'] = clean_summary\n",
        "\n",
        "# 빈 값을 Null 값으로 변환\n",
        "data.replace('', np.nan, inplace=True)"
      ]
    },
    {
      "cell_type": "code",
      "execution_count": 19,
      "id": "58733a63",
      "metadata": {
        "colab": {
          "base_uri": "https://localhost:8080/"
        },
        "id": "58733a63",
        "outputId": "2bf8edf6-0ddd-4bca-e5e3-f946fb6fafbc"
      },
      "outputs": [
        {
          "output_type": "execute_result",
          "data": {
            "text/plain": [
              "headlines    0\n",
              "text         0\n",
              "dtype: int64"
            ]
          },
          "metadata": {},
          "execution_count": 19
        }
      ],
      "source": [
        "data.isnull().sum()"
      ]
    },
    {
      "cell_type": "markdown",
      "id": "8cb2535a",
      "metadata": {
        "id": "8cb2535a"
      },
      "source": [
        "# 3. 훈련데이터와 테스트데이터 나누기"
      ]
    },
    {
      "cell_type": "markdown",
      "id": "dcec7d23",
      "metadata": {
        "id": "dcec7d23"
      },
      "source": [
        "# 3-1. 샘플의 최대 길이 설정¶"
      ]
    },
    {
      "cell_type": "code",
      "execution_count": 20,
      "id": "38a24d29",
      "metadata": {
        "colab": {
          "base_uri": "https://localhost:8080/",
          "height": 963
        },
        "id": "38a24d29",
        "outputId": "76cf180d-c29f-4346-d356-2fe17b1c965b"
      },
      "outputs": [
        {
          "output_type": "stream",
          "name": "stdout",
          "text": [
            "텍스트의 최소 길이 : 1\n",
            "텍스트의 최대 길이 : 60\n",
            "텍스트의 평균 길이 : 35.09968483123221\n",
            "요약의 최소 길이 : 1\n",
            "요약의 최대 길이 : 16\n",
            "요약의 평균 길이 : 9.299532330215534\n"
          ]
        },
        {
          "output_type": "display_data",
          "data": {
            "image/png": "[encoded data removed]",
            "text/plain": [
              "<Figure size 432x288 with 2 Axes>"
            ]
          },
          "metadata": {
            "needs_background": "light"
          }
        },
        {
          "output_type": "display_data",
          "data": {
            "image/png": "[encoded data removed]",
            "text/plain": [
              "<Figure size 432x288 with 1 Axes>"
            ]
          },
          "metadata": {
            "needs_background": "light"
          }
        },
        {
          "output_type": "display_data",
          "data": {
            "image/png": "[encoded data removed]",
            "text/plain": [
              "<Figure size 432x288 with 1 Axes>"
            ]
          },
          "metadata": {
            "needs_background": "light"
          }
        }
      ],
      "source": [
        "# 길이 분포 출력\n",
        "import matplotlib.pyplot as plt\n",
        "\n",
        "text_len = [len(s.split()) for s in data['text']]\n",
        "summary_len = [len(s.split()) for s in data['headlines']]\n",
        "\n",
        "print('텍스트의 최소 길이 : {}'.format(np.min(text_len)))\n",
        "print('텍스트의 최대 길이 : {}'.format(np.max(text_len)))\n",
        "print('텍스트의 평균 길이 : {}'.format(np.mean(text_len)))\n",
        "print('요약의 최소 길이 : {}'.format(np.min(summary_len)))\n",
        "print('요약의 최대 길이 : {}'.format(np.max(summary_len)))\n",
        "print('요약의 평균 길이 : {}'.format(np.mean(summary_len)))\n",
        "\n",
        "plt.subplot(1,2,1)\n",
        "plt.boxplot(summary_len)\n",
        "plt.title('headlines')\n",
        "plt.subplot(1,2,2)\n",
        "plt.boxplot(text_len)\n",
        "plt.title('text')\n",
        "plt.tight_layout()\n",
        "plt.show()\n",
        "\n",
        "plt.title('headlines')\n",
        "plt.hist(summary_len, bins = 40)\n",
        "plt.xlabel('length of samples')\n",
        "plt.ylabel('number of samples')\n",
        "plt.show()\n",
        "\n",
        "plt.title('text')\n",
        "plt.hist(text_len, bins = 40)\n",
        "plt.xlabel('length of samples')\n",
        "plt.ylabel('number of samples')\n",
        "plt.show()"
      ]
    },
    {
      "cell_type": "code",
      "execution_count": 21,
      "id": "7e4c98f3",
      "metadata": {
        "id": "7e4c98f3"
      },
      "outputs": [],
      "source": [
        "text_max_len = 38\n",
        "headline_max_len = 11"
      ]
    },
    {
      "cell_type": "code",
      "execution_count": 22,
      "id": "19bbcd19",
      "metadata": {
        "id": "19bbcd19"
      },
      "outputs": [],
      "source": [
        "def below_threshold_len(max_len, nested_list):\n",
        "    cnt = 0\n",
        "    for s in nested_list:\n",
        "        if(len(s.split()) <= max_len):\n",
        "            cnt = cnt + 1\n",
        "    print('전체 샘플 중 길이가 %s 이하인 샘플의 비율: %s'%(max_len, (cnt / len(nested_list))))"
      ]
    },
    {
      "cell_type": "code",
      "execution_count": 23,
      "id": "b1c04f2e",
      "metadata": {
        "colab": {
          "base_uri": "https://localhost:8080/"
        },
        "id": "b1c04f2e",
        "outputId": "b27ea74c-9f5d-47b8-8dfc-3323816adaa9"
      },
      "outputs": [
        {
          "output_type": "stream",
          "name": "stdout",
          "text": [
            "전체 샘플 중 길이가 38 이하인 샘플의 비율: 0.8163379422529483\n",
            "전체 샘플 중 길이가 11 이하인 샘플의 비율: 0.9449877999186661\n"
          ]
        }
      ],
      "source": [
        "below_threshold_len(text_max_len, data['text'])\n",
        "below_threshold_len(headline_max_len,  data['headlines'])"
      ]
    },
    {
      "cell_type": "code",
      "execution_count": 24,
      "id": "d7524f0a",
      "metadata": {
        "colab": {
          "base_uri": "https://localhost:8080/"
        },
        "id": "d7524f0a",
        "outputId": "050f2f46-0f62-42cf-ab38-c54455b60875"
      },
      "outputs": [
        {
          "output_type": "stream",
          "name": "stdout",
          "text": [
            "전체 샘플수 : 75754\n"
          ]
        }
      ],
      "source": [
        "data = data[data['text'].apply(lambda x: len(x.split()) <= text_max_len)]\n",
        "data = data[data['headlines'].apply(lambda x: len(x.split()) <= headline_max_len)]\n",
        "print('전체 샘플수 :',(len(data)))"
      ]
    },
    {
      "cell_type": "markdown",
      "id": "329eda14",
      "metadata": {
        "id": "329eda14"
      },
      "source": [
        "# 3-2. 시작 토큰과 종료 토큰 추가"
      ]
    },
    {
      "cell_type": "code",
      "execution_count": 25,
      "id": "4a671f22",
      "metadata": {
        "colab": {
          "base_uri": "https://localhost:8080/",
          "height": 206
        },
        "id": "4a671f22",
        "outputId": "6726ab96-e14e-4986-c345-9730dcb56f43"
      },
      "outputs": [
        {
          "output_type": "execute_result",
          "data": {
            "text/html": [
              "\n",
              "  <div id=\"df-5609c376-0d0e-4eca-a28d-d6b427af2563\">\n",
              "    <div class=\"colab-df-container\">\n",
              "      <div>\n",
              "<style scoped>\n",
              "    .dataframe tbody tr th:only-of-type {\n",
              "        vertical-align: middle;\n",
              "    }\n",
              "\n",
              "    .dataframe tbody tr th {\n",
              "        vertical-align: top;\n",
              "    }\n",
              "\n",
              "    .dataframe thead th {\n",
              "        text-align: right;\n",
              "    }\n",
              "</style>\n",
              "<table border=\"1\" class=\"dataframe\">\n",
              "  <thead>\n",
              "    <tr style=\"text-align: right;\">\n",
              "      <th></th>\n",
              "      <th>headlines</th>\n",
              "      <th>text</th>\n",
              "      <th>decoder_input</th>\n",
              "      <th>decoder_target</th>\n",
              "    </tr>\n",
              "  </thead>\n",
              "  <tbody>\n",
              "    <tr>\n",
              "      <th>2</th>\n",
              "      <td>new zealand end rohit sharma led india match w...</td>\n",
              "      <td>new zealand defeated india wickets fourth odi ...</td>\n",
              "      <td>sostoken new zealand end rohit sharma led indi...</td>\n",
              "      <td>new zealand end rohit sharma led india match w...</td>\n",
              "    </tr>\n",
              "    <tr>\n",
              "      <th>3</th>\n",
              "      <td>aegon life iterm insurance plan helps customer...</td>\n",
              "      <td>aegon life iterm insurance plan customers enjo...</td>\n",
              "      <td>sostoken aegon life iterm insurance plan helps...</td>\n",
              "      <td>aegon life iterm insurance plan helps customer...</td>\n",
              "    </tr>\n",
              "    <tr>\n",
              "      <th>5</th>\n",
              "      <td>rahat fateh ali khan denies getting notice for...</td>\n",
              "      <td>pakistani singer rahat fateh ali khan denied r...</td>\n",
              "      <td>sostoken rahat fateh ali khan denies getting n...</td>\n",
              "      <td>rahat fateh ali khan denies getting notice for...</td>\n",
              "    </tr>\n",
              "    <tr>\n",
              "      <th>7</th>\n",
              "      <td>govt directs alok verma to join work day befor...</td>\n",
              "      <td>weeks ex cbi director alok verma told departme...</td>\n",
              "      <td>sostoken govt directs alok verma to join work ...</td>\n",
              "      <td>govt directs alok verma to join work day befor...</td>\n",
              "    </tr>\n",
              "    <tr>\n",
              "      <th>8</th>\n",
              "      <td>called pm modi sir times to satisfy his ego an...</td>\n",
              "      <td>andhra pradesh cm chandrababu naidu said met u...</td>\n",
              "      <td>sostoken called pm modi sir times to satisfy h...</td>\n",
              "      <td>called pm modi sir times to satisfy his ego an...</td>\n",
              "    </tr>\n",
              "  </tbody>\n",
              "</table>\n",
              "</div>\n",
              "      <button class=\"colab-df-convert\" onclick=\"convertToInteractive('df-5609c376-0d0e-4eca-a28d-d6b427af2563')\"\n",
              "              title=\"Convert this dataframe to an interactive table.\"\n",
              "              style=\"display:none;\">\n",
              "        \n",
              "  <svg xmlns=\"http://www.w3.org/2000/svg\" height=\"24px\"viewBox=\"0 0 24 24\"\n",
              "       width=\"24px\">\n",
              "    <path d=\"M0 0h24v24H0V0z\" fill=\"none\"/>\n",
              "    <path d=\"M18.56 5.44l.94 2.06.94-2.06 2.06-.94-2.06-.94-.94-2.06-.94 2.06-2.06.94zm-11 1L8.5 8.5l.94-2.06 2.06-.94-2.06-.94L8.5 2.5l-.94 2.06-2.06.94zm10 10l.94 2.06.94-2.06 2.06-.94-2.06-.94-.94-2.06-.94 2.06-2.06.94z\"/><path d=\"M17.41 7.96l-1.37-1.37c-.4-.4-.92-.59-1.43-.59-.52 0-1.04.2-1.43.59L10.3 9.45l-7.72 7.72c-.78.78-.78 2.05 0 2.83L4 21.41c.39.39.9.59 1.41.59.51 0 1.02-.2 1.41-.59l7.78-7.78 2.81-2.81c.8-.78.8-2.07 0-2.86zM5.41 20L4 18.59l7.72-7.72 1.47 1.35L5.41 20z\"/>\n",
              "  </svg>\n",
              "      </button>\n",
              "      \n",
              "  <style>\n",
              "    .colab-df-container {\n",
              "      display:flex;\n",
              "      flex-wrap:wrap;\n",
              "      gap: 12px;\n",
              "    }\n",
              "\n",
              "    .colab-df-convert {\n",
              "      background-color: #E8F0FE;\n",
              "      border: none;\n",
              "      border-radius: 50%;\n",
              "      cursor: pointer;\n",
              "      display: none;\n",
              "      fill: #1967D2;\n",
              "      height: 32px;\n",
              "      padding: 0 0 0 0;\n",
              "      width: 32px;\n",
              "    }\n",
              "\n",
              "    .colab-df-convert:hover {\n",
              "      background-color: #E2EBFA;\n",
              "      box-shadow: 0px 1px 2px rgba(60, 64, 67, 0.3), 0px 1px 3px 1px rgba(60, 64, 67, 0.15);\n",
              "      fill: #174EA6;\n",
              "    }\n",
              "\n",
              "    [theme=dark] .colab-df-convert {\n",
              "      background-color: #3B4455;\n",
              "      fill: #D2E3FC;\n",
              "    }\n",
              "\n",
              "    [theme=dark] .colab-df-convert:hover {\n",
              "      background-color: #434B5C;\n",
              "      box-shadow: 0px 1px 3px 1px rgba(0, 0, 0, 0.15);\n",
              "      filter: drop-shadow(0px 1px 2px rgba(0, 0, 0, 0.3));\n",
              "      fill: #FFFFFF;\n",
              "    }\n",
              "  </style>\n",
              "\n",
              "      <script>\n",
              "        const buttonEl =\n",
              "          document.querySelector('#df-5609c376-0d0e-4eca-a28d-d6b427af2563 button.colab-df-convert');\n",
              "        buttonEl.style.display =\n",
              "          google.colab.kernel.accessAllowed ? 'block' : 'none';\n",
              "\n",
              "        async function convertToInteractive(key) {\n",
              "          const element = document.querySelector('#df-5609c376-0d0e-4eca-a28d-d6b427af2563');\n",
              "          const dataTable =\n",
              "            await google.colab.kernel.invokeFunction('convertToInteractive',\n",
              "                                                     [key], {});\n",
              "          if (!dataTable) return;\n",
              "\n",
              "          const docLinkHtml = 'Like what you see? Visit the ' +\n",
              "            '<a target=\"_blank\" href=https://colab.research.google.com/notebooks/data_table.ipynb>data table notebook</a>'\n",
              "            + ' to learn more about interactive tables.';\n",
              "          element.innerHTML = '';\n",
              "          dataTable['output_type'] = 'display_data';\n",
              "          await google.colab.output.renderOutput(dataTable, element);\n",
              "          const docLink = document.createElement('div');\n",
              "          docLink.innerHTML = docLinkHtml;\n",
              "          element.appendChild(docLink);\n",
              "        }\n",
              "      </script>\n",
              "    </div>\n",
              "  </div>\n",
              "  "
            ],
            "text/plain": [
              "                                           headlines  ...                                     decoder_target\n",
              "2  new zealand end rohit sharma led india match w...  ...  new zealand end rohit sharma led india match w...\n",
              "3  aegon life iterm insurance plan helps customer...  ...  aegon life iterm insurance plan helps customer...\n",
              "5  rahat fateh ali khan denies getting notice for...  ...  rahat fateh ali khan denies getting notice for...\n",
              "7  govt directs alok verma to join work day befor...  ...  govt directs alok verma to join work day befor...\n",
              "8  called pm modi sir times to satisfy his ego an...  ...  called pm modi sir times to satisfy his ego an...\n",
              "\n",
              "[5 rows x 4 columns]"
            ]
          },
          "metadata": {},
          "execution_count": 25
        }
      ],
      "source": [
        "# 요약 데이터에는 시작 토큰과 종료 토큰을 추가.\n",
        "\n",
        "data['decoder_input'] = data['headlines'].apply(lambda x : 'sostoken '+ x)\n",
        "data['decoder_target'] = data['headlines'].apply(lambda x : x + ' eostoken')\n",
        "data.head()"
      ]
    },
    {
      "cell_type": "code",
      "execution_count": 26,
      "id": "c1096481",
      "metadata": {
        "id": "c1096481"
      },
      "outputs": [],
      "source": [
        "# 인코더의 입력, 디코더의 입력과 레이블을 각각 다시 Numpy 타입으로 저장\n",
        "\n",
        "encoder_input = np.array(data['text']) # 인코더의 입력\n",
        "decoder_input = np.array(data['decoder_input']) # 디코더의 입력\n",
        "decoder_target = np.array(data['decoder_target']) # 디코더의 레이블"
      ]
    },
    {
      "cell_type": "code",
      "execution_count": 27,
      "id": "07d02c3f",
      "metadata": {
        "colab": {
          "base_uri": "https://localhost:8080/"
        },
        "id": "07d02c3f",
        "outputId": "b32bac64-06fc-4f46-f503-7d339c68e2ec"
      },
      "outputs": [
        {
          "output_type": "stream",
          "name": "stdout",
          "text": [
            "[29120 73507 75473 ... 40745 58556 73063]\n"
          ]
        }
      ],
      "source": [
        "# 훈련 데이터 테스트 데이터 분리\n",
        "\n",
        "indices = np.arange(encoder_input.shape[0])  # encoder_input과 크기와 형태가 같은 정수 시퀀스 생성\n",
        "np.random.shuffle(indices)                   # 순서를 랜덤하게 섞어줍니다\n",
        "print(indices) # 랜덤한 정수 시퀀스 생성"
      ]
    },
    {
      "cell_type": "code",
      "execution_count": 28,
      "id": "90b34774",
      "metadata": {
        "id": "90b34774"
      },
      "outputs": [],
      "source": [
        "# 샘플 순서를 랜덤 시퀀스를 이용해서 정의해줌\n",
        "\n",
        "encoder_input = encoder_input[indices]\n",
        "decoder_input = decoder_input[indices]\n",
        "decoder_target = decoder_target[indices]"
      ]
    },
    {
      "cell_type": "code",
      "execution_count": 29,
      "id": "1a2a80b8",
      "metadata": {
        "colab": {
          "base_uri": "https://localhost:8080/"
        },
        "id": "1a2a80b8",
        "outputId": "1b22f935-5197-43eb-d7de-4455eb942441"
      },
      "outputs": [
        {
          "output_type": "stream",
          "name": "stdout",
          "text": [
            "테스트 데이터의 수 : 15150\n"
          ]
        }
      ],
      "source": [
        "# 8:2로 훈련셋 테스트셋 분리\n",
        "\n",
        "n_of_val = int(len(encoder_input)*0.2)\n",
        "print('테스트 데이터의 수 :', n_of_val)"
      ]
    },
    {
      "cell_type": "code",
      "execution_count": 30,
      "id": "a7351307",
      "metadata": {
        "colab": {
          "base_uri": "https://localhost:8080/"
        },
        "id": "a7351307",
        "outputId": "8e7891d4-7518-4f05-e987-9a477327cef7"
      },
      "outputs": [
        {
          "output_type": "stream",
          "name": "stdout",
          "text": [
            "훈련 데이터의 개수 :  60604\n",
            "훈련 레이블의 개수 :  60604\n",
            "테스트 데이터의 개수 :  15150\n",
            "테스트 데이터의 개수 :  15150\n"
          ]
        }
      ],
      "source": [
        "# 테스트 데이터의 갯수를 이용해 전체 데이터를 양분해줌\n",
        "\n",
        "encoder_input_train = encoder_input[:-n_of_val] # 뒤로 n_of_val개 빼고 나머지\n",
        "decoder_input_train = decoder_input[:-n_of_val] \n",
        "decoder_target_train = decoder_target[:-n_of_val]\n",
        "\n",
        "encoder_input_test = encoder_input[-n_of_val:] # 앞에 n_of_val개 빼고 나머지\n",
        "decoder_input_test = decoder_input[-n_of_val:]\n",
        "decoder_target_test = decoder_target[-n_of_val:]\n",
        "\n",
        "print('훈련 데이터의 개수 : ', len(encoder_input_train))\n",
        "print('훈련 레이블의 개수 : ', len(decoder_input_train))\n",
        "print('테스트 데이터의 개수 : ', len(encoder_input_test))\n",
        "print('테스트 데이터의 개수 : ', len(decoder_input_test))"
      ]
    },
    {
      "cell_type": "markdown",
      "id": "ebd88b2b",
      "metadata": {
        "id": "ebd88b2b"
      },
      "source": [
        "# 4. 정수 인코딩"
      ]
    },
    {
      "cell_type": "markdown",
      "id": "20af5790",
      "metadata": {
        "id": "20af5790"
      },
      "source": [
        "# 4-1. 단어 집합(vocabulary) 만들기 및 정수 인코딩"
      ]
    },
    {
      "cell_type": "code",
      "execution_count": 31,
      "id": "d44a65f9",
      "metadata": {
        "id": "d44a65f9"
      },
      "outputs": [],
      "source": [
        "src_tokenizer = Tokenizer()    # 토크나이저 생성 - 입력된 훈련 데이터로부터 단어집합 생성 가능하게 해줌\n",
        "src_tokenizer.fit_on_texts(encoder_input_train)       # 입력된 데이터로부터 단어 집합 생성"
      ]
    },
    {
      "cell_type": "markdown",
      "source": [
        "- 단어집합이 생성되었고, 각 단어에 고유한 정수가 부여됨. \n",
        "- 빈도수 낮은 단어들은 훈련데이터에서 제거"
      ],
      "metadata": {
        "id": "PmGMRYiV2Y3a"
      },
      "id": "PmGMRYiV2Y3a"
    },
    {
      "cell_type": "code",
      "execution_count": 32,
      "id": "77e7bd8b",
      "metadata": {
        "colab": {
          "base_uri": "https://localhost:8080/"
        },
        "id": "77e7bd8b",
        "outputId": "a1abe93f-12f7-4054-b671-a94dbcab199f"
      },
      "outputs": [
        {
          "output_type": "stream",
          "name": "stdout",
          "text": [
            "단어 집합의 크기 :  60268\n",
            "등장 빈도가 7번 이하인 희귀 단어의 수: 42527\n",
            "단어 집합에서 희귀 단어를 제외시킬 경우의 단어 집합의 크기: 17741\n",
            "단어 집합에서 희귀 단어의 비율: 70.56315125771555\n",
            "전체 등장 빈도에서 희귀 단어 등장 빈도 비율: 4.5321107082113805\n"
          ]
        }
      ],
      "source": [
        "threshold = 8\n",
        "total_count = len(src_tokenizer.word_index)      # 단어의 수\n",
        "rare_count = 0             # 등장 빈도수가 threshold보다 작은 단어의 개수를 count\n",
        "total_freq = 0             # 훈련 데이터의 전체 단어 빈도수 총 합\n",
        "rare_freq = 0              # 등장 빈도수가 threshold보다 작은 단어의 등장 빈도수 총 합\n",
        "\n",
        "# 단어와 빈도수의 쌍(pair)을 key와 value로 받음.\n",
        "for key, value in src_tokenizer.word_counts.items():\n",
        "    total_freq = total_freq + value\n",
        "    \n",
        "    # 단어의 등장 빈도수가 threshold보다 작으면\n",
        "    if (value < threshold) :\n",
        "        rare_count = rare_count + 1\n",
        "        rare_freq = rare_freq + value\n",
        "        \n",
        "print('단어 집합의 크기 : ', total_count)\n",
        "print('등장 빈도가 %s번 이하인 희귀 단어의 수: %s'%(threshold - 1, rare_count))\n",
        "print('단어 집합에서 희귀 단어를 제외시킬 경우의 단어 집합의 크기: %s'%(total_count - rare_count))\n",
        "print(\"단어 집합에서 희귀 단어의 비율:\", (rare_count / total_count)*100)\n",
        "print(\"전체 등장 빈도에서 희귀 단어 등장 빈도 비율:\", (rare_freq / total_freq)*100)"
      ]
    },
    {
      "cell_type": "code",
      "execution_count": 33,
      "id": "921b596c",
      "metadata": {
        "id": "921b596c"
      },
      "outputs": [],
      "source": [
        "src_vocab = 17500\n",
        "src_tokenizer = Tokenizer(num_words = src_vocab) # 단어 집합의 크기를 17,000으로 제한\n",
        "src_tokenizer.fit_on_texts(encoder_input_train) # 단어 집합 재생성"
      ]
    },
    {
      "cell_type": "code",
      "execution_count": 34,
      "id": "512bc2b0",
      "metadata": {
        "colab": {
          "base_uri": "https://localhost:8080/"
        },
        "id": "512bc2b0",
        "outputId": "392fee19-82de-4d93-bcc8-b3686014270f"
      },
      "outputs": [
        {
          "output_type": "stream",
          "name": "stdout",
          "text": [
            "[[32, 47, 4, 121, 1067, 540, 1357, 491, 3889, 797, 3842, 157, 947, 1271, 1964, 209, 14, 1174, 418, 1013, 540, 1357, 491, 1692, 51, 448, 8754, 6, 13541, 153, 187, 491, 3043, 2606, 9916, 1], [278, 4522, 253, 81, 4664, 3171, 563, 661, 228, 571, 2010, 8069, 1511, 127, 1025, 7039, 176, 115, 423, 1190, 3327, 1980, 435, 486, 4190, 1025, 5684, 6, 3590, 534, 127], [6026, 52, 5761, 4390, 1, 2453, 158, 59, 253, 343, 407, 2682, 185, 15, 142, 72, 1997, 51, 1699, 536, 2262, 63, 2110, 168, 4814, 6, 9182, 2770]]\n"
          ]
        }
      ],
      "source": [
        "# 텍스트 시퀀스를 정수 시퀀스로 변환\n",
        "encoder_input_train = src_tokenizer.texts_to_sequences(encoder_input_train)\n",
        "encoder_input_test = src_tokenizer.texts_to_sequences(encoder_input_test)\n",
        "\n",
        "# 잘 진행되었는지 샘플 출력\n",
        "print(encoder_input_train[:3])"
      ]
    },
    {
      "cell_type": "code",
      "execution_count": 35,
      "id": "af74cf99",
      "metadata": {
        "id": "af74cf99"
      },
      "outputs": [],
      "source": [
        "# headlines 에도 동일한 작업해주기\n",
        "tar_tokenizer = Tokenizer()\n",
        "tar_tokenizer.fit_on_texts(decoder_input_train)"
      ]
    },
    {
      "cell_type": "code",
      "execution_count": 36,
      "id": "8db06cb0",
      "metadata": {
        "colab": {
          "base_uri": "https://localhost:8080/"
        },
        "id": "8db06cb0",
        "outputId": "0daca7ca-56bd-4b0d-ab42-57220b642501"
      },
      "outputs": [
        {
          "output_type": "stream",
          "name": "stdout",
          "text": [
            "단어 집합의 크기 :  27004\n",
            "등장 빈도가 6번 이하인 희귀 단어의 수: 18781\n",
            "단어 집합에서 희귀 단어를 제외시킬 경우의 단어 집합의 크기: 8223\n",
            "단어 집합에서 희귀 단어의 비율: 69.54895571026515\n",
            "전체 등장 빈도에서 희귀 단어 등장 빈도 비율: 6.404326895664145\n"
          ]
        }
      ],
      "source": [
        "threshold = 7\n",
        "total_count = len(tar_tokenizer.word_index)      # 단어의 수\n",
        "rare_count = 0             # 등장 빈도수가 threshold보다 작은 단어의 개수를 count\n",
        "total_freq = 0             # 훈련 데이터의 전체 단어 빈도수 총 합\n",
        "rare_freq = 0              # 등장 빈도수가 threshold보다 작은 단어의 등장 빈도수 총 합\n",
        "\n",
        "# 단어와 빈도수의 쌍(pair)을 key와 value로 받음.\n",
        "for key, value in tar_tokenizer.word_counts.items():\n",
        "    total_freq = total_freq + value\n",
        "    \n",
        "    # 단어의 등장 빈도수가 threshold보다 작으면\n",
        "    if (value < threshold) :\n",
        "        rare_count = rare_count + 1\n",
        "        rare_freq = rare_freq + value\n",
        "        \n",
        "print('단어 집합의 크기 : ', total_count)\n",
        "print('등장 빈도가 %s번 이하인 희귀 단어의 수: %s'%(threshold - 1, rare_count))\n",
        "print('단어 집합에서 희귀 단어를 제외시킬 경우의 단어 집합의 크기: %s'%(total_count - rare_count))\n",
        "print(\"단어 집합에서 희귀 단어의 비율:\", (rare_count / total_count)*100)\n",
        "print(\"전체 등장 빈도에서 희귀 단어 등장 빈도 비율:\", (rare_freq / total_freq)*100)"
      ]
    },
    {
      "cell_type": "code",
      "execution_count": 37,
      "id": "2a4a2188",
      "metadata": {
        "colab": {
          "base_uri": "https://localhost:8080/"
        },
        "id": "2a4a2188",
        "outputId": "abe041cd-9186-472b-dab3-e9ec26c27e68"
      },
      "outputs": [
        {
          "output_type": "stream",
          "name": "stdout",
          "text": [
            "input\n",
            "input  [[1, 255, 1500, 363, 10, 3890, 2038, 3, 202, 913], [1, 270, 568, 5811, 4032, 6, 3487, 943, 634], [1, 785, 13, 4, 23, 2166], [1, 1240, 1704, 2224, 1368, 11, 174, 16, 1456, 4726], [1, 1766, 32, 702, 188, 13, 92, 7582, 8, 209, 252]]\n",
            "target\n",
            "decoder  [[255, 1500, 363, 10, 3890, 2038, 3, 202, 913, 2], [270, 568, 5811, 4032, 6, 3487, 943, 634, 2], [785, 13, 4, 23, 2166, 2], [1240, 1704, 2224, 1368, 11, 174, 16, 1456, 4726, 2], [1766, 32, 702, 188, 13, 92, 7582, 8, 209, 252, 2]]\n"
          ]
        }
      ],
      "source": [
        "tar_vocab = 8000\n",
        "tar_tokenizer = Tokenizer(num_words = tar_vocab) \n",
        "tar_tokenizer.fit_on_texts(decoder_input_train)\n",
        "tar_tokenizer.fit_on_texts(decoder_target_train)\n",
        "\n",
        "# 텍스트 시퀀스를 정수 시퀀스로 변환\n",
        "decoder_input_train = tar_tokenizer.texts_to_sequences(decoder_input_train) \n",
        "decoder_target_train = tar_tokenizer.texts_to_sequences(decoder_target_train)\n",
        "decoder_input_test = tar_tokenizer.texts_to_sequences(decoder_input_test)\n",
        "decoder_target_test = tar_tokenizer.texts_to_sequences(decoder_target_test)\n",
        "\n",
        "#잘 변환되었는지 확인\n",
        "print('input')\n",
        "print('input ',decoder_input_train[:5])\n",
        "print('target')\n",
        "print('decoder ',decoder_target_train[:5])"
      ]
    },
    {
      "cell_type": "code",
      "execution_count": 38,
      "id": "f8a9b275",
      "metadata": {
        "colab": {
          "base_uri": "https://localhost:8080/"
        },
        "id": "f8a9b275",
        "outputId": "759b5185-153d-4346-9cba-e9a1e3657127"
      },
      "outputs": [
        {
          "output_type": "stream",
          "name": "stdout",
          "text": [
            "삭제할 훈련 데이터의 개수 : 1\n",
            "삭제할 테스트 데이터의 개수 : 0\n",
            "훈련 데이터의 개수 : 60603\n",
            "훈련 레이블의 개수 : 60603\n",
            "테스트 데이터의 개수 : 15150\n",
            "테스트 레이블의 개수 : 15150\n"
          ]
        },
        {
          "output_type": "stream",
          "name": "stderr",
          "text": [
            "/usr/local/lib/python3.7/dist-packages/numpy/core/_asarray.py:83: VisibleDeprecationWarning: Creating an ndarray from ragged nested sequences (which is a list-or-tuple of lists-or-tuples-or ndarrays with different lengths or shapes) is deprecated. If you meant to do this, you must specify 'dtype=object' when creating the ndarray\n",
            "  return array(a, dtype, copy=False, order=order)\n"
          ]
        }
      ],
      "source": [
        "# headline의 길이가 1인 경우(실제로는 길이가 0)의 인덱스를 저장해보자\n",
        "# 요약문의 길이가 1인 경우 삭제\n",
        "drop_train = [index for index, sentence in enumerate(decoder_input_train) if len(sentence) == 1]\n",
        "drop_test = [index for index, sentence in enumerate(decoder_input_test) if len(sentence) == 1]\n",
        "\n",
        "print('삭제할 훈련 데이터의 개수 :',len(drop_train))\n",
        "print('삭제할 테스트 데이터의 개수 :',len(drop_test))\n",
        "\n",
        "encoder_input_train = np.delete(encoder_input_train, drop_train, axis=0)\n",
        "decoder_input_train = np.delete(decoder_input_train, drop_train, axis=0)\n",
        "decoder_target_train = np.delete(decoder_target_train, drop_train, axis=0)\n",
        "\n",
        "encoder_input_test = np.delete(encoder_input_test, drop_test, axis=0)\n",
        "decoder_input_test = np.delete(decoder_input_test, drop_test, axis=0)\n",
        "decoder_target_test = np.delete(decoder_target_test, drop_test, axis=0)\n",
        "\n",
        "print('훈련 데이터의 개수 :', len(encoder_input_train))\n",
        "print('훈련 레이블의 개수 :',len(decoder_input_train))\n",
        "print('테스트 데이터의 개수 :',len(encoder_input_test))\n",
        "print('테스트 레이블의 개수 :',len(decoder_input_test))"
      ]
    },
    {
      "cell_type": "markdown",
      "id": "c7a9da70",
      "metadata": {
        "id": "c7a9da70"
      },
      "source": [
        "# 4-2. 패딩"
      ]
    },
    {
      "cell_type": "code",
      "execution_count": 39,
      "id": "8fb0889b",
      "metadata": {
        "id": "8fb0889b"
      },
      "outputs": [],
      "source": [
        "# post padding. 뒤의 공간에 숫자 0을 넣어준다\n",
        "# 아까 지정해주었던 최대 길이로 패딩.\n",
        "encoder_input_train = pad_sequences(encoder_input_train, maxlen = text_max_len, padding='post')\n",
        "encoder_input_test = pad_sequences(encoder_input_test, maxlen = text_max_len, padding='post')\n",
        "decoder_input_train = pad_sequences(decoder_input_train, maxlen = headline_max_len, padding='post')\n",
        "decoder_target_train = pad_sequences(decoder_target_train, maxlen = headline_max_len, padding='post')\n",
        "decoder_input_test = pad_sequences(decoder_input_test, maxlen = headline_max_len, padding='post')\n",
        "decoder_target_test = pad_sequences(decoder_target_test, maxlen = headline_max_len, padding='post')"
      ]
    },
    {
      "cell_type": "markdown",
      "id": "d340262b",
      "metadata": {
        "id": "d340262b"
      },
      "source": [
        "# 5. 모델 설계"
      ]
    },
    {
      "cell_type": "markdown",
      "id": "d2c476ba",
      "metadata": {
        "id": "d2c476ba"
      },
      "source": [
        "# 5-1. seq2seq"
      ]
    },
    {
      "cell_type": "code",
      "execution_count": 40,
      "id": "10d2b3a2",
      "metadata": {
        "colab": {
          "base_uri": "https://localhost:8080/"
        },
        "id": "10d2b3a2",
        "outputId": "c36cae65-0e75-489b-e263-eaf2a0915774"
      },
      "outputs": [
        {
          "output_type": "stream",
          "name": "stdout",
          "text": [
            "WARNING:tensorflow:Layer lstm will not use cuDNN kernels since it doesn't meet the criteria. It will use a generic GPU kernel as fallback when running on GPU.\n",
            "WARNING:tensorflow:Layer lstm_1 will not use cuDNN kernels since it doesn't meet the criteria. It will use a generic GPU kernel as fallback when running on GPU.\n",
            "WARNING:tensorflow:Layer lstm_2 will not use cuDNN kernels since it doesn't meet the criteria. It will use a generic GPU kernel as fallback when running on GPU.\n"
          ]
        }
      ],
      "source": [
        "from tensorflow.keras.layers import Input, LSTM, Embedding, Dense, Concatenate\n",
        "from tensorflow.keras.models import Model\n",
        "from tensorflow.keras.callbacks import EarlyStopping, ModelCheckpoint\n",
        "\n",
        "# 인코더 설계 시작\n",
        "embedding_dim = 128\n",
        "hidden_size = 256\n",
        "\n",
        "# 인코더\n",
        "encoder_inputs = Input(shape=(text_max_len,))\n",
        "\n",
        "# 인코더의 임베딩 층\n",
        "enc_emb = Embedding(src_vocab, embedding_dim)(encoder_inputs)\n",
        "\n",
        "# 인코더의 LSTM 1\n",
        "encoder_lstm1 = LSTM(hidden_size, return_sequences=True, return_state=True, dropout=0.4, recurrent_dropout = 0.4 )\n",
        "encoder_output1, state_h1, state_c1 = encoder_lstm1(enc_emb) \n",
        "\n",
        "# 인코더의 LSTM 2\n",
        "encoder_lstm2 = LSTM(hidden_size, return_sequences=True, return_state=True, dropout=0.4, recurrent_dropout=0.4)\n",
        "encoder_output2, state_h2, state_c2 = encoder_lstm2(encoder_output1)\n",
        "\n",
        "# 인코더의 LSTM 3\n",
        "encoder_lstm3 = LSTM(hidden_size, return_state=True, return_sequences=True, dropout=0.4, recurrent_dropout=0.4)\n",
        "encoder_outputs, state_h, state_c= encoder_lstm3(encoder_output2)"
      ]
    },
    {
      "cell_type": "code",
      "execution_count": 41,
      "id": "0784a1a3",
      "metadata": {
        "colab": {
          "base_uri": "https://localhost:8080/"
        },
        "id": "0784a1a3",
        "outputId": "86f971ae-cb89-417e-89a6-5b12da580803"
      },
      "outputs": [
        {
          "output_type": "stream",
          "name": "stdout",
          "text": [
            "WARNING:tensorflow:Layer lstm_3 will not use cuDNN kernels since it doesn't meet the criteria. It will use a generic GPU kernel as fallback when running on GPU.\n"
          ]
        }
      ],
      "source": [
        "# 디코더 설계\n",
        "\n",
        "decoder_inputs = Input(shape=(None,))\n",
        "\n",
        "# 디코더의 임베딩 층\n",
        "dec_emb_layer = Embedding(tar_vocab, embedding_dim)\n",
        "dec_emb = dec_emb_layer(decoder_inputs)\n",
        "\n",
        "# 디코더의 LSTM\n",
        "decoder_lstm = LSTM(hidden_size, return_sequences = True, return_state = True, dropout = 0.4, recurrent_dropout=0.2)\n",
        "decoder_outputs, _, _ = decoder_lstm(dec_emb, initial_state = [state_h, state_c])"
      ]
    },
    {
      "cell_type": "code",
      "execution_count": 42,
      "id": "6071790b",
      "metadata": {
        "colab": {
          "base_uri": "https://localhost:8080/"
        },
        "id": "6071790b",
        "outputId": "e25619c7-79d4-4b97-f514-80be8ef0cad0"
      },
      "outputs": [
        {
          "output_type": "stream",
          "name": "stdout",
          "text": [
            "Model: \"model\"\n",
            "__________________________________________________________________________________________________\n",
            " Layer (type)                   Output Shape         Param #     Connected to                     \n",
            "==================================================================================================\n",
            " input_1 (InputLayer)           [(None, 38)]         0           []                               \n",
            "                                                                                                  \n",
            " embedding (Embedding)          (None, 38, 128)      2240000     ['input_1[0][0]']                \n",
            "                                                                                                  \n",
            " lstm (LSTM)                    [(None, 38, 256),    394240      ['embedding[0][0]']              \n",
            "                                 (None, 256),                                                     \n",
            "                                 (None, 256)]                                                     \n",
            "                                                                                                  \n",
            " input_2 (InputLayer)           [(None, None)]       0           []                               \n",
            "                                                                                                  \n",
            " lstm_1 (LSTM)                  [(None, 38, 256),    525312      ['lstm[0][0]']                   \n",
            "                                 (None, 256),                                                     \n",
            "                                 (None, 256)]                                                     \n",
            "                                                                                                  \n",
            " embedding_1 (Embedding)        (None, None, 128)    1024000     ['input_2[0][0]']                \n",
            "                                                                                                  \n",
            " lstm_2 (LSTM)                  [(None, 38, 256),    525312      ['lstm_1[0][0]']                 \n",
            "                                 (None, 256),                                                     \n",
            "                                 (None, 256)]                                                     \n",
            "                                                                                                  \n",
            " lstm_3 (LSTM)                  [(None, None, 256),  394240      ['embedding_1[0][0]',            \n",
            "                                 (None, 256),                     'lstm_2[0][1]',                 \n",
            "                                 (None, 256)]                     'lstm_2[0][2]']                 \n",
            "                                                                                                  \n",
            " dense (Dense)                  (None, None, 8000)   2056000     ['lstm_3[0][0]']                 \n",
            "                                                                                                  \n",
            "==================================================================================================\n",
            "Total params: 7,159,104\n",
            "Trainable params: 7,159,104\n",
            "Non-trainable params: 0\n",
            "__________________________________________________________________________________________________\n"
          ]
        }
      ],
      "source": [
        "# 디코더의 출력층\n",
        "decoder_softmax_layer = Dense(tar_vocab, activation = 'softmax')\n",
        "decoder_softmax_outputs = decoder_softmax_layer(decoder_outputs) \n",
        "\n",
        "# 모델 정의\n",
        "model = Model([encoder_inputs, decoder_inputs], decoder_softmax_outputs)\n",
        "model.summary()"
      ]
    },
    {
      "cell_type": "markdown",
      "id": "473559c4",
      "metadata": {
        "id": "473559c4"
      },
      "source": [
        "# 5-2. 어텐션 매커니즘"
      ]
    },
    {
      "cell_type": "code",
      "execution_count": 43,
      "id": "474df24a",
      "metadata": {
        "id": "474df24a"
      },
      "outputs": [],
      "source": [
        "# 어텐션 함수 다운로드\n",
        "urllib.request.urlretrieve(\"https://raw.githubusercontent.com/thushv89/attention_keras/master/src/layers/attention.py\", filename=\"attention.py\")\n",
        "from attention import AttentionLayer"
      ]
    },
    {
      "cell_type": "code",
      "execution_count": 50,
      "id": "0746d359",
      "metadata": {
        "colab": {
          "base_uri": "https://localhost:8080/"
        },
        "id": "0746d359",
        "outputId": "1227c200-b232-49e3-ff0f-8370c4574bfb"
      },
      "outputs": [
        {
          "output_type": "stream",
          "name": "stdout",
          "text": [
            "Model: \"model_1\"\n",
            "__________________________________________________________________________________________________\n",
            " Layer (type)                   Output Shape         Param #     Connected to                     \n",
            "==================================================================================================\n",
            " input_1 (InputLayer)           [(None, 38)]         0           []                               \n",
            "                                                                                                  \n",
            " embedding (Embedding)          (None, 38, 128)      2240000     ['input_1[0][0]']                \n",
            "                                                                                                  \n",
            " lstm (LSTM)                    [(None, 38, 256),    394240      ['embedding[0][0]']              \n",
            "                                 (None, 256),                                                     \n",
            "                                 (None, 256)]                                                     \n",
            "                                                                                                  \n",
            " input_2 (InputLayer)           [(None, None)]       0           []                               \n",
            "                                                                                                  \n",
            " lstm_1 (LSTM)                  [(None, 38, 256),    525312      ['lstm[0][0]']                   \n",
            "                                 (None, 256),                                                     \n",
            "                                 (None, 256)]                                                     \n",
            "                                                                                                  \n",
            " embedding_1 (Embedding)        (None, None, 128)    1024000     ['input_2[0][0]']                \n",
            "                                                                                                  \n",
            " lstm_2 (LSTM)                  [(None, 38, 256),    525312      ['lstm_1[0][0]']                 \n",
            "                                 (None, 256),                                                     \n",
            "                                 (None, 256)]                                                     \n",
            "                                                                                                  \n",
            " lstm_3 (LSTM)                  [(None, None, 256),  394240      ['embedding_1[0][0]',            \n",
            "                                 (None, 256),                     'lstm_2[0][1]',                 \n",
            "                                 (None, 256)]                     'lstm_2[0][2]']                 \n",
            "                                                                                                  \n",
            " attention_layer (AdditiveAtten  (None, None, 256)   256         ['lstm_3[0][0]',                 \n",
            " tion)                                                            'lstm_2[0][0]']                 \n",
            "                                                                                                  \n",
            " concat_layer (Concatenate)     (None, None, 512)    0           ['lstm_3[0][0]',                 \n",
            "                                                                  'attention_layer[0][0]']        \n",
            "                                                                                                  \n",
            " dense_1 (Dense)                (None, None, 8000)   4104000     ['concat_layer[0][0]']           \n",
            "                                                                                                  \n",
            "==================================================================================================\n",
            "Total params: 9,207,360\n",
            "Trainable params: 9,207,360\n",
            "Non-trainable params: 0\n",
            "__________________________________________________________________________________________________\n"
          ]
        }
      ],
      "source": [
        "from tensorflow.keras.layers import AdditiveAttention\n",
        "\n",
        "# 어텐션 층(어텐션 함수)\n",
        "attn_layer = AdditiveAttention(name='attention_layer')\n",
        "\n",
        "# 인코더와 디코더의 모든 time step의 hidden state를 어텐션 층에 전달하고 결과를 리턴\n",
        "attn_out = attn_layer([decoder_outputs, encoder_outputs])\n",
        "\n",
        "\n",
        "# 어텐션의 결과와 디코더의 hidden state들을 연결\n",
        "decoder_concat_input = Concatenate(axis=-1, name='concat_layer')([decoder_outputs, attn_out])\n",
        "\n",
        "# 디코더의 출력층\n",
        "decoder_softmax_layer = Dense(tar_vocab, activation='softmax')\n",
        "decoder_softmax_outputs = decoder_softmax_layer(decoder_concat_input)\n",
        "\n",
        "# 모델 정의\n",
        "model = Model([encoder_inputs, decoder_inputs], decoder_softmax_outputs)\n",
        "model.summary()"
      ]
    },
    {
      "cell_type": "markdown",
      "id": "826be989",
      "metadata": {
        "id": "826be989"
      },
      "source": [
        "# 6. 모델 훈련"
      ]
    },
    {
      "cell_type": "code",
      "execution_count": 57,
      "id": "d5e4a92e",
      "metadata": {
        "colab": {
          "base_uri": "https://localhost:8080/"
        },
        "id": "d5e4a92e",
        "outputId": "f71e0eb2-a82a-4a74-a2bf-c0985a4ca6a7"
      },
      "outputs": [
        {
          "output_type": "stream",
          "name": "stdout",
          "text": [
            "Epoch 1/50\n",
            "237/237 [==============================] - 260s 882ms/step - loss: 5.3505 - val_loss: 5.0985\n",
            "Epoch 2/50\n",
            "237/237 [==============================] - 201s 849ms/step - loss: 5.0080 - val_loss: 4.8342\n",
            "Epoch 3/50\n",
            "237/237 [==============================] - 200s 846ms/step - loss: 4.7481 - val_loss: 4.6458\n",
            "Epoch 4/50\n",
            "237/237 [==============================] - 202s 853ms/step - loss: 4.5380 - val_loss: 4.4969\n",
            "Epoch 5/50\n",
            "237/237 [==============================] - 202s 854ms/step - loss: 4.3609 - val_loss: 4.3793\n",
            "Epoch 6/50\n",
            "237/237 [==============================] - 201s 849ms/step - loss: 4.2039 - val_loss: 4.2926\n",
            "Epoch 7/50\n",
            "237/237 [==============================] - 200s 846ms/step - loss: 4.0666 - val_loss: 4.2141\n",
            "Epoch 8/50\n",
            "237/237 [==============================] - 200s 844ms/step - loss: 3.9441 - val_loss: 4.1492\n",
            "Epoch 9/50\n",
            "237/237 [==============================] - 200s 843ms/step - loss: 3.8330 - val_loss: 4.0897\n",
            "Epoch 10/50\n",
            "237/237 [==============================] - 201s 847ms/step - loss: 3.7324 - val_loss: 4.0604\n",
            "Epoch 11/50\n",
            "237/237 [==============================] - 200s 843ms/step - loss: 3.6430 - val_loss: 4.0083\n",
            "Epoch 12/50\n",
            "237/237 [==============================] - 202s 853ms/step - loss: 3.5589 - val_loss: 3.9805\n",
            "Epoch 13/50\n",
            "237/237 [==============================] - 203s 855ms/step - loss: 3.4815 - val_loss: 3.9557\n",
            "Epoch 14/50\n",
            "237/237 [==============================] - 200s 845ms/step - loss: 3.4086 - val_loss: 3.9308\n",
            "Epoch 15/50\n",
            "237/237 [==============================] - 199s 840ms/step - loss: 3.3446 - val_loss: 3.9106\n",
            "Epoch 16/50\n",
            "237/237 [==============================] - 199s 840ms/step - loss: 3.2813 - val_loss: 3.9033\n",
            "Epoch 17/50\n",
            "237/237 [==============================] - 201s 850ms/step - loss: 3.2239 - val_loss: 3.8974\n",
            "Epoch 18/50\n",
            "237/237 [==============================] - 201s 847ms/step - loss: 3.1687 - val_loss: 3.8826\n",
            "Epoch 19/50\n",
            "237/237 [==============================] - 201s 847ms/step - loss: 3.1148 - val_loss: 3.8750\n",
            "Epoch 20/50\n",
            "237/237 [==============================] - 199s 842ms/step - loss: 3.0656 - val_loss: 3.8735\n",
            "Epoch 21/50\n",
            "237/237 [==============================] - 200s 845ms/step - loss: 3.0179 - val_loss: 3.8678\n",
            "Epoch 22/50\n",
            "237/237 [==============================] - 200s 846ms/step - loss: 2.9756 - val_loss: 3.8588\n",
            "Epoch 23/50\n",
            "237/237 [==============================] - 201s 847ms/step - loss: 2.9337 - val_loss: 3.8630\n",
            "Epoch 24/50\n",
            "237/237 [==============================] - 200s 845ms/step - loss: 2.8963 - val_loss: 3.8600\n",
            "Epoch 00024: early stopping\n"
          ]
        }
      ],
      "source": [
        "model.compile(optimizer='rmsprop', loss='sparse_categorical_crossentropy')\n",
        "es = EarlyStopping(monitor='val_loss', mode='min', verbose=1, patience = 2)\n",
        "history = model.fit(x = [encoder_input_train, decoder_input_train], y = decoder_target_train, \\\n",
        "          validation_data = ([encoder_input_test, decoder_input_test], decoder_target_test),\n",
        "          batch_size = 256, callbacks=[es], epochs = 50)"
      ]
    },
    {
      "cell_type": "code",
      "source": [
        "plt.plot(history.history['loss'], label='train')\n",
        "plt.plot(history.history['val_loss'], label='test')\n",
        "plt.legend()\n",
        "plt.show()"
      ],
      "metadata": {
        "colab": {
          "base_uri": "https://localhost:8080/",
          "height": 265
        },
        "id": "wX8eHZ_9VXrE",
        "outputId": "6a942b1d-4944-44ae-8865-8ae6c4e6848b"
      },
      "id": "wX8eHZ_9VXrE",
      "execution_count": 58,
      "outputs": [
        {
          "output_type": "display_data",
          "data": {
            "image/png": "[encoded data removed]",
            "text/plain": [
              "<Figure size 432x288 with 1 Axes>"
            ]
          },
          "metadata": {
            "needs_background": "light"
          }
        }
      ]
    },
    {
      "cell_type": "markdown",
      "source": [
        "# 7. 모델 테스트하기"
      ],
      "metadata": {
        "id": "KU1lmMhbVu_2"
      },
      "id": "KU1lmMhbVu_2"
    },
    {
      "cell_type": "markdown",
      "source": [
        "# 7-1. 인퍼런스 모델 구현"
      ],
      "metadata": {
        "id": "ZNtmXjPCVzA5"
      },
      "id": "ZNtmXjPCVzA5"
    },
    {
      "cell_type": "code",
      "source": [
        "# 인퍼런스 모델 구현\n",
        "src_index_to_word = src_tokenizer.index_word # 원문 단어 집합에서 정수 -> 단어를 얻음\n",
        "tar_word_to_index = tar_tokenizer.word_index # 요약 단어 집합에서 단어 -> 정수를 얻음\n",
        "tar_index_to_word = tar_tokenizer.index_word # 요약 단어 집합에서 정수 -> 단어를 얻음"
      ],
      "metadata": {
        "id": "rfGKsbloVXwU"
      },
      "id": "rfGKsbloVXwU",
      "execution_count": 59,
      "outputs": []
    },
    {
      "cell_type": "markdown",
      "source": [
        "# 7-2. 모델 설계"
      ],
      "metadata": {
        "id": "2MVdV6nnWiXu"
      },
      "id": "2MVdV6nnWiXu"
    },
    {
      "cell_type": "code",
      "source": [
        "# 인코더 설계\n",
        "encoder_model = Model(inputs=encoder_inputs, outputs=[encoder_outputs, state_h, state_c])\n",
        "\n",
        "# 이전 시점의 상태들을 저장하는 텐서\n",
        "decoder_state_input_h = Input(shape=(hidden_size,))\n",
        "decoder_state_input_c = Input(shape=(hidden_size,))\n",
        "\n",
        "dec_emb2 = dec_emb_layer(decoder_inputs)\n",
        "# 문장의 다음 단어를 예측하기 위해서 초기 상태(initial_state)를 이전 시점의 상태로 사용. 이는 뒤의 함수 decode_sequence()에 구현\n",
        "# 훈련 과정에서와 달리 LSTM의 리턴하는 은닉 상태와 셀 상태인 state_h와 state_c를 버리지 않음.\n",
        "decoder_outputs2, state_h2, state_c2 = decoder_lstm(dec_emb2, initial_state=[decoder_state_input_h, decoder_state_input_c])"
      ],
      "metadata": {
        "id": "WrDB-AnbVyMk"
      },
      "id": "WrDB-AnbVyMk",
      "execution_count": 60,
      "outputs": []
    },
    {
      "cell_type": "code",
      "source": [
        "# 어텐션 함수\n",
        "decoder_hidden_state_input = Input(shape=(text_max_len, hidden_size))\n",
        "attn_out_inf = attn_layer([decoder_outputs2, decoder_hidden_state_input])\n",
        "decoder_inf_concat = Concatenate(axis=-1, name='concat')([decoder_outputs2, attn_out_inf])\n",
        "\n",
        "# 디코더의 출력층\n",
        "decoder_outputs2 = decoder_softmax_layer(decoder_inf_concat) \n",
        "\n",
        "# 최종 디코더 모델\n",
        "decoder_model = Model(\n",
        "    [decoder_inputs] + [decoder_hidden_state_input,decoder_state_input_h, decoder_state_input_c],\n",
        "    [decoder_outputs2] + [state_h2, state_c2])"
      ],
      "metadata": {
        "id": "2V85KigtVXzG"
      },
      "id": "2V85KigtVXzG",
      "execution_count": 61,
      "outputs": []
    },
    {
      "cell_type": "code",
      "source": [
        "encoder_model.summary()"
      ],
      "metadata": {
        "colab": {
          "base_uri": "https://localhost:8080/"
        },
        "id": "gVQhAhnYVt7r",
        "outputId": "ee22044f-5f5d-45c7-c40b-870374618a69"
      },
      "id": "gVQhAhnYVt7r",
      "execution_count": 62,
      "outputs": [
        {
          "output_type": "stream",
          "name": "stdout",
          "text": [
            "Model: \"model_2\"\n",
            "_________________________________________________________________\n",
            " Layer (type)                Output Shape              Param #   \n",
            "=================================================================\n",
            " input_1 (InputLayer)        [(None, 38)]              0         \n",
            "                                                                 \n",
            " embedding (Embedding)       (None, 38, 128)           2240000   \n",
            "                                                                 \n",
            " lstm (LSTM)                 [(None, 38, 256),         394240    \n",
            "                              (None, 256),                       \n",
            "                              (None, 256)]                       \n",
            "                                                                 \n",
            " lstm_1 (LSTM)               [(None, 38, 256),         525312    \n",
            "                              (None, 256),                       \n",
            "                              (None, 256)]                       \n",
            "                                                                 \n",
            " lstm_2 (LSTM)               [(None, 38, 256),         525312    \n",
            "                              (None, 256),                       \n",
            "                              (None, 256)]                       \n",
            "                                                                 \n",
            "=================================================================\n",
            "Total params: 3,684,864\n",
            "Trainable params: 3,684,864\n",
            "Non-trainable params: 0\n",
            "_________________________________________________________________\n"
          ]
        }
      ]
    },
    {
      "cell_type": "code",
      "source": [
        "decoder_model.summary()"
      ],
      "metadata": {
        "colab": {
          "base_uri": "https://localhost:8080/"
        },
        "id": "4Fa8w9GEXCeC",
        "outputId": "cca93c63-0727-4b9c-be64-1cddb2f3a30c"
      },
      "id": "4Fa8w9GEXCeC",
      "execution_count": 63,
      "outputs": [
        {
          "output_type": "stream",
          "name": "stdout",
          "text": [
            "Model: \"model_3\"\n",
            "__________________________________________________________________________________________________\n",
            " Layer (type)                   Output Shape         Param #     Connected to                     \n",
            "==================================================================================================\n",
            " input_2 (InputLayer)           [(None, None)]       0           []                               \n",
            "                                                                                                  \n",
            " embedding_1 (Embedding)        (None, None, 128)    1024000     ['input_2[0][0]']                \n",
            "                                                                                                  \n",
            " input_3 (InputLayer)           [(None, 256)]        0           []                               \n",
            "                                                                                                  \n",
            " input_4 (InputLayer)           [(None, 256)]        0           []                               \n",
            "                                                                                                  \n",
            " lstm_3 (LSTM)                  [(None, None, 256),  394240      ['embedding_1[1][0]',            \n",
            "                                 (None, 256),                     'input_3[0][0]',                \n",
            "                                 (None, 256)]                     'input_4[0][0]']                \n",
            "                                                                                                  \n",
            " input_5 (InputLayer)           [(None, 38, 256)]    0           []                               \n",
            "                                                                                                  \n",
            " attention_layer (AdditiveAtten  (None, None, 256)   256         ['lstm_3[1][0]',                 \n",
            " tion)                                                            'input_5[0][0]']                \n",
            "                                                                                                  \n",
            " concat (Concatenate)           (None, None, 512)    0           ['lstm_3[1][0]',                 \n",
            "                                                                  'attention_layer[1][0]']        \n",
            "                                                                                                  \n",
            " dense_1 (Dense)                (None, None, 8000)   4104000     ['concat[0][0]']                 \n",
            "                                                                                                  \n",
            "==================================================================================================\n",
            "Total params: 5,522,496\n",
            "Trainable params: 5,522,496\n",
            "Non-trainable params: 0\n",
            "__________________________________________________________________________________________________\n"
          ]
        }
      ]
    },
    {
      "cell_type": "code",
      "source": [
        "def decode_sequence(input_seq):\n",
        "    # 입력으로부터 인코더의 상태를 얻음\n",
        "    e_out, e_h, e_c = encoder_model.predict(input_seq)\n",
        "\n",
        "     # <SOS>에 해당하는 토큰 생성\n",
        "    target_seq = np.zeros((1,1))\n",
        "    target_seq[0, 0] = tar_word_to_index['sostoken']\n",
        "\n",
        "    stop_condition = False\n",
        "    decoded_sentence = ''\n",
        "    while not stop_condition: # stop_condition이 True가 될 때까지 루프 반복\n",
        "\n",
        "        output_tokens, h, c = decoder_model.predict([target_seq] + [e_out, e_h, e_c])\n",
        "        sampled_token_index = np.argmax(output_tokens[0, -1, :])\n",
        "        sampled_token = tar_index_to_word[sampled_token_index]\n",
        "\n",
        "        if(sampled_token!='eostoken'):\n",
        "            decoded_sentence += ' '+sampled_token\n",
        "\n",
        "        #  <eos>에 도달하거나 최대 길이를 넘으면 중단.\n",
        "        if (sampled_token == 'eostoken'  or len(decoded_sentence.split()) >= (headline_max_len-1)):\n",
        "            stop_condition = True\n",
        "\n",
        "        # 길이가 1인 타겟 시퀀스를 업데이트\n",
        "        target_seq = np.zeros((1,1))\n",
        "        target_seq[0, 0] = sampled_token_index\n",
        "\n",
        "        # 상태를 업데이트 합니다.\n",
        "        e_h, e_c = h, c\n",
        "\n",
        "    return decoded_sentence"
      ],
      "metadata": {
        "id": "eTarpZAYVt-T"
      },
      "id": "eTarpZAYVt-T",
      "execution_count": 64,
      "outputs": []
    },
    {
      "cell_type": "markdown",
      "id": "066ff06c",
      "metadata": {
        "id": "066ff06c"
      },
      "source": [
        "# Step 4. 실제 결과와 요약문 비교하기 (추상적 요약)"
      ]
    },
    {
      "cell_type": "code",
      "execution_count": 65,
      "id": "21b2a95d",
      "metadata": {
        "id": "21b2a95d"
      },
      "outputs": [],
      "source": [
        "# 원문의 정수 시퀀스를 텍스트 시퀀스로 변환\n",
        "def seq2text(input_seq):\n",
        "    temp=''\n",
        "    for i in input_seq:\n",
        "        if (i!=0):\n",
        "            temp = temp + src_index_to_word[i]+' '\n",
        "    return temp\n",
        "\n",
        "# 요약문의 정수 시퀀스를 텍스트 시퀀스로 변환\n",
        "def seq2summary(input_seq):\n",
        "    temp=''\n",
        "    for i in input_seq:\n",
        "        if ((i!=0 and i!=tar_word_to_index['sostoken']) and i!=tar_word_to_index['eostoken']):\n",
        "            temp = temp + tar_index_to_word[i] + ' '\n",
        "    return temp"
      ]
    },
    {
      "cell_type": "code",
      "execution_count": 66,
      "id": "99733953",
      "metadata": {
        "colab": {
          "base_uri": "https://localhost:8080/"
        },
        "id": "99733953",
        "outputId": "d1dd14ac-2e6c-483a-8457-52d928000d7c"
      },
      "outputs": [
        {
          "output_type": "stream",
          "name": "stdout",
          "text": [
            "원문 : format letters taken wherein ordered keyboard avoided stop keys together invention keyboard attributed american inventor christopher reportedly aimed slow common letters hard reach spots \n",
            "실제 요약 : why are letters on in format \n",
            "예측 요약 :  the ipl has the new\n",
            "\n",
            "\n",
            "원문 : first official visit china british foreign secretary jeremy hunt mistakenly described chinese wife japanese however hunt quickly clarified wife chinese terrible mistake make hunt china bid strengthen trade ties country ahead brexit next year \n",
            "실제 요약 : uk foreign secy his chinese wife as japanese \n",
            "예측 요약 :  china denies china trade policies says chinese envoy\n",
            "\n",
            "\n",
            "원문 : filmmaker vikas bahl moved bombay high court crore defamation suit former phantom films partners anurag kashyap vikramaditya motwane bahl also sought direction hc restrain making statement media via social media bahl accused sexual harassment former employee phantom films \n",
            "실제 요약 : vikas bahl files cr defamation suit against anurag \n",
            "예측 요약 :  delhi court files complaint against ndtv over defamation\n",
            "\n",
            "\n",
            "원문 : man stabbed wife times knife home delhi wednesday morning alleged extra marital affair injured year old son tried save man wife died son stable receiving treatment hospital police searching accused absconding \n",
            "실제 요약 : man stabs wife times injures son who tried to save her \n",
            "예측 요약 :  delhi man kills wife for his daughter\n",
            "\n",
            "\n",
            "원문 : india banned use credit debit cards towards purchase trading cryptocurrencies like bitcoin said decision came following concerns expressed rbi regarding potential risks associated cryptocurrencies government said take measures eliminate use cryptocurrencies illegitimate activities declare illegal \n",
            "실제 요약 : india bans use of its cards to buy cryptocurrencies \n",
            "예측 요약 :  us bans crypto apps from us crypto\n",
            "\n",
            "\n",
            "원문 : local bjp leader agra booked allegedly sexually harassing police inspector wife victim school teacher also allegedly thrashed accused relatives approached police suffered partial hearing loss fracture arm husband claimed first time accused harassed \n",
            "실제 요약 : bjp leader booked for harassing police inspector wife \n",
            "예측 요약 :  bjp mp booked for assaulting minor student in up\n",
            "\n",
            "\n",
            "원문 : deforestation amazon reached highest level decade per official data released brazil government around square kilometres amazon destroyed august july data revealed citing satellite imagery brazil said illegal logging main factor behind increase deforestation \n",
            "실제 요약 : amazon hits highest level in yrs \n",
            "예측 요약 :  amazon among top of cr in revenue\n",
            "\n",
            "\n",
            "원문 : supreme court said cannot remain fact entry women years banned kerala sabarimala temple account menstruation bench said responding lawyer argued lord ayyappa right preserve status constitution \n",
            "실제 요약 : cannot be to ban on women entry to sabarimala sc \n",
            "예측 요약 :  sc slams sabarimala for women in sabarimala\n",
            "\n",
            "\n",
            "원문 : sanjeev shrivastava dubbed dancing uncle social media video dancing govinda song aap ke aa jane se went viral year old engineering professor said become dancer adding danced hundreds events free cost dance god gifted talent added shrivastava \n",
            "실제 요약 : who is the man dancing at wedding in viral video \n",
            "예측 요약 :  video shows dancing dancing dancing to dance in assam\n",
            "\n",
            "\n",
            "원문 : denying dating rumours bigg boss winner tv actress bigg boss contestant punjabi said dear friend added falls love anyone would happy let everyone know rumours started met party last year \n",
            "실제 요약 : is friend punjabi on dating rumours \n",
            "예측 요약 :  bigg boss contestant denies bigg boss\n",
            "\n",
            "\n",
            "원문 : gunmen disguised traditional singers opened fire restaurant mexico city killing five people injuring eight others officials said gunmen targeted city iconic plaza people gathered independence day celebrations gunmen fled motorcycles shooting \n",
            "실제 요약 : gunmen as singers kill in mexico \n",
            "예측 요약 :  uk police rescue people to kill terrorists\n",
            "\n",
            "\n",
            "원문 : us based researchers developed solar energy generate hydrogen seawater onto surface film material produces energy visible near infrared light wavelengths making least twice efficient current said researchers \n",
            "실제 요약 : hydrogen fuel from using solar power \n",
            "예측 요약 :  scientists make new device to detect water\n",
            "\n",
            "\n",
            "원문 : mexican state electoral body rejected applications male candidates tried registering transgender women country upcoming elections bid avoid gender quota known people born male identify mix gay thus recognised third gender \n",
            "실제 요약 : mexico blocks male politicians registered as transgender \n",
            "예측 요약 :  thailand to give gender neutral to transgender\n",
            "\n",
            "\n",
            "원문 : footballers jersey number scored combined goals fifa world cup shirt number france year old forward kylian mbapp scored goals among players jersey number players jersey number nine scored combined goals players jersey number seven \n",
            "실제 요약 : jersey no players scored most goals at fifa wc \n",
            "예측 요약 :  fan scores goals in wc final match scored in france\n",
            "\n",
            "\n",
            "원문 : accusing us israel involvement last week attack military parade killed people iran islamic revolutionary guard corps warned countries expect devastating response seen revenge regret done islamic revolutionary guard corps said \n",
            "실제 요약 : iran warns us israel of revenge after parade attack \n",
            "예측 요약 :  us state claims isis killed in syria\n",
            "\n",
            "\n",
            "원문 : aide reddy defeated post vishva hindu parishad international president pravin togadia quit organisation international working president years continue work welfare hindus said togadia also announced indefinite fast fulfilling demands hindus \n",
            "실제 요약 : quits vhp after aide loses president polls \n",
            "예측 요약 :  ex president to be sworn in india in years\n",
            "\n",
            "\n",
            "원문 : many teams nations independence seeking regions minority communities participating rebel world cup taking place london world football cup matches taking place non league grounds across uk capital teams include tibet united koreans japan among others \n",
            "실제 요약 : what is the rebel world cup taking place in london \n",
            "예측 요약 :  israel to host world cup ban on the world cup\n",
            "\n",
            "\n",
            "원문 : raj wheelchair bound international para athlete claimed slept floor train getting lower berth nagpur delhi garib rath suffers disability allotted upper berth coach reserved handicapped people approached authorities denied request forcing sleep floor \n",
            "실제 요약 : para athlete denied lower sleeps on train floor \n",
            "예측 요약 :  doctor who gave up train to train for hrs\n",
            "\n",
            "\n",
            "원문 : malaysia banned release country film touches islam matter grave concern malaysia muslim majority country said malaysia national film censorship board chairman abdul aziz film distributor malaysia expected appeal decision \n",
            "실제 요약 : malaysia bans padmaavat to of islam \n",
            "예측 요약 :  bans posters of religious religious\n",
            "\n",
            "\n",
            "원문 : stylist law revealed singer gown billboard awards filled tissues came huge box packed tissue paper whole thing real said wore floor length white gown plunging shoulder details awards \n",
            "실제 요약 : billboard gown was filled with \n",
            "예측 요약 :  the world cup was made by\n",
            "\n",
            "\n",
            "원문 : us mission turkey subsequently turkish mission us indefinitely suspended non immigrant visa services travel two countries security reasons comes us consulate employee arrested turkey last week suspicion links cleric turkey blames failed coup \n",
            "실제 요약 : us turkey suspend visa services in for move \n",
            "예측 요약 :  us embassy to sue us embassy for us embassy\n",
            "\n",
            "\n",
            "원문 : us president donald trump monday started first full cabinet meeting praising first days claimed country never president things trump followed cabinet members praised thanked giving opportunity blessing serve agenda \n",
            "실제 요약 : trump praises himself in first full cabinet meeting \n",
            "예측 요약 :  trump to visit us president for summit\n",
            "\n",
            "\n",
            "원문 : indian institute technology bombay withdrawn decision banning non vegetarian food cafe campus institute said move taken concerns food safety however notice issued contractor cafe stated people raised objections serving non vegetarian food cafe \n",
            "실제 요약 : iit bombay withdraws decision banning non veg in campus cafe \n",
            "예측 요약 :  iit bombay bans food food from food regulator\n",
            "\n",
            "\n",
            "원문 : international cricket council introduced system demerit points september punish players misconduct field per level offence player awarded demerit points remain valid months date imposition points lead suspensions matches depending upon number points accumulated \n",
            "실제 요약 : how does icc system for players work \n",
            "예측 요약 :  aus team to be used to play in test\n",
            "\n",
            "\n",
            "원문 : punjab haryana high court tuesday granted bail two men accused cutting plants plant condition plant saplings apart bail surety bonds court directed pay two men pay maintenance expenses saplings two years \n",
            "실제 요약 : hc grants bail to two on promise of saplings \n",
            "예측 요약 :  hc orders bail to bail in gurugram for bail\n",
            "\n",
            "\n",
            "원문 : priyanka chopra served notice brihanmumbai municipal corporation illegal construction office andheri west well another adjoining commercial owners occupants asked remove illegal constructions restore original structure fail demolish illegal construction official said \n",
            "실제 요약 : priyanka chopra gets bmc notice over illegal construction \n",
            "예측 요약 :  priyanka to ban in jail for not liquor in jail\n",
            "\n",
            "\n",
            "원문 : local bjp leader pandey along three security guards arrested allegedly planning free maoists division jail jharkhand pandey allegedly paid lakh advance police said plan jump prison wall trigger blast maoists way court \n",
            "실제 요약 : jharkhand bjp leader plans to free maoists held \n",
            "예측 요약 :  bjp leader arrested for lynching in assam\n",
            "\n",
            "\n",
            "원문 : malaysia newly elected pm mahathir mohamad said jailed politician anwar ibrahim granted full pardon country monarch mahathir election pledge handing power anwar also said released immediately free participate fully politics anwar jailed charges corruption \n",
            "실제 요약 : jailed malaysian leader ibrahim to get royal \n",
            "예측 요약 :  uk pm may be charged with anti corruption\n",
            "\n",
            "\n",
            "원문 : year old boy reportedly stood kerala deputy commissioner police chandra indiscriminate lathicharge people protesting opening lpg plant hit boy said hearing human rights commission chandra first denied using force justified saying pm visit next day \n",
            "실제 요약 : yr old senior kerala cop claim \n",
            "예측 요약 :  kerala teen kills self after being hit by water\n",
            "\n",
            "\n",
            "원문 : tesla ceo elon musk thursday said high weed tweeted considering taking tesla private funding secured august musk added saw tweet attempt transparency earlier american rapper banks claimed musk tweeted high acid \n",
            "실제 요약 : was not on weed when tweeted funding secured elon musk \n",
            "예측 요약 :  tesla is not to buy tesla says elon musk\n",
            "\n",
            "\n",
            "원문 : users claimed apple iphone xs iphone xs max models start charging screen would leave phone alone seconds pick charging symbol user said users also claimed ensure screen lightning cables charging begin \n",
            "실제 요약 : iphone max facing charging issues claim users \n",
            "예측 요약 :  apple to launch iphone iphone in next year\n",
            "\n",
            "\n",
            "원문 : actress priyanka chopra took social media share old picture parents late ashok chopra madhu chopra wrote daddy baby would never seen picture sketch behind us made dad besides surgeon extremely creative man added \n",
            "실제 요약 : had never seen this picture until now priyanka on old pic \n",
            "예측 요약 :  priyanka shares video of priyanka nick sister\n",
            "\n",
            "\n",
            "원문 : former french president nicolas taken police custody allegations received funding election campaign regime late libyan dictator muammar gaddafi officials said allegedly received million libyan leader fund campaign denied accepting funding libyan regime \n",
            "실제 요약 : ex french prez held over links to \n",
            "예측 요약 :  ex cia chief chief aide charged with corruption\n",
            "\n",
            "\n",
            "원문 : according reports sushant singh rajput turned fairness cream despite offered crore feels needs responsible kind products face said source talking actors endorsing fairness creams sushant earlier said endorse prefer one skin tone another \n",
            "실제 요약 : sushant turns down cr cream report \n",
            "예측 요약 :  sushant singh is paid crore in\n",
            "\n",
            "\n",
            "원문 : congress leader siddaramaiah alleged bjp approached congress mlas karnataka offers crore comes three congress mlas turn congress legislature party meeting held friday pm narendra modi amit shah involved process government come chowkidar much money siddaramaiah said \n",
            "실제 요약 : bjp approached our mlas with crore siddaramaiah \n",
            "예측 요약 :  congress jd mlas to taka cm over taka polls\n",
            "\n",
            "\n",
            "원문 : th anniversary terror attacks killed nearly people us ambassador afghanistan said country never allow militants use afghanistan sanctuary us toppled afghanistan taliban government attacks committed military open ended campaign militant group afghanistan \n",
            "실제 요약 : afghanistan will never again be militant us \n",
            "예측 요약 :  us is the of isis in afghanistan\n",
            "\n",
            "\n",
            "원문 : triple talaq case supreme court originated petition filed case divorce husband given divorce sent parents place petitioned court ban triple talaq polygamy \n",
            "실제 요약 : who is woman behind triple talaq case in sc \n",
            "예측 요약 :  sc asks triple talaq to triple talaq\n",
            "\n",
            "\n",
            "원문 : composer said composer survived long took bollywood music hollywood speaking song baba featuring video hollywood film guardians galaxy added probably first indian composer five consecutive songs five hollywood films \n",
            "실제 요약 : only survived so long and took our music to wood \n",
            "예측 요약 :  teaser of doing star wars released\n",
            "\n",
            "\n",
            "원문 : instagram post winning miss universe sushmita sen wrote india miss universe first time st may still miss universe inside sushmita added celebrates day india philippines considers second home country hosted miss universe \n",
            "실제 요약 : still miss with universe in me sushmita on yrs of win \n",
            "예측 요약 :  miss india to miss universe on th anniversary\n",
            "\n",
            "\n",
            "원문 : retail chain tesco opened believed world first virtual reality store seoul south korea customers required scan products displayed screens subway station items later delivered items including food electronics offered virtual store \n",
            "실제 요약 : world first virtual reality shop opened in korea in \n",
            "예측 요약 :  world first robot to detect its first ever\n",
            "\n",
            "\n",
            "원문 : chris evans said final line spoke captain america upcoming film avengers really stupid something really dumb also probably cannot give away might line paul chris added line memorable day memorable line chris said \n",
            "실제 요약 : my final line as captain america is really stupid chris \n",
            "예측 요약 :  am not really good much because of the world manushi\n",
            "\n",
            "\n",
            "원문 : five hospitals across delhi designated treat burn patients recorded decline number people came emergency department diwali hospitals reported total burn cases thursday compared cases received last year safdarjung hospital received patients amongst five hospitals \n",
            "실제 요약 : delhi hospitals see decline in burn injuries on diwali \n",
            "예측 요약 :  doctors die in mumbai doctors go to patients\n",
            "\n",
            "\n",
            "원문 : group activists organised beef festival aizawl monday union home minister rajnath singh visited mizoram hold meeting chief ministers states sharing borders myanmar security arrangement rajnath visit aizawl also wake beef festival organised group activists \n",
            "실제 요약 : beef festival organised in as rajnath visits mizoram \n",
            "예측 요약 :  rajnath singh rajnath singh to attend protest in\n",
            "\n",
            "\n",
            "원문 : according reports bajrangi bhaijaan actress alka kaushal sentenced two years jail cheque case alka mother borrowed lakh returned two cheques lakh bounced reports suggest alka given jail sentence filed petition court \n",
            "실제 요약 : actress sentenced to yrs in jail report \n",
            "예측 요약 :  md wife jailed for yrs for sexual misconduct\n",
            "\n",
            "\n",
            "원문 : kerala high court scrapped wedding muslim man hindu woman labelled case love jihad term used describe alleged islamist practice convert hindu women man moved supreme court terming hc order insult independence women india \n",
            "실제 요약 : kerala hc scraps wedding of muslim man to hindu woman \n",
            "예측 요약 :  kerala woman to marry hindu woman who hindu woman\n",
            "\n",
            "\n",
            "원문 : india petroleum dealers association deferred call nationwide purchase sale july august association said traders losses rollout dynamic pricing system rates petrol diesel change daily basis notably daily price revision fuel began june \n",
            "실제 요약 : petrol dealers no purchase no sale call till aug \n",
            "예측 요약 :  govt to cut tax on petrol prices in india\n",
            "\n",
            "\n",
            "원문 : saudi arabia preparing report would admit saudi journalist jamal khashoggi disappeared october killed result interrogation went wrong cnn reported citing two unnamed sources source said report would likely conclude operation carried without clearance involved held responsible \n",
            "실제 요약 : saudi preparing to admit journo killed during probe report \n",
            "예측 요약 :  saudi journo journo killing saudi journo report\n",
            "\n",
            "\n",
            "원문 : picture whale hugging fur seal went viral reddit social media revealed digital artwork ukrainian artist specialises surreal photography marine biologist explained could never happen real life two animal species pictured reside opposite sides earth \n",
            "실제 요약 : fake image of whale and seal hugging each other goes viral \n",
            "예측 요약 :  video shows dancing with their own photo goes viral\n",
            "\n",
            "\n",
            "원문 : israeli pm benjamin netanyahu sunday announced international agreement deport african asylum seekers country infiltrators option imprisoned leave country public security ministry said statement asylum seekers israel mostly came sudan early \n",
            "실제 요약 : israel to deport african asylum seekers \n",
            "예측 요약 :  israel pm netanyahu to migrants in israel\n",
            "\n",
            "\n",
            "원문 : comedian kapil sharma accused sunil grover spreading rumours lying getting call former new show family time kapil sharma called times came house meet twice kapil tweeted sunil earlier said waiting call join show \n",
            "실제 요약 : kapil sharma accuses sunil grover of lying spreading rumours \n",
            "예측 요약 :  kapil sharma denies rumours of his comedian kapil sharma show\n",
            "\n",
            "\n"
          ]
        }
      ],
      "source": [
        "for i in range(30, 80):\n",
        "    print(\"원문 :\", seq2text(encoder_input_test[i]))\n",
        "    print(\"실제 요약 :\", seq2summary(decoder_input_test[i]))\n",
        "    print(\"예측 요약 :\", decode_sequence(encoder_input_test[i].reshape(1, text_max_len)))\n",
        "    print(\"\\n\")"
      ]
    },
    {
      "cell_type": "markdown",
      "id": "87899967",
      "metadata": {
        "id": "87899967"
      },
      "source": [
        "# Step 5. Summa을 이용해서 추출적 요약해보기"
      ]
    },
    {
      "cell_type": "code",
      "source": [
        "! pip install summa"
      ],
      "metadata": {
        "colab": {
          "base_uri": "https://localhost:8080/"
        },
        "id": "cOScjY5fZiv6",
        "outputId": "276959e6-5690-407c-d6ba-1a9cf37fa0c2"
      },
      "id": "cOScjY5fZiv6",
      "execution_count": 73,
      "outputs": [
        {
          "output_type": "stream",
          "name": "stdout",
          "text": [
            "Collecting summa\n",
            "  Downloading summa-1.2.0.tar.gz (54 kB)\n",
            "\u001b[?25l\r\u001b[K     |██████                          | 10 kB 16.8 MB/s eta 0:00:01\r\u001b[K     |████████████                    | 20 kB 16.6 MB/s eta 0:00:01\r\u001b[K     |██████████████████              | 30 kB 10.6 MB/s eta 0:00:01\r\u001b[K     |███████████████████████▉        | 40 kB 8.8 MB/s eta 0:00:01\r\u001b[K     |█████████████████████████████▉  | 51 kB 8.1 MB/s eta 0:00:01\r\u001b[K     |████████████████████████████████| 54 kB 1.9 MB/s \n",
            "\u001b[?25hRequirement already satisfied: scipy>=0.19 in /usr/local/lib/python3.7/dist-packages (from summa) (1.4.1)\n",
            "Requirement already satisfied: numpy>=1.13.3 in /usr/local/lib/python3.7/dist-packages (from scipy>=0.19->summa) (1.19.5)\n",
            "Building wheels for collected packages: summa\n",
            "  Building wheel for summa (setup.py) ... \u001b[?25l\u001b[?25hdone\n",
            "  Created wheel for summa: filename=summa-1.2.0-py3-none-any.whl size=54412 sha256=f6102bb5f0a8d518a6fdc3ca3de9b63a86a43589a835b4c4e4f0da035d62e748\n",
            "  Stored in directory: /root/.cache/pip/wheels/29/64/ac/7b443477588d365ef37ada30d456bdf5f07dc5be9f6324cb6e\n",
            "Successfully built summa\n",
            "Installing collected packages: summa\n",
            "Successfully installed summa-1.2.0\n"
          ]
        }
      ]
    },
    {
      "cell_type": "code",
      "execution_count": 75,
      "id": "5a637c70",
      "metadata": {
        "id": "5a637c70"
      },
      "outputs": [],
      "source": [
        "import requests\n",
        "from summa.summarizer import summarize"
      ]
    },
    {
      "cell_type": "code",
      "execution_count": 78,
      "id": "e50e9259",
      "metadata": {
        "id": "e50e9259"
      },
      "outputs": [],
      "source": [
        "urllib.request.urlretrieve(\"https://raw.githubusercontent.com/sunnysai12345/News_Summary/master/news_summary_more.csv\", filename=\"news_summary_more.csv\")\n",
        "data = pd.read_csv('news_summary_more.csv', encoding='iso-8859-1')"
      ]
    },
    {
      "cell_type": "code",
      "source": [
        "text = data['text']\n",
        "text[0]"
      ],
      "metadata": {
        "colab": {
          "base_uri": "https://localhost:8080/",
          "height": 53
        },
        "id": "VjWmTFa9biy_",
        "outputId": "c3db2d03-3532-4625-e5b3-70dd94941d1d"
      },
      "id": "VjWmTFa9biy_",
      "execution_count": 79,
      "outputs": [
        {
          "output_type": "execute_result",
          "data": {
            "application/vnd.google.colaboratory.intrinsic+json": {
              "type": "string"
            },
            "text/plain": [
              "\"Saurav Kant, an alumnus of upGrad and IIIT-B's PG Program in Machine learning and Artificial Intelligence, was a Sr Systems Engineer at Infosys with almost 5 years of work experience. The program and upGrad's 360-degree career support helped him transition to a Data Scientist at Tech Mahindra with 90% salary hike. upGrad's Online Power Learning has powered 3 lakh+ careers.\""
            ]
          },
          "metadata": {},
          "execution_count": 79
        }
      ]
    },
    {
      "cell_type": "code",
      "source": [
        "print('Summary:')\n",
        "print(summarize(text[0], words=5))"
      ],
      "metadata": {
        "colab": {
          "base_uri": "https://localhost:8080/"
        },
        "id": "Wc1EJ5eobi4m",
        "outputId": "7d505d6d-2d1f-403e-e9a2-1e3ffad2ccda"
      },
      "id": "Wc1EJ5eobi4m",
      "execution_count": 80,
      "outputs": [
        {
          "output_type": "stream",
          "name": "stdout",
          "text": [
            "Summary:\n",
            "upGrad's Online Power Learning has powered 3 lakh+ careers.\n"
          ]
        }
      ]
    },
    {
      "cell_type": "code",
      "source": [
        "# 리스트로 출력결과 받기\n",
        "print('Summary:')\n",
        "print(summarize(text[0], ratio=0.4, split=True))"
      ],
      "metadata": {
        "colab": {
          "base_uri": "https://localhost:8080/"
        },
        "id": "LS10mUMzbmHN",
        "outputId": "71b9531c-c3f1-4633-8531-065124bae88d"
      },
      "id": "LS10mUMzbmHN",
      "execution_count": 81,
      "outputs": [
        {
          "output_type": "stream",
          "name": "stdout",
          "text": [
            "Summary:\n",
            "[\"upGrad's Online Power Learning has powered 3 lakh+ careers.\"]\n"
          ]
        }
      ]
    },
    {
      "cell_type": "code",
      "source": [
        "headlines = []\n",
        "for i in range(len(text)):\n",
        "    headline = summarize(text[i], ratio=0.4)\n",
        "    headlines.append(headline)"
      ],
      "metadata": {
        "id": "BjW9KLpSbmJw"
      },
      "id": "BjW9KLpSbmJw",
      "execution_count": 82,
      "outputs": []
    },
    {
      "cell_type": "code",
      "source": [
        "headlines[:5]"
      ],
      "metadata": {
        "colab": {
          "base_uri": "https://localhost:8080/"
        },
        "id": "SEUdZSlSbmMV",
        "outputId": "31cff135-85b3-4833-f891-79d46c7fdee1"
      },
      "id": "SEUdZSlSbmMV",
      "execution_count": 83,
      "outputs": [
        {
          "output_type": "execute_result",
          "data": {
            "text/plain": [
              "[\"upGrad's Online Power Learning has powered 3 lakh+ careers.\",\n",
              " 'Users get one CRED coin per rupee of bill paid, which can be used to avail rewards from brands like Ixigo, BookMyShow, UberEats, Cult.Fit and more.',\n",
              " 'The match witnessed India getting all out for 92, their seventh lowest total in ODI cricket history.',\n",
              " 'Also, customers have options to insure against Critical Illnesses, Disability and Accidental Death Benefit Rider with a life cover up to the age of 80 years.',\n",
              " 'Speaking about the sexual harassment allegations against Rajkumar Hirani, Sonam Kapoor said, \"I\\'ve known Hirani for many years...What if it\\'s not true, the [#MeToo] movement will get derailed.\" \"In the #MeToo movement, I always believe a woman.']"
            ]
          },
          "metadata": {},
          "execution_count": 83
        }
      ]
    },
    {
      "cell_type": "code",
      "execution_count": 84,
      "id": "9dc71438",
      "metadata": {
        "colab": {
          "base_uri": "https://localhost:8080/"
        },
        "id": "9dc71438",
        "outputId": "49df9afe-cc90-4fb9-8878-56431f0c52e6"
      },
      "outputs": [
        {
          "output_type": "stream",
          "name": "stdout",
          "text": [
            "원문     : Saurav Kant, an alumnus of upGrad and IIIT-B's PG Program in Machine learning and Artificial Intelligence, was a Sr Systems Engineer at Infosys with almost 5 years of work experience. The program and upGrad's 360-degree career support helped him transition to a Data Scientist at Tech Mahindra with 90% salary hike. upGrad's Online Power Learning has powered 3 lakh+ careers.\n",
            "실제 요약 : upGrad learner switches to career in ML & Al with 90% salary hike\n",
            "예측 요약 : upGrad's Online Power Learning has powered 3 lakh+ careers.\n",
            "\n",
            "\n",
            "원문     : Kunal Shah's credit card bill payment platform, CRED, gave users a chance to win free food from Swiggy for one year. Pranav Kaushik, a Delhi techie, bagged this reward after spending 2000 CRED coins. Users get one CRED coin per rupee of bill paid, which can be used to avail rewards from brands like Ixigo, BookMyShow, UberEats, Cult.Fit and more.\n",
            "실제 요약 : Delhi techie wins free food from Swiggy for one year on CRED\n",
            "예측 요약 : Users get one CRED coin per rupee of bill paid, which can be used to avail rewards from brands like Ixigo, BookMyShow, UberEats, Cult.Fit and more.\n",
            "\n",
            "\n",
            "원문     : New Zealand defeated India by 8 wickets in the fourth ODI at Hamilton on Thursday to win their first match of the five-match ODI series. India lost an international match under Rohit Sharma's captaincy after 12 consecutive victories dating back to March 2018. The match witnessed India getting all out for 92, their seventh lowest total in ODI cricket history.\n",
            "실제 요약 : New Zealand end Rohit Sharma-led India's 12-match winning streak\n",
            "예측 요약 : The match witnessed India getting all out for 92, their seventh lowest total in ODI cricket history.\n",
            "\n",
            "\n",
            "원문     : With Aegon Life iTerm Insurance plan, customers can enjoy tax benefits on your premiums paid and save up to Ã¢ÂÂ¹46,800^ on taxes. The plan provides life cover up to the age of 100 years. Also, customers have options to insure against Critical Illnesses, Disability and Accidental Death Benefit Rider with a life cover up to the age of 80 years.\n",
            "실제 요약 : Aegon life iTerm insurance plan helps customers save tax\n",
            "예측 요약 : Also, customers have options to insure against Critical Illnesses, Disability and Accidental Death Benefit Rider with a life cover up to the age of 80 years.\n",
            "\n",
            "\n",
            "원문     : Speaking about the sexual harassment allegations against Rajkumar Hirani, Sonam Kapoor said, \"I've known Hirani for many years...What if it's not true, the [#MeToo] movement will get derailed.\" \"In the #MeToo movement, I always believe a woman. But in this case, we need to reserve our judgment,\" she added. Hirani has been accused by an assistant who worked in 'Sanju'.\n",
            "실제 요약 : Have known Hirani for yrs, what if MeToo claims are not true: Sonam\n",
            "예측 요약 : \n",
            "\n",
            "\n",
            "원문     : Pakistani singer Rahat Fateh Ali Khan has denied receiving any notice from the Enforcement Directorate over allegedly smuggling foreign currency out of India. \"It would have been better if the authorities would have served the notice first if any and then publicised this,\" reads a press release issued on behalf of Rahat. The statement further called the allegation \"bizarre\".\n",
            "실제 요약 : Rahat Fateh Ali Khan denies getting notice for smuggling currency\n",
            "예측 요약 : Pakistani singer Rahat Fateh Ali Khan has denied receiving any notice from the Enforcement Directorate over allegedly smuggling foreign currency out of India.\n",
            "\n",
            "\n",
            "원문     : India recorded their lowest ODI total in New Zealand after getting all out for 92 runs in 30.5 overs in the fourth ODI at Hamilton on Thursday. Seven of India's batsmen were dismissed for single-digit scores, while their number ten batsman Yuzvendra Chahal top-scored with 18*(37). India's previous lowest ODI total in New Zealand was 108.\n",
            "실제 요약 : India get all out for 92, their lowest ODI total in New Zealand\n",
            "예측 요약 : India's previous lowest ODI total in New Zealand was 108.\n",
            "\n",
            "\n",
            "원문     : Weeks after ex-CBI Director Alok Verma told the Department of Personnel and Training to consider him retired, the Home Ministry asked him to join work on the last day of his fixed tenure as Director on Thursday. The ministry directed him to immediately join as DG, Fire Services, the post he was transferred to after his removal as CBI chief.\n",
            "실제 요약 : Govt directs Alok Verma to join work 1 day before his retirement\n",
            "예측 요약 : \n",
            "\n",
            "\n",
            "원문     : Andhra Pradesh CM N Chandrababu Naidu has said, \"When I met then US President Bill Clinton, I addressed him as Mr Clinton, not as 'sir'. (PM Narendra) Modi is my junior in politics...I addressed him as sir 10 times.\" \"I did this...to satisfy his ego in the hope that he will do justice to the state,\" he added.\n",
            "실제 요약 : Called PM Modi 'sir' 10 times to satisfy his ego: Andhra CM\n",
            "예측 요약 : Andhra Pradesh CM N Chandrababu Naidu has said, \"When I met then US President Bill Clinton, I addressed him as Mr Clinton, not as 'sir'.\n",
            "\n",
            "\n",
            "원문     : Congress candidate Shafia Zubair won the Ramgarh Assembly seat in Rajasthan, by defeating BJP's Sukhwant Singh with a margin of 12,228 votes in the bypoll. With this victory, Congress has taken its total to 100 seats in the 200-member assembly. The election to the Ramgarh seat was delayed due to the death of sitting MLA and BSP candidate Laxman Singh.\n",
            "실제 요약 : Cong wins Ramgarh bypoll in Rajasthan, takes total to 100 seats\n",
            "예측 요약 : Congress candidate Shafia Zubair won the Ramgarh Assembly seat in Rajasthan, by defeating BJP's Sukhwant Singh with a margin of 12,228 votes in the bypoll.\n",
            "\n",
            "\n"
          ]
        }
      ],
      "source": [
        "for i in range(10):\n",
        "    print('원문     : {}'.format(summa_data['text'][i]))\n",
        "    print('실제 요약 : {}'.format(summa_data['headlines'][i]))\n",
        "    print('예측 요약 : {}'.format(summarize(summa_data['text'][i], words=15)))\n",
        "    print('\\n')"
      ]
    },
    {
      "cell_type": "markdown",
      "source": [
        "# 추출적 요약(Extractive Summarization)과 추상적 요약(Abstractive Summarization)의 비교\n",
        "\n",
        "- Summa 패키지를 활용한 추출적 요약을 보면 핵심 단어를 포함하지 않거나 문법적으로 어색한 문장이 많다. 그리고 빈 문장이 나오는 경우도 있다.\n",
        "- 어텐션 모델을 활용한 추상적 요약은 추출적 요약에 비해 핵심 단어를 꽤 포함하고 있고 문법적으로 덜 어색한 문장들이 있다. 완벽한 문장까지는 아닌 것 같다.\n",
        "- 결론은 둘 다 자연스러운 문장으로 요약하지는 못했고 어텐션 모델을 활용한 추상적 요약이 비교적 나은 것을 확인 할 수 있었다."
      ],
      "metadata": {
        "id": "V56p0MMGAV4F"
      },
      "id": "V56p0MMGAV4F"
    },
    {
      "cell_type": "markdown",
      "source": [
        "# 회고\n",
        "- 이번 프로젝트에서 어텐션 메커니즘을 활용한 뉴스 요약을 진행했다. 처음 모델을 만들어 학습시킨 결과, 문법이 많이 어색한 문장들이 나와서 max len과 단어집합의 크기를 조정했더니 헤드라인과 비슷한 단어들을 포함한 문장을 만들 수 있었다.\n",
        "- 추상적 요약뿐만 아니라 Summa를 이용한 추출적 요약도 했는데 정확한 헤드라인을 뽑아내지는 못하는 것 같다. 그렇지만 추상적 요약보다는 문법적으로 어색하지 않고 중복되지 않은 헤드라인을 만들 수 있었다.\n",
        "- 학습 시간이 오래 걸려서 다양한 시도를 못해본게 아쉽다. Colab에서 TPU를 이용해서 모델 학습을 해보면 좋을 것 같다.\n",
        "\n",
        "\n"
      ],
      "metadata": {
        "id": "8PwVPXa1g6ML"
      },
      "id": "8PwVPXa1g6ML"
    }
  ],
  "metadata": {
    "kernelspec": {
      "display_name": "Python 3 (ipykernel)",
      "language": "python",
      "name": "python3"
    },
    "language_info": {
      "codemirror_mode": {
        "name": "ipython",
        "version": 3
      },
      "file_extension": ".py",
      "mimetype": "text/x-python",
      "name": "python",
      "nbconvert_exporter": "python",
      "pygments_lexer": "ipython3",
      "version": "3.9.7"
    },
    "colab": {
      "name": "[E-8]news_summarization.ipynb",
      "provenance": [],
      "collapsed_sections": [
        "8cb2535a",
        "ebd88b2b",
        "d340262b"
      ]
    },
    "accelerator": "GPU"
  },
  "nbformat": 4,
  "nbformat_minor": 5
}