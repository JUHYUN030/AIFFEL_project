{
 "cells": [
  {
   "cell_type": "markdown",
   "id": "d29d7489",
   "metadata": {},
   "source": [
    "# 프로젝트 - Movielens 영화 SBR"
   ]
  },
  {
   "cell_type": "markdown",
   "id": "e30ae79e",
   "metadata": {},
   "source": [
    "# 데이터\n",
    "- Movielens 1M Dataset\n",
    "- 약 3,900편의 영화에 대한 1,000,209개의 익명 등급이 포함\n",
    "- 데이터 요약 : https://files.grouplens.org/datasets/movielens/ml-1m-README.txt"
   ]
  },
  {
   "cell_type": "markdown",
   "id": "0b4e1773",
   "metadata": {},
   "source": [
    "# 1. 데이터의 전처리\n",
    "# 1-1. Data Load"
   ]
  },
  {
   "cell_type": "code",
   "execution_count": 1,
   "id": "b023efb9",
   "metadata": {},
   "outputs": [
    {
     "name": "stdout",
     "output_type": "stream",
     "text": [
      "1.3.3\n",
      "2.6.0\n"
     ]
    }
   ],
   "source": [
    "import datetime as dt\n",
    "from pathlib import Path\n",
    "import os\n",
    "\n",
    "import numpy as np\n",
    "import pandas as pd\n",
    "import matplotlib.pyplot as plt\n",
    "import warnings\n",
    "warnings.filterwarnings('ignore')\n",
    "\n",
    "import pandas\n",
    "import tensorflow\n",
    "\n",
    "print(pandas.__version__)\n",
    "print(tensorflow.__version__)"
   ]
  },
  {
   "cell_type": "code",
   "execution_count": 2,
   "id": "c1b5e466",
   "metadata": {},
   "outputs": [
    {
     "data": {
      "text/html": [
       "<div>\n",
       "<style scoped>\n",
       "    .dataframe tbody tr th:only-of-type {\n",
       "        vertical-align: middle;\n",
       "    }\n",
       "\n",
       "    .dataframe tbody tr th {\n",
       "        vertical-align: top;\n",
       "    }\n",
       "\n",
       "    .dataframe thead th {\n",
       "        text-align: right;\n",
       "    }\n",
       "</style>\n",
       "<table border=\"1\" class=\"dataframe\">\n",
       "  <thead>\n",
       "    <tr style=\"text-align: right;\">\n",
       "      <th></th>\n",
       "      <th>UserId</th>\n",
       "      <th>ItemId</th>\n",
       "      <th>Rating</th>\n",
       "      <th>Time</th>\n",
       "    </tr>\n",
       "  </thead>\n",
       "  <tbody>\n",
       "    <tr>\n",
       "      <th>31</th>\n",
       "      <td>1</td>\n",
       "      <td>3186</td>\n",
       "      <td>4</td>\n",
       "      <td>978300019</td>\n",
       "    </tr>\n",
       "    <tr>\n",
       "      <th>22</th>\n",
       "      <td>1</td>\n",
       "      <td>1270</td>\n",
       "      <td>5</td>\n",
       "      <td>978300055</td>\n",
       "    </tr>\n",
       "    <tr>\n",
       "      <th>27</th>\n",
       "      <td>1</td>\n",
       "      <td>1721</td>\n",
       "      <td>4</td>\n",
       "      <td>978300055</td>\n",
       "    </tr>\n",
       "    <tr>\n",
       "      <th>37</th>\n",
       "      <td>1</td>\n",
       "      <td>1022</td>\n",
       "      <td>5</td>\n",
       "      <td>978300055</td>\n",
       "    </tr>\n",
       "    <tr>\n",
       "      <th>24</th>\n",
       "      <td>1</td>\n",
       "      <td>2340</td>\n",
       "      <td>3</td>\n",
       "      <td>978300103</td>\n",
       "    </tr>\n",
       "    <tr>\n",
       "      <th>...</th>\n",
       "      <td>...</td>\n",
       "      <td>...</td>\n",
       "      <td>...</td>\n",
       "      <td>...</td>\n",
       "    </tr>\n",
       "    <tr>\n",
       "      <th>1000019</th>\n",
       "      <td>6040</td>\n",
       "      <td>2917</td>\n",
       "      <td>4</td>\n",
       "      <td>997454429</td>\n",
       "    </tr>\n",
       "    <tr>\n",
       "      <th>999988</th>\n",
       "      <td>6040</td>\n",
       "      <td>1921</td>\n",
       "      <td>4</td>\n",
       "      <td>997454464</td>\n",
       "    </tr>\n",
       "    <tr>\n",
       "      <th>1000172</th>\n",
       "      <td>6040</td>\n",
       "      <td>1784</td>\n",
       "      <td>3</td>\n",
       "      <td>997454464</td>\n",
       "    </tr>\n",
       "    <tr>\n",
       "      <th>1000167</th>\n",
       "      <td>6040</td>\n",
       "      <td>161</td>\n",
       "      <td>3</td>\n",
       "      <td>997454486</td>\n",
       "    </tr>\n",
       "    <tr>\n",
       "      <th>1000042</th>\n",
       "      <td>6040</td>\n",
       "      <td>1221</td>\n",
       "      <td>4</td>\n",
       "      <td>998315055</td>\n",
       "    </tr>\n",
       "  </tbody>\n",
       "</table>\n",
       "<p>1000209 rows × 4 columns</p>\n",
       "</div>"
      ],
      "text/plain": [
       "         UserId  ItemId  Rating       Time\n",
       "31            1    3186       4  978300019\n",
       "22            1    1270       5  978300055\n",
       "27            1    1721       4  978300055\n",
       "37            1    1022       5  978300055\n",
       "24            1    2340       3  978300103\n",
       "...         ...     ...     ...        ...\n",
       "1000019    6040    2917       4  997454429\n",
       "999988     6040    1921       4  997454464\n",
       "1000172    6040    1784       3  997454464\n",
       "1000167    6040     161       3  997454486\n",
       "1000042    6040    1221       4  998315055\n",
       "\n",
       "[1000209 rows x 4 columns]"
      ]
     },
     "execution_count": 2,
     "metadata": {},
     "output_type": "execute_result"
    }
   ],
   "source": [
    "data_path = Path(os.getenv('HOME')+'/aiffel/yoochoose/data/') \n",
    "train_path = data_path / 'ratings.dat'\n",
    "\n",
    "def load_data(data_path: Path, nrows=None):\n",
    "    data = pd.read_csv(data_path, sep='::', header=None, usecols=[0, 1, 2, 3], dtype={0: np.int32, 1: np.int32, 2: np.int32}, nrows=nrows)\n",
    "    data.columns = ['UserId', 'ItemId', 'Rating', 'Time']\n",
    "    return data\n",
    "\n",
    "data = load_data(train_path, None)\n",
    "data.sort_values(['UserId', 'Time'], inplace=True)  # data를 id와 시간 순서로 정렬해줍니다.\n",
    "data"
   ]
  },
  {
   "cell_type": "code",
   "execution_count": 3,
   "id": "71cbeaa7",
   "metadata": {},
   "outputs": [
    {
     "data": {
      "text/plain": [
       "(6040, 3706)"
      ]
     },
     "execution_count": 3,
     "metadata": {},
     "output_type": "execute_result"
    }
   ],
   "source": [
    "data['UserId'].nunique(), data['ItemId'].nunique()"
   ]
  },
  {
   "cell_type": "markdown",
   "id": "7a62ca5d",
   "metadata": {},
   "source": [
    "- 추천시스템을 구축하기 위해 **유저수** 와 **아이템 수** 를 확인해봄.\n",
    "- 유저의 수는 약 6천개, 아이템의 수는 약 3천개\n",
    "- 같은 유저가 여러 개의 세션을 만든거일 수도 있기 때문에 유저의 수가 약 6천명은 아님"
   ]
  },
  {
   "cell_type": "markdown",
   "id": "7b6eac1e",
   "metadata": {},
   "source": [
    "# 1-2. Session Length\n",
    "- 각 세션이 대략 몇 개의 평점 데이터를 갖는지 확인"
   ]
  },
  {
   "cell_type": "code",
   "execution_count": 4,
   "id": "72ea6fec",
   "metadata": {},
   "outputs": [
    {
     "data": {
      "text/plain": [
       "UserId\n",
       "1        53\n",
       "2       129\n",
       "3        51\n",
       "4        21\n",
       "5       198\n",
       "       ... \n",
       "6036    888\n",
       "6037    202\n",
       "6038     20\n",
       "6039    123\n",
       "6040    341\n",
       "Length: 6040, dtype: int64"
      ]
     },
     "execution_count": 4,
     "metadata": {},
     "output_type": "execute_result"
    }
   ],
   "source": [
    "user_length = data.groupby('UserId').size()\n",
    "user_length"
   ]
  },
  {
   "cell_type": "markdown",
   "id": "b2cc7ed9",
   "metadata": {},
   "source": [
    "- **user_length** : 같은 UserId를 공유하는 데이터 row의 개수를 의미, 한 유저ID가 몇 개의 영화에 평점 데이터를 남겼는지\n",
    "- **UserId** : 브라우저에서 웹서버로 접속할 때 항상 포함하게 되는 유저 구분자입니다. 로그인하지 않았기 때문에 이 사용자가 누군지는 알 수 없어도, 최소한 특정 사용자의 행동을 UserId 기준으로 모아서 분류해낼 수는 있음\n",
    "- **session_length** : 해당 세션의 사용자가 그 세션 동안 몇 번의 액션을 취했는지(몇 개의 상품정보를 클릭했는지)의 의미"
   ]
  },
  {
   "cell_type": "code",
   "execution_count": 5,
   "id": "0026f6d2",
   "metadata": {},
   "outputs": [
    {
     "data": {
      "text/plain": [
       "(96.0, 165.5975165562914)"
      ]
     },
     "execution_count": 5,
     "metadata": {},
     "output_type": "execute_result"
    }
   ],
   "source": [
    "user_length.median(), user_length.mean()  # 중앙값 96개, 평균값 약 165개"
   ]
  },
  {
   "cell_type": "code",
   "execution_count": 6,
   "id": "0cc2e8ba",
   "metadata": {},
   "outputs": [
    {
     "data": {
      "text/plain": [
       "(20, 2314)"
      ]
     },
     "execution_count": 6,
     "metadata": {},
     "output_type": "execute_result"
    }
   ],
   "source": [
    "user_length.min(), user_length.max() # 최소 20개, 최대 2314개"
   ]
  },
  {
   "cell_type": "code",
   "execution_count": 7,
   "id": "77feb06a",
   "metadata": {},
   "outputs": [
    {
     "data": {
      "text/plain": [
       "1343.181000000005"
      ]
     },
     "execution_count": 7,
     "metadata": {},
     "output_type": "execute_result"
    }
   ],
   "source": [
    "user_length.quantile(0.999) # 99.9%의 유저들은 1343개 이하의 rating을 가짐"
   ]
  },
  {
   "cell_type": "code",
   "execution_count": 8,
   "id": "961e74d0",
   "metadata": {},
   "outputs": [
    {
     "data": {
      "text/plain": [
       "ModeResult(mode=array([21]), count=array([91]))"
      ]
     },
     "execution_count": 8,
     "metadata": {},
     "output_type": "execute_result"
    }
   ],
   "source": [
    "from scipy.stats import mode\n",
    "mode(user_length)"
   ]
  },
  {
   "cell_type": "code",
   "execution_count": 9,
   "id": "3bcf7315",
   "metadata": {},
   "outputs": [
    {
     "data": {
      "image/png": "[encoded data removed]",
      "text/plain": [
       "<Figure size 720x360 with 1 Axes>"
      ]
     },
     "metadata": {
      "needs_background": "light"
     },
     "output_type": "display_data"
    }
   ],
   "source": [
    "# user_length 기준 그래프\n",
    "plt.figure(figsize=(10, 5))\n",
    "plt.plot(user_length)\n",
    "plt.show()"
   ]
  },
  {
   "cell_type": "code",
   "execution_count": 10,
   "id": "f86be998",
   "metadata": {},
   "outputs": [
    {
     "data": {
      "text/plain": [
       "ItemId\n",
       "2858    3428\n",
       "260     2991\n",
       "1196    2990\n",
       "1210    2883\n",
       "480     2672\n",
       "2028    2653\n",
       "589     2649\n",
       "2571    2590\n",
       "1270    2583\n",
       "593     2578\n",
       "Name: UserId, dtype: int64"
      ]
     },
     "execution_count": 10,
     "metadata": {},
     "output_type": "execute_result"
    }
   ],
   "source": [
    "# 평점 데이터가 많은 순으로 정렬\n",
    "mv_count = data.groupby('ItemId')['UserId'].count()\n",
    "mv_count.sort_values(ascending=False).head(10)"
   ]
  },
  {
   "cell_type": "code",
   "execution_count": 11,
   "id": "d10c1bb1",
   "metadata": {
    "scrolled": true
   },
   "outputs": [
    {
     "data": {
      "image/png": "[encoded data removed]",
      "text/plain": [
       "<Figure size 1440x720 with 1 Axes>"
      ]
     },
     "metadata": {
      "needs_background": "light"
     },
     "output_type": "display_data"
    }
   ],
   "source": [
    "plt.figure(figsize=(20,10))\n",
    "plt.hist(mv_count, bins=100, density=False, alpha=0.7, histtype='stepfilled')\n",
    "plt.show()"
   ]
  },
  {
   "cell_type": "markdown",
   "id": "598248bc",
   "metadata": {},
   "source": [
    "- 평점이 100개이내인 영화가 대부분\n",
    "- 개수 자체에 선호도와 연관이 크게 없어 보임"
   ]
  },
  {
   "cell_type": "code",
   "execution_count": 12,
   "id": "8ceb06f8",
   "metadata": {},
   "outputs": [
    {
     "data": {
      "image/png": "[encoded data removed]",
      "text/plain": [
       "<Figure size 360x576 with 1 Axes>"
      ]
     },
     "metadata": {
      "needs_background": "light"
     },
     "output_type": "display_data"
    }
   ],
   "source": [
    "# user_length 기준 상자수염 그래프\n",
    "plt.figure(figsize=(5,8))\n",
    "plt.boxplot(user_length)\n",
    "plt.show()"
   ]
  },
  {
   "cell_type": "markdown",
   "id": "596abdb0",
   "metadata": {},
   "source": [
    "- 세션 길이 2000이 넘는 것은 boxplot 상의 이상치들 중에서도 매우 멀리 떨어져 있음"
   ]
  },
  {
   "cell_type": "code",
   "execution_count": 13,
   "id": "ad8dcc7f",
   "metadata": {},
   "outputs": [
    {
     "data": {
      "text/plain": [
       "20      0.014238\n",
       "21      0.029305\n",
       "22      0.042053\n",
       "23      0.055464\n",
       "24      0.068874\n",
       "          ...   \n",
       "1271    0.998179\n",
       "1277    0.998344\n",
       "1286    0.998510\n",
       "1302    0.998675\n",
       "1323    0.998841\n",
       "Length: 736, dtype: float64"
      ]
     },
     "execution_count": 13,
     "metadata": {},
     "output_type": "execute_result"
    }
   ],
   "source": [
    "length_count = user_length.groupby(user_length).size()\n",
    "length_percent_cumsum = length_count.cumsum() / length_count.sum()\n",
    "length_percent_cumsum_999 = length_percent_cumsum[length_percent_cumsum < 0.999]\n",
    "\n",
    "length_percent_cumsum_999"
   ]
  },
  {
   "cell_type": "code",
   "execution_count": 14,
   "id": "c566efa4",
   "metadata": {},
   "outputs": [
    {
     "data": {
      "image/png": "[encoded data removed]",
      "text/plain": [
       "<Figure size 1440x720 with 1 Axes>"
      ]
     },
     "metadata": {
      "needs_background": "light"
     },
     "output_type": "display_data"
    }
   ],
   "source": [
    "# user_length 기준 하위 99.9%까지의 분포 누적합을 시각화\n",
    "plt.figure(figsize=(20, 10))\n",
    "plt.bar(x=length_percent_cumsum_999.index,\n",
    "        height=length_percent_cumsum_999, color='red')\n",
    "plt.xticks(length_percent_cumsum_999.index)\n",
    "plt.yticks(np.arange(0, 1.01, 0.05))\n",
    "plt.title('Cumsum Percentage Until 0.999', size=20)\n",
    "plt.show()"
   ]
  },
  {
   "cell_type": "markdown",
   "id": "1f80a7d9",
   "metadata": {},
   "source": [
    "데이터를 보니 99.9%의 User가 남긴 평점 데이터는\n",
    "> 1. 20부터 약 1400까지 그 스펙트럼이 매우 넓음\n",
    "> 2. 그 값들이 매우 다양함"
   ]
  },
  {
   "cell_type": "markdown",
   "id": "c939367c",
   "metadata": {},
   "source": [
    "- userId,time이 같고 itemId만 다른 경우가 있는데 이런 경우는 말이 안되기 때문에 제거"
   ]
  },
  {
   "cell_type": "markdown",
   "id": "b97fc503",
   "metadata": {},
   "source": [
    "# 1-3. Session Time"
   ]
  },
  {
   "cell_type": "markdown",
   "id": "0c4bd08d",
   "metadata": {},
   "source": [
    "- 추천 시스템에서 다루는 시간 관련 데이터는 접속하는 데이터 생성 날짜, 시간대(오전, 오후, 새벽), 접속해 있는 시간, 접속하는 요일, 계절, 마지막 접속 시간, 장바구니에 넣고 지난 시간 등등 있음"
   ]
  },
  {
   "cell_type": "code",
   "execution_count": 15,
   "id": "abf6b4d4",
   "metadata": {},
   "outputs": [],
   "source": [
    "import datetime"
   ]
  },
  {
   "cell_type": "code",
   "execution_count": 16,
   "id": "7fa49525",
   "metadata": {},
   "outputs": [],
   "source": [
    "# 우선 Time 컬럼이 보기가 힘드니 Date 로 바꿔서 보겠습니다\n",
    "\n",
    "dt = datetime.datetime.strptime('1970-01-01', '%Y-%m-%d')\n",
    "tmp = data['Time']\n",
    "datatime = []\n",
    "for i in tmp:\n",
    "    date = dt + datetime.timedelta(seconds= i)\n",
    "    tmp = date.strftime('%Y-%m-%d')\n",
    "    datatime.append(tmp)\n",
    "\n",
    "data['Date'] = datatime"
   ]
  },
  {
   "cell_type": "code",
   "execution_count": 17,
   "id": "36fe59bc",
   "metadata": {},
   "outputs": [
    {
     "data": {
      "text/html": [
       "<div>\n",
       "<style scoped>\n",
       "    .dataframe tbody tr th:only-of-type {\n",
       "        vertical-align: middle;\n",
       "    }\n",
       "\n",
       "    .dataframe tbody tr th {\n",
       "        vertical-align: top;\n",
       "    }\n",
       "\n",
       "    .dataframe thead th {\n",
       "        text-align: right;\n",
       "    }\n",
       "</style>\n",
       "<table border=\"1\" class=\"dataframe\">\n",
       "  <thead>\n",
       "    <tr style=\"text-align: right;\">\n",
       "      <th></th>\n",
       "      <th>UserId</th>\n",
       "      <th>ItemId</th>\n",
       "      <th>Rating</th>\n",
       "      <th>Time</th>\n",
       "      <th>Date</th>\n",
       "    </tr>\n",
       "  </thead>\n",
       "  <tbody>\n",
       "    <tr>\n",
       "      <th>31</th>\n",
       "      <td>1</td>\n",
       "      <td>3186</td>\n",
       "      <td>4</td>\n",
       "      <td>978300019</td>\n",
       "      <td>2000-12-31</td>\n",
       "    </tr>\n",
       "    <tr>\n",
       "      <th>22</th>\n",
       "      <td>1</td>\n",
       "      <td>1270</td>\n",
       "      <td>5</td>\n",
       "      <td>978300055</td>\n",
       "      <td>2000-12-31</td>\n",
       "    </tr>\n",
       "    <tr>\n",
       "      <th>27</th>\n",
       "      <td>1</td>\n",
       "      <td>1721</td>\n",
       "      <td>4</td>\n",
       "      <td>978300055</td>\n",
       "      <td>2000-12-31</td>\n",
       "    </tr>\n",
       "    <tr>\n",
       "      <th>37</th>\n",
       "      <td>1</td>\n",
       "      <td>1022</td>\n",
       "      <td>5</td>\n",
       "      <td>978300055</td>\n",
       "      <td>2000-12-31</td>\n",
       "    </tr>\n",
       "    <tr>\n",
       "      <th>24</th>\n",
       "      <td>1</td>\n",
       "      <td>2340</td>\n",
       "      <td>3</td>\n",
       "      <td>978300103</td>\n",
       "      <td>2000-12-31</td>\n",
       "    </tr>\n",
       "    <tr>\n",
       "      <th>...</th>\n",
       "      <td>...</td>\n",
       "      <td>...</td>\n",
       "      <td>...</td>\n",
       "      <td>...</td>\n",
       "      <td>...</td>\n",
       "    </tr>\n",
       "    <tr>\n",
       "      <th>1000019</th>\n",
       "      <td>6040</td>\n",
       "      <td>2917</td>\n",
       "      <td>4</td>\n",
       "      <td>997454429</td>\n",
       "      <td>2001-08-10</td>\n",
       "    </tr>\n",
       "    <tr>\n",
       "      <th>999988</th>\n",
       "      <td>6040</td>\n",
       "      <td>1921</td>\n",
       "      <td>4</td>\n",
       "      <td>997454464</td>\n",
       "      <td>2001-08-10</td>\n",
       "    </tr>\n",
       "    <tr>\n",
       "      <th>1000172</th>\n",
       "      <td>6040</td>\n",
       "      <td>1784</td>\n",
       "      <td>3</td>\n",
       "      <td>997454464</td>\n",
       "      <td>2001-08-10</td>\n",
       "    </tr>\n",
       "    <tr>\n",
       "      <th>1000167</th>\n",
       "      <td>6040</td>\n",
       "      <td>161</td>\n",
       "      <td>3</td>\n",
       "      <td>997454486</td>\n",
       "      <td>2001-08-10</td>\n",
       "    </tr>\n",
       "    <tr>\n",
       "      <th>1000042</th>\n",
       "      <td>6040</td>\n",
       "      <td>1221</td>\n",
       "      <td>4</td>\n",
       "      <td>998315055</td>\n",
       "      <td>2001-08-20</td>\n",
       "    </tr>\n",
       "  </tbody>\n",
       "</table>\n",
       "<p>1000209 rows × 5 columns</p>\n",
       "</div>"
      ],
      "text/plain": [
       "         UserId  ItemId  Rating       Time        Date\n",
       "31            1    3186       4  978300019  2000-12-31\n",
       "22            1    1270       5  978300055  2000-12-31\n",
       "27            1    1721       4  978300055  2000-12-31\n",
       "37            1    1022       5  978300055  2000-12-31\n",
       "24            1    2340       3  978300103  2000-12-31\n",
       "...         ...     ...     ...        ...         ...\n",
       "1000019    6040    2917       4  997454429  2001-08-10\n",
       "999988     6040    1921       4  997454464  2001-08-10\n",
       "1000172    6040    1784       3  997454464  2001-08-10\n",
       "1000167    6040     161       3  997454486  2001-08-10\n",
       "1000042    6040    1221       4  998315055  2001-08-20\n",
       "\n",
       "[1000209 rows x 5 columns]"
      ]
     },
     "execution_count": 17,
     "metadata": {},
     "output_type": "execute_result"
    }
   ],
   "source": [
    "data"
   ]
  },
  {
   "cell_type": "code",
   "execution_count": 18,
   "id": "b5d5d5dc",
   "metadata": {},
   "outputs": [
    {
     "name": "stdout",
     "output_type": "stream",
     "text": [
      "2000-04-25\n",
      "2003-02-28\n"
     ]
    }
   ],
   "source": [
    "oldest, latest = data['Date'].min(), data['Date'].max()\n",
    "print(oldest) \n",
    "print(latest)"
   ]
  },
  {
   "cell_type": "markdown",
   "id": "ca88f345",
   "metadata": {},
   "source": [
    "- 약 3년간의 데이터\n",
    "- 연도별로 데이터를 나눔"
   ]
  },
  {
   "cell_type": "code",
   "execution_count": 19,
   "id": "79d5e4cd",
   "metadata": {},
   "outputs": [],
   "source": [
    "yr2000 = data[data['Date'].str.contains('2000')]\n",
    "yr2001 = data[data['Date'].str.contains('2001')]\n",
    "yr2002 = data[data['Date'].str.contains('2002')]\n",
    "yr2003 = data[data['Date'].str.contains('2003')]"
   ]
  },
  {
   "cell_type": "code",
   "execution_count": 20,
   "id": "d9fba04a",
   "metadata": {},
   "outputs": [
    {
     "name": "stdout",
     "output_type": "stream",
     "text": [
      "904757\n",
      "68058\n",
      "24046\n",
      "3348\n"
     ]
    }
   ],
   "source": [
    "print(len(yr2000))\n",
    "print(len(yr2001))\n",
    "print(len(yr2002))\n",
    "print(len(yr2003))"
   ]
  },
  {
   "cell_type": "markdown",
   "id": "63f79a62",
   "metadata": {},
   "source": [
    "#### 시간 흐름에 따른 영화 선호 함 보기\n",
    "#### 전체 기간에서 평점이 많이 남겨진 영화"
   ]
  },
  {
   "cell_type": "code",
   "execution_count": 21,
   "id": "f39c11a5",
   "metadata": {},
   "outputs": [
    {
     "data": {
      "text/plain": [
       "Rating\n",
       "1     56174\n",
       "2    107557\n",
       "3    261197\n",
       "4    348971\n",
       "5    226310\n",
       "Name: ItemId, dtype: int64"
      ]
     },
     "execution_count": 21,
     "metadata": {},
     "output_type": "execute_result"
    }
   ],
   "source": [
    "#영화 평점 분포 확인\n",
    "\n",
    "mv_rate = data.groupby('Rating')['ItemId'].count()\n",
    "mv_rate"
   ]
  },
  {
   "cell_type": "markdown",
   "id": "30f4f83a",
   "metadata": {},
   "source": [
    "- 1점인 영화는 선호하는 영화에서 거리가 머니 나중에 제거함"
   ]
  },
  {
   "cell_type": "code",
   "execution_count": 22,
   "id": "4613a3a2",
   "metadata": {},
   "outputs": [
    {
     "data": {
      "text/plain": [
       "ItemId\n",
       "2858    3291\n",
       "1196    2846\n",
       "260     2834\n",
       "1210    2772\n",
       "480     2559\n",
       "589     2547\n",
       "2028    2538\n",
       "1270    2448\n",
       "2571    2446\n",
       "1580    2433\n",
       "Name: UserId, dtype: int64"
      ]
     },
     "execution_count": 22,
     "metadata": {},
     "output_type": "execute_result"
    }
   ],
   "source": [
    "# 2000년도에 가장 인기있는 영화는?\n",
    "mv_count0 = yr2000.groupby('ItemId')['UserId'].count()\n",
    "mv_count0.sort_values(ascending=False).head(10)"
   ]
  },
  {
   "cell_type": "code",
   "execution_count": 23,
   "id": "216eb8c6",
   "metadata": {},
   "outputs": [
    {
     "data": {
      "text/plain": [
       "ItemId\n",
       "3897    266\n",
       "3578    241\n",
       "3751    213\n",
       "3948    211\n",
       "3317    199\n",
       "3911    181\n",
       "3408    179\n",
       "3863    157\n",
       "3793    151\n",
       "3753    151\n",
       "Name: UserId, dtype: int64"
      ]
     },
     "execution_count": 23,
     "metadata": {},
     "output_type": "execute_result"
    }
   ],
   "source": [
    "# 2001년도에 가장 인기있는 영화는?\n",
    "mv_count1 = yr2001.groupby('ItemId')['UserId'].count()\n",
    "mv_count1.sort_values(ascending=False).head(10)"
   ]
  },
  {
   "cell_type": "code",
   "execution_count": 24,
   "id": "c44ecc11",
   "metadata": {},
   "outputs": [
    {
     "data": {
      "text/plain": [
       "ItemId\n",
       "3897    68\n",
       "3911    67\n",
       "3949    57\n",
       "3317    57\n",
       "1393    56\n",
       "1265    52\n",
       "3948    49\n",
       "3578    48\n",
       "2628    48\n",
       "2959    46\n",
       "Name: UserId, dtype: int64"
      ]
     },
     "execution_count": 24,
     "metadata": {},
     "output_type": "execute_result"
    }
   ],
   "source": [
    "# 2002년도에 가장 인기있는 영화는?\n",
    "mv_count2 = yr2002.groupby('ItemId')['UserId'].count()\n",
    "mv_count2.sort_values(ascending=False).head(10)"
   ]
  },
  {
   "cell_type": "code",
   "execution_count": 25,
   "id": "d9c1963d",
   "metadata": {},
   "outputs": [
    {
     "data": {
      "text/plain": [
       "ItemId\n",
       "2011    14\n",
       "2959    12\n",
       "3948    12\n",
       "2502    12\n",
       "2012    11\n",
       "3911    11\n",
       "1095    11\n",
       "2028    10\n",
       "750     10\n",
       "2300     9\n",
       "Name: UserId, dtype: int64"
      ]
     },
     "execution_count": 25,
     "metadata": {},
     "output_type": "execute_result"
    }
   ],
   "source": [
    "# 2003년도에 가장 인기있는 영화는?\n",
    "mv_count3 = yr2003.groupby('ItemId')['UserId'].count()\n",
    "mv_count3.sort_values(ascending=False).head(10)"
   ]
  },
  {
   "cell_type": "markdown",
   "id": "c398f6ab",
   "metadata": {},
   "source": [
    "- 해가 지날 수록 세션 수(유저 수)가 점점 줄어들고 있음\n",
    "- 매년 평점이 많이 남았던 영화가 달라졌지만 3897번 영화처럼 꾸준히 많은 평점을 받은 영화도 있음"
   ]
  },
  {
   "cell_type": "markdown",
   "id": "d956ab20",
   "metadata": {},
   "source": [
    "#### 가장 높은 평점을 가진 영화는 무엇일까\n",
    "#### 평점 순으로 줄세워보기"
   ]
  },
  {
   "cell_type": "code",
   "execution_count": 26,
   "id": "45111fce",
   "metadata": {},
   "outputs": [
    {
     "data": {
      "text/plain": [
       "Rating\n",
       "1     56174\n",
       "2    107557\n",
       "3    261197\n",
       "4    348971\n",
       "5    226310\n",
       "Name: ItemId, dtype: int64"
      ]
     },
     "execution_count": 26,
     "metadata": {},
     "output_type": "execute_result"
    }
   ],
   "source": [
    "#영화 평점 분포 확인\n",
    "\n",
    "mv_rate = data.groupby('Rating')['ItemId'].count()\n",
    "mv_rate"
   ]
  },
  {
   "cell_type": "code",
   "execution_count": 27,
   "id": "7c077eb5",
   "metadata": {},
   "outputs": [
    {
     "data": {
      "text/plain": [
       "Rating\n",
       "1     51027\n",
       "2     96069\n",
       "3    234296\n",
       "4    314446\n",
       "5    208919\n",
       "Name: ItemId, dtype: int64"
      ]
     },
     "execution_count": 27,
     "metadata": {},
     "output_type": "execute_result"
    }
   ],
   "source": [
    "yr2000_rate = yr2000.groupby('Rating')['ItemId'].count()\n",
    "yr2000_rate"
   ]
  },
  {
   "cell_type": "code",
   "execution_count": 28,
   "id": "358df804",
   "metadata": {},
   "outputs": [
    {
     "data": {
      "text/plain": [
       "Rating\n",
       "1     3539\n",
       "2     7986\n",
       "3    19150\n",
       "4    24839\n",
       "5    12544\n",
       "Name: ItemId, dtype: int64"
      ]
     },
     "execution_count": 28,
     "metadata": {},
     "output_type": "execute_result"
    }
   ],
   "source": [
    "yr2001_rate = yr2001.groupby('Rating')['ItemId'].count()\n",
    "yr2001_rate"
   ]
  },
  {
   "cell_type": "code",
   "execution_count": 29,
   "id": "37bb6b2c",
   "metadata": {},
   "outputs": [
    {
     "data": {
      "text/plain": [
       "Rating\n",
       "1    1356\n",
       "2    3113\n",
       "3    6898\n",
       "4    8500\n",
       "5    4179\n",
       "Name: ItemId, dtype: int64"
      ]
     },
     "execution_count": 29,
     "metadata": {},
     "output_type": "execute_result"
    }
   ],
   "source": [
    "yr2002_rate = yr2002.groupby('Rating')['ItemId'].count()\n",
    "yr2002_rate"
   ]
  },
  {
   "cell_type": "code",
   "execution_count": 30,
   "id": "7c36db56",
   "metadata": {},
   "outputs": [
    {
     "data": {
      "text/plain": [
       "Rating\n",
       "1     252\n",
       "2     389\n",
       "3     853\n",
       "4    1186\n",
       "5     668\n",
       "Name: ItemId, dtype: int64"
      ]
     },
     "execution_count": 30,
     "metadata": {},
     "output_type": "execute_result"
    }
   ],
   "source": [
    "yr2003_rate = yr2003.groupby('Rating')['ItemId'].count()\n",
    "yr2003_rate"
   ]
  },
  {
   "cell_type": "code",
   "execution_count": 31,
   "id": "42ade817",
   "metadata": {},
   "outputs": [
    {
     "data": {
      "text/plain": [
       "1000209"
      ]
     },
     "execution_count": 31,
     "metadata": {},
     "output_type": "execute_result"
    }
   ],
   "source": [
    "orginal_data_size = len(data)\n",
    "orginal_data_size"
   ]
  },
  {
   "cell_type": "code",
   "execution_count": 32,
   "id": "ef7d799a",
   "metadata": {},
   "outputs": [
    {
     "name": "stdout",
     "output_type": "stream",
     "text": [
      "orginal_data_size: 1000209, filtered_data_size: 836478\n",
      "Ratio of Remaining Data is 83.63%\n"
     ]
    }
   ],
   "source": [
    "# 전체 데이터셋에서 Rating 3점 이상만 남김\n",
    "\n",
    "data = data[data['Rating']>=3]\n",
    "\n",
    "filtered_data_size = len(data)\n",
    "\n",
    "print(f'orginal_data_size: {orginal_data_size}, filtered_data_size: {filtered_data_size}')\n",
    "print(f'Ratio of Remaining Data is {filtered_data_size / orginal_data_size:.2%}')"
   ]
  },
  {
   "cell_type": "code",
   "execution_count": 33,
   "id": "5ca32270",
   "metadata": {},
   "outputs": [
    {
     "data": {
      "text/html": [
       "<div>\n",
       "<style scoped>\n",
       "    .dataframe tbody tr th:only-of-type {\n",
       "        vertical-align: middle;\n",
       "    }\n",
       "\n",
       "    .dataframe tbody tr th {\n",
       "        vertical-align: top;\n",
       "    }\n",
       "\n",
       "    .dataframe thead th {\n",
       "        text-align: right;\n",
       "    }\n",
       "</style>\n",
       "<table border=\"1\" class=\"dataframe\">\n",
       "  <thead>\n",
       "    <tr style=\"text-align: right;\">\n",
       "      <th></th>\n",
       "      <th>UserId</th>\n",
       "      <th>ItemId</th>\n",
       "      <th>Rating</th>\n",
       "      <th>Time</th>\n",
       "      <th>Date</th>\n",
       "    </tr>\n",
       "  </thead>\n",
       "  <tbody>\n",
       "  </tbody>\n",
       "</table>\n",
       "</div>"
      ],
      "text/plain": [
       "Empty DataFrame\n",
       "Columns: [UserId, ItemId, Rating, Time, Date]\n",
       "Index: []"
      ]
     },
     "execution_count": 33,
     "metadata": {},
     "output_type": "execute_result"
    }
   ],
   "source": [
    "data[data['Rating']==2]"
   ]
  },
  {
   "cell_type": "code",
   "execution_count": 34,
   "id": "c05a3b03",
   "metadata": {},
   "outputs": [
    {
     "data": {
      "text/html": [
       "<div>\n",
       "<style scoped>\n",
       "    .dataframe tbody tr th:only-of-type {\n",
       "        vertical-align: middle;\n",
       "    }\n",
       "\n",
       "    .dataframe tbody tr th {\n",
       "        vertical-align: top;\n",
       "    }\n",
       "\n",
       "    .dataframe thead th {\n",
       "        text-align: right;\n",
       "    }\n",
       "</style>\n",
       "<table border=\"1\" class=\"dataframe\">\n",
       "  <thead>\n",
       "    <tr style=\"text-align: right;\">\n",
       "      <th></th>\n",
       "      <th>UserId</th>\n",
       "      <th>ItemId</th>\n",
       "      <th>Rating</th>\n",
       "      <th>Time</th>\n",
       "      <th>Date</th>\n",
       "    </tr>\n",
       "  </thead>\n",
       "  <tbody>\n",
       "  </tbody>\n",
       "</table>\n",
       "</div>"
      ],
      "text/plain": [
       "Empty DataFrame\n",
       "Columns: [UserId, ItemId, Rating, Time, Date]\n",
       "Index: []"
      ]
     },
     "execution_count": 34,
     "metadata": {},
     "output_type": "execute_result"
    }
   ],
   "source": [
    "data[data['Rating']==1]"
   ]
  },
  {
   "cell_type": "code",
   "execution_count": 35,
   "id": "a208c14a",
   "metadata": {},
   "outputs": [
    {
     "data": {
      "text/html": [
       "<div>\n",
       "<style scoped>\n",
       "    .dataframe tbody tr th:only-of-type {\n",
       "        vertical-align: middle;\n",
       "    }\n",
       "\n",
       "    .dataframe tbody tr th {\n",
       "        vertical-align: top;\n",
       "    }\n",
       "\n",
       "    .dataframe thead th {\n",
       "        text-align: right;\n",
       "    }\n",
       "</style>\n",
       "<table border=\"1\" class=\"dataframe\">\n",
       "  <thead>\n",
       "    <tr style=\"text-align: right;\">\n",
       "      <th></th>\n",
       "      <th>UserId</th>\n",
       "      <th>ItemId</th>\n",
       "      <th>Rating</th>\n",
       "      <th>Time</th>\n",
       "      <th>Date</th>\n",
       "    </tr>\n",
       "  </thead>\n",
       "  <tbody>\n",
       "    <tr>\n",
       "      <th>31</th>\n",
       "      <td>1</td>\n",
       "      <td>3186</td>\n",
       "      <td>4</td>\n",
       "      <td>978300019</td>\n",
       "      <td>2000-12-31</td>\n",
       "    </tr>\n",
       "    <tr>\n",
       "      <th>22</th>\n",
       "      <td>1</td>\n",
       "      <td>1270</td>\n",
       "      <td>5</td>\n",
       "      <td>978300055</td>\n",
       "      <td>2000-12-31</td>\n",
       "    </tr>\n",
       "    <tr>\n",
       "      <th>27</th>\n",
       "      <td>1</td>\n",
       "      <td>1721</td>\n",
       "      <td>4</td>\n",
       "      <td>978300055</td>\n",
       "      <td>2000-12-31</td>\n",
       "    </tr>\n",
       "    <tr>\n",
       "      <th>37</th>\n",
       "      <td>1</td>\n",
       "      <td>1022</td>\n",
       "      <td>5</td>\n",
       "      <td>978300055</td>\n",
       "      <td>2000-12-31</td>\n",
       "    </tr>\n",
       "    <tr>\n",
       "      <th>24</th>\n",
       "      <td>1</td>\n",
       "      <td>2340</td>\n",
       "      <td>3</td>\n",
       "      <td>978300103</td>\n",
       "      <td>2000-12-31</td>\n",
       "    </tr>\n",
       "    <tr>\n",
       "      <th>...</th>\n",
       "      <td>...</td>\n",
       "      <td>...</td>\n",
       "      <td>...</td>\n",
       "      <td>...</td>\n",
       "      <td>...</td>\n",
       "    </tr>\n",
       "    <tr>\n",
       "      <th>1000019</th>\n",
       "      <td>6040</td>\n",
       "      <td>2917</td>\n",
       "      <td>4</td>\n",
       "      <td>997454429</td>\n",
       "      <td>2001-08-10</td>\n",
       "    </tr>\n",
       "    <tr>\n",
       "      <th>999988</th>\n",
       "      <td>6040</td>\n",
       "      <td>1921</td>\n",
       "      <td>4</td>\n",
       "      <td>997454464</td>\n",
       "      <td>2001-08-10</td>\n",
       "    </tr>\n",
       "    <tr>\n",
       "      <th>1000172</th>\n",
       "      <td>6040</td>\n",
       "      <td>1784</td>\n",
       "      <td>3</td>\n",
       "      <td>997454464</td>\n",
       "      <td>2001-08-10</td>\n",
       "    </tr>\n",
       "    <tr>\n",
       "      <th>1000167</th>\n",
       "      <td>6040</td>\n",
       "      <td>161</td>\n",
       "      <td>3</td>\n",
       "      <td>997454486</td>\n",
       "      <td>2001-08-10</td>\n",
       "    </tr>\n",
       "    <tr>\n",
       "      <th>1000042</th>\n",
       "      <td>6040</td>\n",
       "      <td>1221</td>\n",
       "      <td>4</td>\n",
       "      <td>998315055</td>\n",
       "      <td>2001-08-20</td>\n",
       "    </tr>\n",
       "  </tbody>\n",
       "</table>\n",
       "<p>836478 rows × 5 columns</p>\n",
       "</div>"
      ],
      "text/plain": [
       "         UserId  ItemId  Rating       Time        Date\n",
       "31            1    3186       4  978300019  2000-12-31\n",
       "22            1    1270       5  978300055  2000-12-31\n",
       "27            1    1721       4  978300055  2000-12-31\n",
       "37            1    1022       5  978300055  2000-12-31\n",
       "24            1    2340       3  978300103  2000-12-31\n",
       "...         ...     ...     ...        ...         ...\n",
       "1000019    6040    2917       4  997454429  2001-08-10\n",
       "999988     6040    1921       4  997454464  2001-08-10\n",
       "1000172    6040    1784       3  997454464  2001-08-10\n",
       "1000167    6040     161       3  997454486  2001-08-10\n",
       "1000042    6040    1221       4  998315055  2001-08-20\n",
       "\n",
       "[836478 rows x 5 columns]"
      ]
     },
     "execution_count": 35,
     "metadata": {},
     "output_type": "execute_result"
    }
   ],
   "source": [
    "data[data['Rating']>=3]"
   ]
  },
  {
   "cell_type": "markdown",
   "id": "df040d57",
   "metadata": {},
   "source": [
    "- Rating 3점 미만만 잘 제거된 것을 확인함"
   ]
  },
  {
   "cell_type": "markdown",
   "id": "fca09591",
   "metadata": {},
   "source": [
    "# 1-4. Data Cleansing"
   ]
  },
  {
   "cell_type": "code",
   "execution_count": 36,
   "id": "6892e4ac",
   "metadata": {},
   "outputs": [],
   "source": [
    "# 너무 긴 세션을 가지고 있는 UserID를 제거\n",
    "# 남긴 평점이 적다고 해서 선호하는 영화가 아닌 거는 아님\n",
    "# 적은 평점을 가진 영화가 대부분이기도 하기때문에 \n",
    "# 다른 cleansing 처리는 하지 않음\n",
    "\n",
    "def cleanse_long_session(data: pd.DataFrame, longest):\n",
    "    session_len = data.groupby('UserId').size()\n",
    "    session_use = session_len[session_len < longest].index\n",
    "    data = data[data['UserId'].isin(session_use)]\n",
    "    return data\n",
    "\n",
    "def cleanse_recursive(data: pd.DataFrame, longest) -> pd.DataFrame:\n",
    "    while True:\n",
    "        before_len = len(data)\n",
    "        data = cleanse_long_session(data, longest)\n",
    "        after_len = len(data)\n",
    "        if before_len == after_len:\n",
    "            break\n",
    "    return data"
   ]
  },
  {
   "cell_type": "code",
   "execution_count": 37,
   "id": "832183d1",
   "metadata": {},
   "outputs": [],
   "source": [
    "data = cleanse_recursive(data, 2314)"
   ]
  },
  {
   "cell_type": "code",
   "execution_count": 38,
   "id": "6643e1b3",
   "metadata": {},
   "outputs": [],
   "source": [
    "# 한 유저ID가 몇 개의 영화에 평점 데이터를 남겼는지\n",
    "user_length = data.groupby('UserId').size()"
   ]
  },
  {
   "cell_type": "code",
   "execution_count": 39,
   "id": "65cae7a9",
   "metadata": {},
   "outputs": [
    {
     "data": {
      "image/png": "[encoded data removed]",
      "text/plain": [
       "<Figure size 360x576 with 1 Axes>"
      ]
     },
     "metadata": {
      "needs_background": "light"
     },
     "output_type": "display_data"
    }
   ],
   "source": [
    "plt.figure(figsize=(5,8))\n",
    "plt.boxplot(user_length)\n",
    "plt.show()"
   ]
  },
  {
   "cell_type": "markdown",
   "id": "312b086a",
   "metadata": {},
   "source": [
    "- UserID가 잘 제거되었음"
   ]
  },
  {
   "cell_type": "markdown",
   "id": "1ff11a6e",
   "metadata": {},
   "source": [
    "# 1-5. Train / Valid / Test split\n",
    "- 영화는 최근 본 영화가 마음에 들을수록 그와 비슷한 영화를 보게 될 확률이 높아짐\n",
    "> Train set: 2000년 4월 ~ 2001년 4월 까지          \n",
    "> Valid set : 2001년 5월 ~ 2001년 12월 까지            \n",
    "> Test set : 2002년 1월 ~ 2003년 2월까지"
   ]
  },
  {
   "cell_type": "code",
   "execution_count": 40,
   "id": "caadd93e",
   "metadata": {},
   "outputs": [
    {
     "data": {
      "text/plain": [
       "'2003-02-28'"
      ]
     },
     "execution_count": 40,
     "metadata": {},
     "output_type": "execute_result"
    }
   ],
   "source": [
    "data['Date'].max()"
   ]
  },
  {
   "cell_type": "code",
   "execution_count": 41,
   "id": "693d8df4",
   "metadata": {},
   "outputs": [
    {
     "data": {
      "text/plain": [
       "UserId\n",
       "1       2001-01-06\n",
       "2       2000-12-31\n",
       "3       2000-12-31\n",
       "4       2000-12-31\n",
       "5       2000-12-31\n",
       "           ...    \n",
       "6036    2000-04-26\n",
       "6037    2000-04-27\n",
       "6038    2000-04-26\n",
       "6039    2000-04-26\n",
       "6040    2001-08-20\n",
       "Name: Date, Length: 6039, dtype: object"
      ]
     },
     "execution_count": 41,
     "metadata": {},
     "output_type": "execute_result"
    }
   ],
   "source": [
    "data.groupby('UserId')['Date'].max()"
   ]
  },
  {
   "cell_type": "code",
   "execution_count": 42,
   "id": "957e953e",
   "metadata": {},
   "outputs": [],
   "source": [
    "from dateutil.relativedelta import relativedelta\n",
    "from datetime import datetime\n",
    "\n",
    "def split_by_month(data: pd.DataFrame, n_months: int):\n",
    "    final_time = pd.to_datetime(data['Date'].max())\n",
    "    #print(final_time)\n",
    "    session_last_time = data.groupby('UserId')['Date'].max()\n",
    "    tmp = final_time - relativedelta(months = n_months)   # 맨 끝 날짜에서 n개월을 뺍니다\n",
    "    tmpdate = tmp.strftime('%Y-%m-%d') # string 타입으로 변환\n",
    "    #print(tmp)\n",
    "    session_in_train = session_last_time[session_last_time < tmpdate].index\n",
    "    session_in_test = session_last_time[session_last_time >= tmpdate].index\n",
    "    \n",
    "    before_date = data[data['UserId'].isin(session_in_train)]\n",
    "    after_date = data[data['UserId'].isin(session_in_test)]\n",
    "    after_date = after_date[after_date['ItemId'].isin(before_date['ItemId'])]\n",
    "    return before_date, after_date"
   ]
  },
  {
   "cell_type": "code",
   "execution_count": 43,
   "id": "e20433f2",
   "metadata": {},
   "outputs": [],
   "source": [
    "train, test = split_by_month(data, n_months=14)\n",
    "train, valid = split_by_month(train, n_months=8)"
   ]
  },
  {
   "cell_type": "code",
   "execution_count": 44,
   "id": "55e24495",
   "metadata": {},
   "outputs": [
    {
     "data": {
      "text/html": [
       "<div>\n",
       "<style scoped>\n",
       "    .dataframe tbody tr th:only-of-type {\n",
       "        vertical-align: middle;\n",
       "    }\n",
       "\n",
       "    .dataframe tbody tr th {\n",
       "        vertical-align: top;\n",
       "    }\n",
       "\n",
       "    .dataframe thead th {\n",
       "        text-align: right;\n",
       "    }\n",
       "</style>\n",
       "<table border=\"1\" class=\"dataframe\">\n",
       "  <thead>\n",
       "    <tr style=\"text-align: right;\">\n",
       "      <th></th>\n",
       "      <th>UserId</th>\n",
       "      <th>ItemId</th>\n",
       "      <th>Rating</th>\n",
       "      <th>Time</th>\n",
       "      <th>Date</th>\n",
       "    </tr>\n",
       "  </thead>\n",
       "  <tbody>\n",
       "    <tr>\n",
       "      <th>31</th>\n",
       "      <td>1</td>\n",
       "      <td>3186</td>\n",
       "      <td>4</td>\n",
       "      <td>978300019</td>\n",
       "      <td>2000-12-31</td>\n",
       "    </tr>\n",
       "    <tr>\n",
       "      <th>22</th>\n",
       "      <td>1</td>\n",
       "      <td>1270</td>\n",
       "      <td>5</td>\n",
       "      <td>978300055</td>\n",
       "      <td>2000-12-31</td>\n",
       "    </tr>\n",
       "    <tr>\n",
       "      <th>27</th>\n",
       "      <td>1</td>\n",
       "      <td>1721</td>\n",
       "      <td>4</td>\n",
       "      <td>978300055</td>\n",
       "      <td>2000-12-31</td>\n",
       "    </tr>\n",
       "    <tr>\n",
       "      <th>37</th>\n",
       "      <td>1</td>\n",
       "      <td>1022</td>\n",
       "      <td>5</td>\n",
       "      <td>978300055</td>\n",
       "      <td>2000-12-31</td>\n",
       "    </tr>\n",
       "    <tr>\n",
       "      <th>24</th>\n",
       "      <td>1</td>\n",
       "      <td>2340</td>\n",
       "      <td>3</td>\n",
       "      <td>978300103</td>\n",
       "      <td>2000-12-31</td>\n",
       "    </tr>\n",
       "    <tr>\n",
       "      <th>...</th>\n",
       "      <td>...</td>\n",
       "      <td>...</td>\n",
       "      <td>...</td>\n",
       "      <td>...</td>\n",
       "      <td>...</td>\n",
       "    </tr>\n",
       "    <tr>\n",
       "      <th>999798</th>\n",
       "      <td>6039</td>\n",
       "      <td>1148</td>\n",
       "      <td>4</td>\n",
       "      <td>956758002</td>\n",
       "      <td>2000-04-26</td>\n",
       "    </tr>\n",
       "    <tr>\n",
       "      <th>999764</th>\n",
       "      <td>6039</td>\n",
       "      <td>912</td>\n",
       "      <td>4</td>\n",
       "      <td>956758029</td>\n",
       "      <td>2000-04-26</td>\n",
       "    </tr>\n",
       "    <tr>\n",
       "      <th>999771</th>\n",
       "      <td>6039</td>\n",
       "      <td>922</td>\n",
       "      <td>5</td>\n",
       "      <td>956758029</td>\n",
       "      <td>2000-04-26</td>\n",
       "    </tr>\n",
       "    <tr>\n",
       "      <th>999815</th>\n",
       "      <td>6039</td>\n",
       "      <td>1204</td>\n",
       "      <td>5</td>\n",
       "      <td>956758029</td>\n",
       "      <td>2000-04-26</td>\n",
       "    </tr>\n",
       "    <tr>\n",
       "      <th>999826</th>\n",
       "      <td>6039</td>\n",
       "      <td>1254</td>\n",
       "      <td>4</td>\n",
       "      <td>956758029</td>\n",
       "      <td>2000-04-26</td>\n",
       "    </tr>\n",
       "  </tbody>\n",
       "</table>\n",
       "<p>590449 rows × 5 columns</p>\n",
       "</div>"
      ],
      "text/plain": [
       "        UserId  ItemId  Rating       Time        Date\n",
       "31           1    3186       4  978300019  2000-12-31\n",
       "22           1    1270       5  978300055  2000-12-31\n",
       "27           1    1721       4  978300055  2000-12-31\n",
       "37           1    1022       5  978300055  2000-12-31\n",
       "24           1    2340       3  978300103  2000-12-31\n",
       "...        ...     ...     ...        ...         ...\n",
       "999798    6039    1148       4  956758002  2000-04-26\n",
       "999764    6039     912       4  956758029  2000-04-26\n",
       "999771    6039     922       5  956758029  2000-04-26\n",
       "999815    6039    1204       5  956758029  2000-04-26\n",
       "999826    6039    1254       4  956758029  2000-04-26\n",
       "\n",
       "[590449 rows x 5 columns]"
      ]
     },
     "execution_count": 44,
     "metadata": {},
     "output_type": "execute_result"
    }
   ],
   "source": [
    "#train = pd.concat([yr2000,yr2001], ignore_index=True)\n",
    "train"
   ]
  },
  {
   "cell_type": "code",
   "execution_count": 45,
   "id": "f248d054",
   "metadata": {},
   "outputs": [
    {
     "data": {
      "text/plain": [
       "'2001-04-25'"
      ]
     },
     "execution_count": 45,
     "metadata": {},
     "output_type": "execute_result"
    }
   ],
   "source": [
    "train['Date'].max()"
   ]
  },
  {
   "cell_type": "code",
   "execution_count": 46,
   "id": "59eaf1fe",
   "metadata": {},
   "outputs": [
    {
     "data": {
      "text/html": [
       "<div>\n",
       "<style scoped>\n",
       "    .dataframe tbody tr th:only-of-type {\n",
       "        vertical-align: middle;\n",
       "    }\n",
       "\n",
       "    .dataframe tbody tr th {\n",
       "        vertical-align: top;\n",
       "    }\n",
       "\n",
       "    .dataframe thead th {\n",
       "        text-align: right;\n",
       "    }\n",
       "</style>\n",
       "<table border=\"1\" class=\"dataframe\">\n",
       "  <thead>\n",
       "    <tr style=\"text-align: right;\">\n",
       "      <th></th>\n",
       "      <th>UserId</th>\n",
       "      <th>ItemId</th>\n",
       "      <th>Rating</th>\n",
       "      <th>Time</th>\n",
       "      <th>Date</th>\n",
       "    </tr>\n",
       "  </thead>\n",
       "  <tbody>\n",
       "    <tr>\n",
       "      <th>2469</th>\n",
       "      <td>19</td>\n",
       "      <td>2527</td>\n",
       "      <td>3</td>\n",
       "      <td>978146700</td>\n",
       "      <td>2000-12-30</td>\n",
       "    </tr>\n",
       "    <tr>\n",
       "      <th>2298</th>\n",
       "      <td>19</td>\n",
       "      <td>593</td>\n",
       "      <td>5</td>\n",
       "      <td>978146713</td>\n",
       "      <td>2000-12-30</td>\n",
       "    </tr>\n",
       "    <tr>\n",
       "      <th>2432</th>\n",
       "      <td>19</td>\n",
       "      <td>527</td>\n",
       "      <td>3</td>\n",
       "      <td>978146727</td>\n",
       "      <td>2000-12-30</td>\n",
       "    </tr>\n",
       "    <tr>\n",
       "      <th>2457</th>\n",
       "      <td>19</td>\n",
       "      <td>1210</td>\n",
       "      <td>4</td>\n",
       "      <td>978146747</td>\n",
       "      <td>2000-12-30</td>\n",
       "    </tr>\n",
       "    <tr>\n",
       "      <th>2497</th>\n",
       "      <td>19</td>\n",
       "      <td>2115</td>\n",
       "      <td>3</td>\n",
       "      <td>978146747</td>\n",
       "      <td>2000-12-30</td>\n",
       "    </tr>\n",
       "    <tr>\n",
       "      <th>...</th>\n",
       "      <td>...</td>\n",
       "      <td>...</td>\n",
       "      <td>...</td>\n",
       "      <td>...</td>\n",
       "      <td>...</td>\n",
       "    </tr>\n",
       "    <tr>\n",
       "      <th>1000019</th>\n",
       "      <td>6040</td>\n",
       "      <td>2917</td>\n",
       "      <td>4</td>\n",
       "      <td>997454429</td>\n",
       "      <td>2001-08-10</td>\n",
       "    </tr>\n",
       "    <tr>\n",
       "      <th>999988</th>\n",
       "      <td>6040</td>\n",
       "      <td>1921</td>\n",
       "      <td>4</td>\n",
       "      <td>997454464</td>\n",
       "      <td>2001-08-10</td>\n",
       "    </tr>\n",
       "    <tr>\n",
       "      <th>1000172</th>\n",
       "      <td>6040</td>\n",
       "      <td>1784</td>\n",
       "      <td>3</td>\n",
       "      <td>997454464</td>\n",
       "      <td>2001-08-10</td>\n",
       "    </tr>\n",
       "    <tr>\n",
       "      <th>1000167</th>\n",
       "      <td>6040</td>\n",
       "      <td>161</td>\n",
       "      <td>3</td>\n",
       "      <td>997454486</td>\n",
       "      <td>2001-08-10</td>\n",
       "    </tr>\n",
       "    <tr>\n",
       "      <th>1000042</th>\n",
       "      <td>6040</td>\n",
       "      <td>1221</td>\n",
       "      <td>4</td>\n",
       "      <td>998315055</td>\n",
       "      <td>2001-08-20</td>\n",
       "    </tr>\n",
       "  </tbody>\n",
       "</table>\n",
       "<p>63883 rows × 5 columns</p>\n",
       "</div>"
      ],
      "text/plain": [
       "         UserId  ItemId  Rating       Time        Date\n",
       "2469         19    2527       3  978146700  2000-12-30\n",
       "2298         19     593       5  978146713  2000-12-30\n",
       "2432         19     527       3  978146727  2000-12-30\n",
       "2457         19    1210       4  978146747  2000-12-30\n",
       "2497         19    2115       3  978146747  2000-12-30\n",
       "...         ...     ...     ...        ...         ...\n",
       "1000019    6040    2917       4  997454429  2001-08-10\n",
       "999988     6040    1921       4  997454464  2001-08-10\n",
       "1000172    6040    1784       3  997454464  2001-08-10\n",
       "1000167    6040     161       3  997454486  2001-08-10\n",
       "1000042    6040    1221       4  998315055  2001-08-20\n",
       "\n",
       "[63883 rows x 5 columns]"
      ]
     },
     "execution_count": 46,
     "metadata": {},
     "output_type": "execute_result"
    }
   ],
   "source": [
    "valid"
   ]
  },
  {
   "cell_type": "code",
   "execution_count": 47,
   "id": "fac0b957",
   "metadata": {},
   "outputs": [
    {
     "data": {
      "text/html": [
       "<div>\n",
       "<style scoped>\n",
       "    .dataframe tbody tr th:only-of-type {\n",
       "        vertical-align: middle;\n",
       "    }\n",
       "\n",
       "    .dataframe tbody tr th {\n",
       "        vertical-align: top;\n",
       "    }\n",
       "\n",
       "    .dataframe thead th {\n",
       "        text-align: right;\n",
       "    }\n",
       "</style>\n",
       "<table border=\"1\" class=\"dataframe\">\n",
       "  <thead>\n",
       "    <tr style=\"text-align: right;\">\n",
       "      <th></th>\n",
       "      <th>UserId</th>\n",
       "      <th>ItemId</th>\n",
       "      <th>Rating</th>\n",
       "      <th>Time</th>\n",
       "      <th>Date</th>\n",
       "    </tr>\n",
       "  </thead>\n",
       "  <tbody>\n",
       "    <tr>\n",
       "      <th>2522</th>\n",
       "      <td>20</td>\n",
       "      <td>2028</td>\n",
       "      <td>4</td>\n",
       "      <td>978143106</td>\n",
       "      <td>2000-12-30</td>\n",
       "    </tr>\n",
       "    <tr>\n",
       "      <th>2516</th>\n",
       "      <td>20</td>\n",
       "      <td>1617</td>\n",
       "      <td>5</td>\n",
       "      <td>978143181</td>\n",
       "      <td>2000-12-30</td>\n",
       "    </tr>\n",
       "    <tr>\n",
       "      <th>2515</th>\n",
       "      <td>20</td>\n",
       "      <td>47</td>\n",
       "      <td>5</td>\n",
       "      <td>978143306</td>\n",
       "      <td>2000-12-30</td>\n",
       "    </tr>\n",
       "    <tr>\n",
       "      <th>2514</th>\n",
       "      <td>20</td>\n",
       "      <td>3578</td>\n",
       "      <td>5</td>\n",
       "      <td>978143344</td>\n",
       "      <td>2000-12-30</td>\n",
       "    </tr>\n",
       "    <tr>\n",
       "      <th>2501</th>\n",
       "      <td>20</td>\n",
       "      <td>3863</td>\n",
       "      <td>3</td>\n",
       "      <td>978143355</td>\n",
       "      <td>2000-12-30</td>\n",
       "    </tr>\n",
       "    <tr>\n",
       "      <th>...</th>\n",
       "      <td>...</td>\n",
       "      <td>...</td>\n",
       "      <td>...</td>\n",
       "      <td>...</td>\n",
       "      <td>...</td>\n",
       "    </tr>\n",
       "    <tr>\n",
       "      <th>994100</th>\n",
       "      <td>6002</td>\n",
       "      <td>2013</td>\n",
       "      <td>4</td>\n",
       "      <td>1014524679</td>\n",
       "      <td>2002-02-24</td>\n",
       "    </tr>\n",
       "    <tr>\n",
       "      <th>993890</th>\n",
       "      <td>6002</td>\n",
       "      <td>2520</td>\n",
       "      <td>4</td>\n",
       "      <td>1014524680</td>\n",
       "      <td>2002-02-24</td>\n",
       "    </tr>\n",
       "    <tr>\n",
       "      <th>994045</th>\n",
       "      <td>6002</td>\n",
       "      <td>1387</td>\n",
       "      <td>5</td>\n",
       "      <td>1014524720</td>\n",
       "      <td>2002-02-24</td>\n",
       "    </tr>\n",
       "    <tr>\n",
       "      <th>993900</th>\n",
       "      <td>6002</td>\n",
       "      <td>1927</td>\n",
       "      <td>4</td>\n",
       "      <td>1014524758</td>\n",
       "      <td>2002-02-24</td>\n",
       "    </tr>\n",
       "    <tr>\n",
       "      <th>994050</th>\n",
       "      <td>6002</td>\n",
       "      <td>101</td>\n",
       "      <td>4</td>\n",
       "      <td>1014524817</td>\n",
       "      <td>2002-02-24</td>\n",
       "    </tr>\n",
       "  </tbody>\n",
       "</table>\n",
       "<p>182046 rows × 5 columns</p>\n",
       "</div>"
      ],
      "text/plain": [
       "        UserId  ItemId  Rating        Time        Date\n",
       "2522        20    2028       4   978143106  2000-12-30\n",
       "2516        20    1617       5   978143181  2000-12-30\n",
       "2515        20      47       5   978143306  2000-12-30\n",
       "2514        20    3578       5   978143344  2000-12-30\n",
       "2501        20    3863       3   978143355  2000-12-30\n",
       "...        ...     ...     ...         ...         ...\n",
       "994100    6002    2013       4  1014524679  2002-02-24\n",
       "993890    6002    2520       4  1014524680  2002-02-24\n",
       "994045    6002    1387       5  1014524720  2002-02-24\n",
       "993900    6002    1927       4  1014524758  2002-02-24\n",
       "994050    6002     101       4  1014524817  2002-02-24\n",
       "\n",
       "[182046 rows x 5 columns]"
      ]
     },
     "execution_count": 47,
     "metadata": {},
     "output_type": "execute_result"
    }
   ],
   "source": [
    "test"
   ]
  },
  {
   "cell_type": "code",
   "execution_count": 48,
   "id": "97efec34",
   "metadata": {},
   "outputs": [],
   "source": [
    "# data에 대한 정보를 살펴봅니다.\n",
    "def stats_info(data: pd.DataFrame, status: str):\n",
    "    print(f'* {status} Set Stats Info\\n'\n",
    "          f'\\t Events: {len(data)}\\n'\n",
    "          f'\\t Users: {data[\"UserId\"].nunique()}\\n'\n",
    "          f'\\t Items: {data[\"ItemId\"].nunique()}\\n'\n",
    "          f'\\t First Time : {data[\"Date\"].min()}\\n'\n",
    "          f'\\t Last Time : {data[\"Date\"].max()}\\n')"
   ]
  },
  {
   "cell_type": "code",
   "execution_count": 49,
   "id": "b554423b",
   "metadata": {},
   "outputs": [
    {
     "name": "stdout",
     "output_type": "stream",
     "text": [
      "* train Set Stats Info\n",
      "\t Events: 590449\n",
      "\t Users: 5150\n",
      "\t Items: 3556\n",
      "\t First Time : 2000-04-25\n",
      "\t Last Time : 2001-04-25\n",
      "\n",
      "* valid Set Stats Info\n",
      "\t Events: 63883\n",
      "\t Users: 300\n",
      "\t Items: 3076\n",
      "\t First Time : 2000-04-25\n",
      "\t Last Time : 2001-12-26\n",
      "\n",
      "* test Set Stats Info\n",
      "\t Events: 182046\n",
      "\t Users: 589\n",
      "\t Items: 3381\n",
      "\t First Time : 2000-04-27\n",
      "\t Last Time : 2003-02-28\n",
      "\n"
     ]
    }
   ],
   "source": [
    "stats_info(train, 'train')\n",
    "stats_info(valid, 'valid')\n",
    "stats_info(test, 'test')"
   ]
  },
  {
   "cell_type": "code",
   "execution_count": 50,
   "id": "41842973",
   "metadata": {},
   "outputs": [],
   "source": [
    "# train set에 없는 아이템이 val, test기간에 생길 수 있으므로 train data를 기준으로 인덱싱합니다.\n",
    "id2idx = {item_id : index for index, item_id in enumerate(train['ItemId'].unique())}\n",
    "\n",
    "def indexing(df, id2idx):\n",
    "    df['item_idx'] = df['ItemId'].map(lambda x: id2idx.get(x, -1))  # id2idx에 없는 아이템은 모르는 값(-1) 처리 해줍니다.\n",
    "    return df\n",
    "\n",
    "train = indexing(train, id2idx)\n",
    "valid = indexing(valid, id2idx)\n",
    "test = indexing(test, id2idx)"
   ]
  },
  {
   "cell_type": "code",
   "execution_count": 51,
   "id": "df121e7d",
   "metadata": {},
   "outputs": [],
   "source": [
    "save_path = data_path / 'processed'\n",
    "save_path.mkdir(parents=True, exist_ok=True)\n",
    "\n",
    "train.to_pickle(save_path / 'train.pkl')\n",
    "valid.to_pickle(save_path / 'valid.pkl')\n",
    "test.to_pickle(save_path / 'test.pkl')"
   ]
  },
  {
   "cell_type": "markdown",
   "id": "e1deda36",
   "metadata": {},
   "source": [
    "# GRU4REC 소개\n",
    "> 2016년 ICLR에 공개된 SESSION-BASED RECOMMENDATIONS WITH RECURRENT NEURAL NETWORKS      \n",
    "> Session Data에서는 처음으로 RNN 계열 모델을 적용하여 발표       \n",
    "\n",
    "#### 모델 구조          \n",
    "\n",
    "- 여러 RNN 계열의 모델(e.g. LSTM)이 있겠지만 저자가 실험해 본 결과 GRU의 성능이 제일 좋았다고 한다.\n",
    "- 이번에서 Embedding Layer를 사용하지 않고 One-hot Encoding만 사용한다.     \n",
    "- 대신 추천 데이터의 특징 몇 가지를 살려 모델링을 한다.          \n",
    "\n",
    "1. Session-Parallel Mini-Batches\n",
    "- Session의 길이는 매우 짧은 것들이 대부분이다. 그러나 매우 긴 것도 있다.\n",
    "- 이 세션들을 데이터 샘플 하나로 보고 mini-batch를 구성하여 input으로 넣는다면 길이가 제일 긴 세션의 연산이 끝날 때까지 짧은 세션들은 기다려야한다.\n",
    "- 논문의 저자는 대신 Session-parallel Mini-Batches를 제안한다. 이름처럼 Session이 끝날 때까지 기다리지 않고 병렬적으로 계산한다는 것이다.\n",
    "          \n",
    "![](https://d3s0tskafalll9.cloudfront.net/media/images/input1.max-800x600.png)\n",
    "![](https://d3s0tskafalll9.cloudfront.net/media/images/input2.max-800x600.png)  \n",
    "\n",
    "2. SAMPLING ON THE OUTPUT\n",
    "-  Negative Sampling와 같은 개념이다.\n",
    "-  Item의 수가 많기 때문에 Loss를 계산할 때 모든 아이템을 비교하지 않고 인기도를 고려하여 Sampling한다. 이번에는 구현하지 않았다.\n",
    "\n",
    "\n",
    "3. Ranking Loss\n",
    "-  Session-Based Recommendation Task를 여러 아이템 중 다음 아이템이 무엇인지 Classification하는 Task로 생각할 수 있다.\n",
    "-  그러나 여러 아이템을 관련도 순으로 랭킹을 매겨서 높은 랭킹의 아이템을 추천하는 Task로도 생각할 수 있다.\n",
    "-  추천 시스템 연구 분야에서는 이렇게 Ranking을 맞추는 objective function에 대한 연구가 있었고 논문의 저자 역시 이런 Loss를 사용했다.\n",
    "- 이번에는 Classification Task를 보고 Cross-Entropy Loss를 사용했다."
   ]
  },
  {
   "cell_type": "markdown",
   "id": "21165366",
   "metadata": {},
   "source": [
    "# 2. 미니 배치의 구성\n",
    "- Session-Parallel Mini Batch를 구현\n",
    "- 이 프로젝트에서는 Session이 아닌 UserID 기반\n",
    "- 데이터가 주어지면 세션이 시작되는 인덱스를 담는 값과 세션을 새로 인덱싱한 값을 갖는 클래스를 만듬"
   ]
  },
  {
   "cell_type": "markdown",
   "id": "c7d998b8",
   "metadata": {},
   "source": [
    "# 2.1 SessionDataset"
   ]
  },
  {
   "cell_type": "code",
   "execution_count": 52,
   "id": "b15f094a",
   "metadata": {},
   "outputs": [],
   "source": [
    "class SessionDataset:\n",
    "    \"\"\"Credit to yhs-968/pyGRU4REC.\"\"\"\n",
    "\n",
    "    def __init__(self, data):\n",
    "        self.df = data\n",
    "        self.click_offsets = self.get_click_offsets()\n",
    "        self.session_idx = np.arange(self.df['UserId'].nunique())  # indexing to SessionId\n",
    "\n",
    "    def get_click_offsets(self):\n",
    "        \"\"\"\n",
    "        Return the indexes of the first click of each session IDs,\n",
    "        \"\"\"\n",
    "        offsets = np.zeros(self.df['UserId'].nunique() + 1, dtype=np.int32)\n",
    "        offsets[1:] = self.df.groupby('UserId').size().cumsum()\n",
    "        return offsets"
   ]
  },
  {
   "cell_type": "code",
   "execution_count": 53,
   "id": "8deec8a8",
   "metadata": {},
   "outputs": [
    {
     "data": {
      "text/html": [
       "<div>\n",
       "<style scoped>\n",
       "    .dataframe tbody tr th:only-of-type {\n",
       "        vertical-align: middle;\n",
       "    }\n",
       "\n",
       "    .dataframe tbody tr th {\n",
       "        vertical-align: top;\n",
       "    }\n",
       "\n",
       "    .dataframe thead th {\n",
       "        text-align: right;\n",
       "    }\n",
       "</style>\n",
       "<table border=\"1\" class=\"dataframe\">\n",
       "  <thead>\n",
       "    <tr style=\"text-align: right;\">\n",
       "      <th></th>\n",
       "      <th>UserId</th>\n",
       "      <th>ItemId</th>\n",
       "      <th>Rating</th>\n",
       "      <th>Time</th>\n",
       "      <th>Date</th>\n",
       "      <th>item_idx</th>\n",
       "    </tr>\n",
       "  </thead>\n",
       "  <tbody>\n",
       "    <tr>\n",
       "      <th>31</th>\n",
       "      <td>1</td>\n",
       "      <td>3186</td>\n",
       "      <td>4</td>\n",
       "      <td>978300019</td>\n",
       "      <td>2000-12-31</td>\n",
       "      <td>0</td>\n",
       "    </tr>\n",
       "    <tr>\n",
       "      <th>22</th>\n",
       "      <td>1</td>\n",
       "      <td>1270</td>\n",
       "      <td>5</td>\n",
       "      <td>978300055</td>\n",
       "      <td>2000-12-31</td>\n",
       "      <td>1</td>\n",
       "    </tr>\n",
       "    <tr>\n",
       "      <th>27</th>\n",
       "      <td>1</td>\n",
       "      <td>1721</td>\n",
       "      <td>4</td>\n",
       "      <td>978300055</td>\n",
       "      <td>2000-12-31</td>\n",
       "      <td>2</td>\n",
       "    </tr>\n",
       "    <tr>\n",
       "      <th>37</th>\n",
       "      <td>1</td>\n",
       "      <td>1022</td>\n",
       "      <td>5</td>\n",
       "      <td>978300055</td>\n",
       "      <td>2000-12-31</td>\n",
       "      <td>3</td>\n",
       "    </tr>\n",
       "    <tr>\n",
       "      <th>24</th>\n",
       "      <td>1</td>\n",
       "      <td>2340</td>\n",
       "      <td>3</td>\n",
       "      <td>978300103</td>\n",
       "      <td>2000-12-31</td>\n",
       "      <td>4</td>\n",
       "    </tr>\n",
       "    <tr>\n",
       "      <th>36</th>\n",
       "      <td>1</td>\n",
       "      <td>1836</td>\n",
       "      <td>5</td>\n",
       "      <td>978300172</td>\n",
       "      <td>2000-12-31</td>\n",
       "      <td>5</td>\n",
       "    </tr>\n",
       "    <tr>\n",
       "      <th>3</th>\n",
       "      <td>1</td>\n",
       "      <td>3408</td>\n",
       "      <td>4</td>\n",
       "      <td>978300275</td>\n",
       "      <td>2000-12-31</td>\n",
       "      <td>6</td>\n",
       "    </tr>\n",
       "    <tr>\n",
       "      <th>7</th>\n",
       "      <td>1</td>\n",
       "      <td>2804</td>\n",
       "      <td>5</td>\n",
       "      <td>978300719</td>\n",
       "      <td>2000-12-31</td>\n",
       "      <td>7</td>\n",
       "    </tr>\n",
       "    <tr>\n",
       "      <th>47</th>\n",
       "      <td>1</td>\n",
       "      <td>1207</td>\n",
       "      <td>4</td>\n",
       "      <td>978300719</td>\n",
       "      <td>2000-12-31</td>\n",
       "      <td>8</td>\n",
       "    </tr>\n",
       "    <tr>\n",
       "      <th>0</th>\n",
       "      <td>1</td>\n",
       "      <td>1193</td>\n",
       "      <td>5</td>\n",
       "      <td>978300760</td>\n",
       "      <td>2000-12-31</td>\n",
       "      <td>9</td>\n",
       "    </tr>\n",
       "  </tbody>\n",
       "</table>\n",
       "</div>"
      ],
      "text/plain": [
       "    UserId  ItemId  Rating       Time        Date  item_idx\n",
       "31       1    3186       4  978300019  2000-12-31         0\n",
       "22       1    1270       5  978300055  2000-12-31         1\n",
       "27       1    1721       4  978300055  2000-12-31         2\n",
       "37       1    1022       5  978300055  2000-12-31         3\n",
       "24       1    2340       3  978300103  2000-12-31         4\n",
       "36       1    1836       5  978300172  2000-12-31         5\n",
       "3        1    3408       4  978300275  2000-12-31         6\n",
       "7        1    2804       5  978300719  2000-12-31         7\n",
       "47       1    1207       4  978300719  2000-12-31         8\n",
       "0        1    1193       5  978300760  2000-12-31         9"
      ]
     },
     "execution_count": 53,
     "metadata": {},
     "output_type": "execute_result"
    }
   ],
   "source": [
    "train_dataset = SessionDataset(train)\n",
    "train_dataset.df.head(10)"
   ]
  },
  {
   "cell_type": "code",
   "execution_count": 54,
   "id": "3cb4d391",
   "metadata": {},
   "outputs": [
    {
     "data": {
      "text/plain": [
       "array([     0,     53,    169, ..., 590312, 590330, 590449], dtype=int32)"
      ]
     },
     "execution_count": 54,
     "metadata": {},
     "output_type": "execute_result"
    }
   ],
   "source": [
    "train_dataset.click_offsets"
   ]
  },
  {
   "cell_type": "code",
   "execution_count": 55,
   "id": "94672c68",
   "metadata": {},
   "outputs": [
    {
     "data": {
      "text/plain": [
       "array([   0,    1,    2, ..., 5147, 5148, 5149])"
      ]
     },
     "execution_count": 55,
     "metadata": {},
     "output_type": "execute_result"
    }
   ],
   "source": [
    "train_dataset.session_idx"
   ]
  },
  {
   "cell_type": "markdown",
   "id": "3bab65d0",
   "metadata": {},
   "source": [
    "# 2-2. Session DataLoader\n",
    "- SessionDataset 객체를 받아서 Session-Parallel mini-batch를 만드는 클래스를 만듬"
   ]
  },
  {
   "cell_type": "code",
   "execution_count": 56,
   "id": "f7efda2a",
   "metadata": {},
   "outputs": [],
   "source": [
    "class SessionDataLoader:\n",
    "    \"\"\"Credit to yhs-968/pyGRU4REC.\"\"\"\n",
    "\n",
    "    def __init__(self, dataset: SessionDataset, batch_size=50):\n",
    "        self.dataset = dataset\n",
    "        self.batch_size = batch_size\n",
    "\n",
    "    def __iter__(self):\n",
    "        \"\"\" Returns the iterator for producing session-parallel training mini-batches.\n",
    "        Yields:\n",
    "            input (B,):  Item indices that will be encoded as one-hot vectors later.\n",
    "            target (B,): a Variable that stores the target item indices\n",
    "            masks: Numpy array indicating the positions of the sessions to be terminated\n",
    "        \"\"\"\n",
    "\n",
    "        start, end, mask, last_session, finished = self.initialize()  # initialize 메소드에서 확인해주세요.\n",
    "        \"\"\"\n",
    "        start : Index Where Session Start\n",
    "        end : Index Where Session End\n",
    "        mask : indicator for the sessions to be terminated\n",
    "        \"\"\"\n",
    "\n",
    "        while not finished:\n",
    "            min_len = (end - start).min() - 1  # Shortest Length Among Sessions\n",
    "            for i in range(min_len):\n",
    "                # Build inputs & targets\n",
    "                inp = self.dataset.df['item_idx'].values[start + i]\n",
    "                target = self.dataset.df['item_idx'].values[start + i + 1]\n",
    "                yield inp, target, mask\n",
    "\n",
    "            start, end, mask, last_session, finished = self.update_status(start, end, min_len, last_session, finished)\n",
    "\n",
    "    def initialize(self):\n",
    "        first_iters = np.arange(self.batch_size)    # 첫 배치에 사용할 세션 Index를 가져옵니다.\n",
    "        last_session = self.batch_size - 1    # 마지막으로 다루고 있는 세션 Index를 저장해둡니다.\n",
    "        start = self.dataset.click_offsets[self.dataset.session_idx[first_iters]]       # data 상에서 session이 시작된 위치를 가져옵니다.\n",
    "        end = self.dataset.click_offsets[self.dataset.session_idx[first_iters] + 1]  # session이 끝난 위치 바로 다음 위치를 가져옵니다.\n",
    "        mask = np.array([])   # session의 모든 아이템을 다 돌은 경우 mask에 추가해줄 것입니다.\n",
    "        finished = False         # data를 전부 돌았는지 기록하기 위한 변수입니다.\n",
    "        return start, end, mask, last_session, finished\n",
    "\n",
    "    def update_status(self, start: np.ndarray, end: np.ndarray, min_len: int, last_session: int, finished: bool):  \n",
    "        # 다음 배치 데이터를 생성하기 위해 상태를 update합니다.\n",
    "        \n",
    "        start += min_len   # __iter__에서 min_len 만큼 for문을 돌았으므로 start를 min_len 만큼 더해줍니다.\n",
    "        mask = np.arange(self.batch_size)[(end - start) == 1]  \n",
    "        # end는 다음 세션이 시작되는 위치인데 start와 한 칸 차이난다는 것은 session이 끝났다는 뜻입니다. mask에 기록해줍니다.\n",
    "\n",
    "        for i, idx in enumerate(mask, start=1):  # mask에 추가된 세션 개수만큼 새로운 세션을 돌것입니다.\n",
    "            new_session = last_session + i  \n",
    "            if new_session > self.dataset.session_idx[-1]:  # 만약 새로운 세션이 마지막 세션 index보다 크다면 모든 학습데이터를 돈 것입니다.\n",
    "                finished = True\n",
    "                break\n",
    "            # update the next starting/ending point\n",
    "            start[idx] = self.dataset.click_offsets[self.dataset.session_idx[new_session]]     # 종료된 세션 대신 새로운 세션의 시작점을 기록합니다.\n",
    "            end[idx] = self.dataset.click_offsets[self.dataset.session_idx[new_session] + 1]\n",
    "\n",
    "        last_session += len(mask)  # 마지막 세션의 위치를 기록해둡니다.\n",
    "        return start, end, mask, last_session, finished"
   ]
  },
  {
   "cell_type": "code",
   "execution_count": 57,
   "id": "74f68403",
   "metadata": {},
   "outputs": [
    {
     "data": {
      "text/html": [
       "<div>\n",
       "<style scoped>\n",
       "    .dataframe tbody tr th:only-of-type {\n",
       "        vertical-align: middle;\n",
       "    }\n",
       "\n",
       "    .dataframe tbody tr th {\n",
       "        vertical-align: top;\n",
       "    }\n",
       "\n",
       "    .dataframe thead th {\n",
       "        text-align: right;\n",
       "    }\n",
       "</style>\n",
       "<table border=\"1\" class=\"dataframe\">\n",
       "  <thead>\n",
       "    <tr style=\"text-align: right;\">\n",
       "      <th></th>\n",
       "      <th>UserId</th>\n",
       "      <th>ItemId</th>\n",
       "      <th>Rating</th>\n",
       "      <th>Time</th>\n",
       "      <th>Date</th>\n",
       "      <th>item_idx</th>\n",
       "    </tr>\n",
       "  </thead>\n",
       "  <tbody>\n",
       "    <tr>\n",
       "      <th>31</th>\n",
       "      <td>1</td>\n",
       "      <td>3186</td>\n",
       "      <td>4</td>\n",
       "      <td>978300019</td>\n",
       "      <td>2000-12-31</td>\n",
       "      <td>0</td>\n",
       "    </tr>\n",
       "    <tr>\n",
       "      <th>22</th>\n",
       "      <td>1</td>\n",
       "      <td>1270</td>\n",
       "      <td>5</td>\n",
       "      <td>978300055</td>\n",
       "      <td>2000-12-31</td>\n",
       "      <td>1</td>\n",
       "    </tr>\n",
       "    <tr>\n",
       "      <th>27</th>\n",
       "      <td>1</td>\n",
       "      <td>1721</td>\n",
       "      <td>4</td>\n",
       "      <td>978300055</td>\n",
       "      <td>2000-12-31</td>\n",
       "      <td>2</td>\n",
       "    </tr>\n",
       "    <tr>\n",
       "      <th>37</th>\n",
       "      <td>1</td>\n",
       "      <td>1022</td>\n",
       "      <td>5</td>\n",
       "      <td>978300055</td>\n",
       "      <td>2000-12-31</td>\n",
       "      <td>3</td>\n",
       "    </tr>\n",
       "    <tr>\n",
       "      <th>24</th>\n",
       "      <td>1</td>\n",
       "      <td>2340</td>\n",
       "      <td>3</td>\n",
       "      <td>978300103</td>\n",
       "      <td>2000-12-31</td>\n",
       "      <td>4</td>\n",
       "    </tr>\n",
       "    <tr>\n",
       "      <th>36</th>\n",
       "      <td>1</td>\n",
       "      <td>1836</td>\n",
       "      <td>5</td>\n",
       "      <td>978300172</td>\n",
       "      <td>2000-12-31</td>\n",
       "      <td>5</td>\n",
       "    </tr>\n",
       "    <tr>\n",
       "      <th>3</th>\n",
       "      <td>1</td>\n",
       "      <td>3408</td>\n",
       "      <td>4</td>\n",
       "      <td>978300275</td>\n",
       "      <td>2000-12-31</td>\n",
       "      <td>6</td>\n",
       "    </tr>\n",
       "    <tr>\n",
       "      <th>7</th>\n",
       "      <td>1</td>\n",
       "      <td>2804</td>\n",
       "      <td>5</td>\n",
       "      <td>978300719</td>\n",
       "      <td>2000-12-31</td>\n",
       "      <td>7</td>\n",
       "    </tr>\n",
       "    <tr>\n",
       "      <th>47</th>\n",
       "      <td>1</td>\n",
       "      <td>1207</td>\n",
       "      <td>4</td>\n",
       "      <td>978300719</td>\n",
       "      <td>2000-12-31</td>\n",
       "      <td>8</td>\n",
       "    </tr>\n",
       "    <tr>\n",
       "      <th>0</th>\n",
       "      <td>1</td>\n",
       "      <td>1193</td>\n",
       "      <td>5</td>\n",
       "      <td>978300760</td>\n",
       "      <td>2000-12-31</td>\n",
       "      <td>9</td>\n",
       "    </tr>\n",
       "    <tr>\n",
       "      <th>21</th>\n",
       "      <td>1</td>\n",
       "      <td>720</td>\n",
       "      <td>3</td>\n",
       "      <td>978300760</td>\n",
       "      <td>2000-12-31</td>\n",
       "      <td>10</td>\n",
       "    </tr>\n",
       "    <tr>\n",
       "      <th>44</th>\n",
       "      <td>1</td>\n",
       "      <td>260</td>\n",
       "      <td>4</td>\n",
       "      <td>978300760</td>\n",
       "      <td>2000-12-31</td>\n",
       "      <td>11</td>\n",
       "    </tr>\n",
       "    <tr>\n",
       "      <th>9</th>\n",
       "      <td>1</td>\n",
       "      <td>919</td>\n",
       "      <td>4</td>\n",
       "      <td>978301368</td>\n",
       "      <td>2000-12-31</td>\n",
       "      <td>12</td>\n",
       "    </tr>\n",
       "    <tr>\n",
       "      <th>51</th>\n",
       "      <td>1</td>\n",
       "      <td>608</td>\n",
       "      <td>4</td>\n",
       "      <td>978301398</td>\n",
       "      <td>2000-12-31</td>\n",
       "      <td>13</td>\n",
       "    </tr>\n",
       "    <tr>\n",
       "      <th>43</th>\n",
       "      <td>1</td>\n",
       "      <td>2692</td>\n",
       "      <td>4</td>\n",
       "      <td>978301570</td>\n",
       "      <td>2000-12-31</td>\n",
       "      <td>14</td>\n",
       "    </tr>\n",
       "  </tbody>\n",
       "</table>\n",
       "</div>"
      ],
      "text/plain": [
       "    UserId  ItemId  Rating       Time        Date  item_idx\n",
       "31       1    3186       4  978300019  2000-12-31         0\n",
       "22       1    1270       5  978300055  2000-12-31         1\n",
       "27       1    1721       4  978300055  2000-12-31         2\n",
       "37       1    1022       5  978300055  2000-12-31         3\n",
       "24       1    2340       3  978300103  2000-12-31         4\n",
       "36       1    1836       5  978300172  2000-12-31         5\n",
       "3        1    3408       4  978300275  2000-12-31         6\n",
       "7        1    2804       5  978300719  2000-12-31         7\n",
       "47       1    1207       4  978300719  2000-12-31         8\n",
       "0        1    1193       5  978300760  2000-12-31         9\n",
       "21       1     720       3  978300760  2000-12-31        10\n",
       "44       1     260       4  978300760  2000-12-31        11\n",
       "9        1     919       4  978301368  2000-12-31        12\n",
       "51       1     608       4  978301398  2000-12-31        13\n",
       "43       1    2692       4  978301570  2000-12-31        14"
      ]
     },
     "execution_count": 57,
     "metadata": {},
     "output_type": "execute_result"
    }
   ],
   "source": [
    "train_data_loader = SessionDataLoader(train_dataset, batch_size=4)\n",
    "train_dataset.df.head(15)"
   ]
  },
  {
   "cell_type": "code",
   "execution_count": 58,
   "id": "ac71a3e1",
   "metadata": {},
   "outputs": [],
   "source": [
    "iter_ex = iter(train_data_loader)"
   ]
  },
  {
   "cell_type": "code",
   "execution_count": 59,
   "id": "20245247",
   "metadata": {},
   "outputs": [
    {
     "name": "stdout",
     "output_type": "stream",
     "text": [
      "Model Input Item Idx are : [ 0 53 64 54]\n",
      "Label Item Idx are :       [ 1 54 62 24]\n",
      "Previous Masked Input Idx are []\n"
     ]
    }
   ],
   "source": [
    "inputs, labels, mask =  next(iter_ex)\n",
    "print(f'Model Input Item Idx are : {inputs}')\n",
    "print(f'Label Item Idx are : {\"\":5} {labels}')\n",
    "print(f'Previous Masked Input Idx are {mask}')"
   ]
  },
  {
   "cell_type": "markdown",
   "id": "3c91ab2a",
   "metadata": {},
   "source": [
    "# 3. 모델 구성"
   ]
  },
  {
   "cell_type": "markdown",
   "id": "b4a16ab3",
   "metadata": {},
   "source": [
    "1. Session-Based Recommendation Task에서는 모델이 k개의 아이템을 제시했을 때, 유저가 클릭/ 구매한 n개의 아이템이 많아야 좋음       \n",
    "> 이 때문에 recall의 개념을 확장한 recall@k 지표, precision의 개념을 확장한 Mean Average Precision@k 지표 등을 사용            \n",
    "> 모델 성능에 대한 지표 : precision, recall\n",
    "\n",
    "2. 추천에서는 몇 번째로 맞추느냐도 중요      \n",
    "> 따라서 순서에 민감한 지표인 MRR, NDCG 같은 지표도 사용         \n",
    "\n",
    "3. 이번 자료에서는 MRR과 Recall@k를 사용\n",
    "> MRR은 정답 아이템이 나온 순번의 역수 값                       \n",
    "> 따라서 정답 아이템이 추천 결과 앞쪽 순번에 나온다면 지표가 높아질 것이고 뒤쪽에 나오거나 안 나온다면 지표가 낮아질 것           "
   ]
  },
  {
   "cell_type": "code",
   "execution_count": 60,
   "id": "c8521508",
   "metadata": {},
   "outputs": [],
   "source": [
    "def mrr_k(pred, truth: int, k: int):\n",
    "    indexing = np.where(pred[:k] == truth)[0]\n",
    "    if len(indexing) > 0:\n",
    "        return 1 / (indexing[0] + 1)\n",
    "    else:\n",
    "        return 0\n",
    "\n",
    "\n",
    "def recall_k(pred, truth: int, k: int) -> int:\n",
    "    answer = truth in pred[:k]\n",
    "    return int(answer)"
   ]
  },
  {
   "cell_type": "markdown",
   "id": "d01371ef",
   "metadata": {},
   "source": [
    "#### GRU4REC 모델 구조를 구현"
   ]
  },
  {
   "cell_type": "code",
   "execution_count": 61,
   "id": "f0d249fa",
   "metadata": {},
   "outputs": [],
   "source": [
    "import numpy as np\n",
    "import tensorflow as tf\n",
    "from tensorflow.keras.layers import Input, Dense, Dropout, GRU\n",
    "from tensorflow.keras.losses import categorical_crossentropy\n",
    "from tensorflow.keras.models import Model\n",
    "from tensorflow.keras.optimizers import Adam\n",
    "from tensorflow.keras.utils import to_categorical\n",
    "from tqdm import tqdm"
   ]
  },
  {
   "cell_type": "code",
   "execution_count": 62,
   "id": "fb2b2829",
   "metadata": {},
   "outputs": [],
   "source": [
    "def create_model(args):\n",
    "    inputs = Input(batch_shape=(args.batch_size, 1, args.num_items))\n",
    "    gru, _ = GRU(args.hsz, stateful=True, return_state=True, name='GRU')(inputs)\n",
    "    dropout = Dropout(args.drop_rate)(gru)\n",
    "    predictions = Dense(args.num_items, activation='softmax')(dropout)\n",
    "    model = Model(inputs=inputs, outputs=[predictions])\n",
    "    model.compile(loss=categorical_crossentropy, optimizer=Adam(args.lr), metrics=['accuracy'])\n",
    "    model.summary()\n",
    "    return model"
   ]
  },
  {
   "cell_type": "code",
   "execution_count": 63,
   "id": "864fd8a0",
   "metadata": {},
   "outputs": [],
   "source": [
    "class Args:\n",
    "    def __init__(self, train, valid, test, batch_size, hsz, drop_rate, lr, epochs, k):\n",
    "        self.train = train\n",
    "        self.valid = valid\n",
    "        self.test = test\n",
    "        self.num_items = train['ItemId'].nunique()\n",
    "        self.num_sessions = train['UserId'].nunique()\n",
    "        self.batch_size = batch_size\n",
    "        self.hsz = hsz\n",
    "        self.drop_rate = drop_rate\n",
    "        self.lr = lr\n",
    "        self.epochs = epochs\n",
    "        self.k = k\n",
    "\n",
    "args = Args(train, valid, test, batch_size=256, hsz=50, drop_rate=0.1, lr=0.001, epochs=50, k=20)"
   ]
  },
  {
   "cell_type": "code",
   "execution_count": 64,
   "id": "dbbc6c0e",
   "metadata": {},
   "outputs": [
    {
     "name": "stdout",
     "output_type": "stream",
     "text": [
      "Model: \"model\"\n",
      "_________________________________________________________________\n",
      "Layer (type)                 Output Shape              Param #   \n",
      "=================================================================\n",
      "input_1 (InputLayer)         [(256, 1, 3556)]          0         \n",
      "_________________________________________________________________\n",
      "GRU (GRU)                    [(256, 50), (256, 50)]    541200    \n",
      "_________________________________________________________________\n",
      "dropout (Dropout)            (256, 50)                 0         \n",
      "_________________________________________________________________\n",
      "dense (Dense)                (256, 3556)               181356    \n",
      "=================================================================\n",
      "Total params: 722,556\n",
      "Trainable params: 722,556\n",
      "Non-trainable params: 0\n",
      "_________________________________________________________________\n"
     ]
    }
   ],
   "source": [
    "model = create_model(args)"
   ]
  },
  {
   "cell_type": "markdown",
   "id": "1046d2bf",
   "metadata": {},
   "source": [
    "#  4. 모델 학습"
   ]
  },
  {
   "cell_type": "code",
   "execution_count": 65,
   "id": "a3c3a592",
   "metadata": {},
   "outputs": [],
   "source": [
    "# train 셋으로 학습하면서 valid 셋으로 검증합니다.\n",
    "def train_model(model, args):\n",
    "    train_dataset = SessionDataset(args.train)\n",
    "    train_loader = SessionDataLoader(train_dataset, batch_size=args.batch_size)\n",
    "\n",
    "    for epoch in range(1, args.epochs + 1):\n",
    "        total_step = len(args.train) - args.train['UserId'].nunique()\n",
    "        tr_loader = tqdm(train_loader, total=total_step // args.batch_size, desc='Train', mininterval=1)\n",
    "        for feat, target, mask in tr_loader:\n",
    "            reset_hidden_states(model, mask)  # 종료된 session은 hidden_state를 초기화합니다. 아래 메서드에서 확인해주세요.\n",
    "\n",
    "            input_ohe = to_categorical(feat, num_classes=args.num_items)\n",
    "            input_ohe = np.expand_dims(input_ohe, axis=1)\n",
    "            target_ohe = to_categorical(target, num_classes=args.num_items)\n",
    "\n",
    "            result = model.train_on_batch(input_ohe, target_ohe)\n",
    "            tr_loader.set_postfix(train_loss=result[0], accuracy = result[1])\n",
    "\n",
    "        val_recall, val_mrr = get_metrics(args.valid, model, args, args.k)  # valid set에 대해 검증합니다.\n",
    "\n",
    "        print(f\"\\t - Recall@{args.k} epoch {epoch}: {val_recall:3f}\")\n",
    "        print(f\"\\t - MRR@{args.k}    epoch {epoch}: {val_mrr:3f}\\n\")\n",
    "\n",
    "\n",
    "def reset_hidden_states(model, mask):\n",
    "    gru_layer = model.get_layer(name='GRU')  # model에서 gru layer를 가져옵니다.\n",
    "    hidden_states = gru_layer.states[0].numpy()  # gru_layer의 parameter를 가져옵니다.\n",
    "    for elt in mask:  # mask된 인덱스 즉, 종료된 세션의 인덱스를 돌면서\n",
    "        hidden_states[elt, :] = 0  # parameter를 초기화 합니다.\n",
    "    gru_layer.reset_states(states=hidden_states)\n",
    "\n",
    "\n",
    "def get_metrics(data, model, args, k: int):  # valid셋과 test셋을 평가하는 코드입니다. \n",
    "                                             # train과 거의 같지만 mrr, recall을 구하는 라인이 있습니다.\n",
    "    dataset = SessionDataset(data)\n",
    "    loader = SessionDataLoader(dataset, batch_size=args.batch_size)\n",
    "    recall_list, mrr_list = [], []\n",
    "\n",
    "    total_step = len(data) - data['UserId'].nunique()\n",
    "    for inputs, label, mask in tqdm(loader, total=total_step // args.batch_size, desc='Evaluation', mininterval=1):\n",
    "        reset_hidden_states(model, mask)\n",
    "        input_ohe = to_categorical(inputs, num_classes=args.num_items)\n",
    "        input_ohe = np.expand_dims(input_ohe, axis=1)\n",
    "\n",
    "        pred = model.predict(input_ohe, batch_size=args.batch_size)\n",
    "        pred_arg = tf.argsort(pred, direction='DESCENDING')  # softmax 값이 큰 순서대로 sorting 합니다.\n",
    "\n",
    "        length = len(inputs)\n",
    "        recall_list.extend([recall_k(pred_arg[i], label[i], k) for i in range(length)])\n",
    "        mrr_list.extend([mrr_k(pred_arg[i], label[i], k) for i in range(length)])\n",
    "\n",
    "    recall, mrr = np.mean(recall_list), np.mean(mrr_list)\n",
    "    return recall, mrr"
   ]
  },
  {
   "cell_type": "code",
   "execution_count": 69,
   "id": "5182d177",
   "metadata": {},
   "outputs": [
    {
     "name": "stderr",
     "output_type": "stream",
     "text": [
      "Train:  95%|█████████▍| 2168/2286 [00:49<00:02, 43.93it/s, accuracy=0.0117, train_loss=6.83] \n",
      "Evaluation:  21%|██▏       | 53/248 [00:56<03:29,  1.07s/it]\n"
     ]
    },
    {
     "name": "stdout",
     "output_type": "stream",
     "text": [
      "\t - Recall@20 epoch 1: 0.144973\n",
      "\t - MRR@20    epoch 1: 0.035413\n",
      "\n"
     ]
    },
    {
     "name": "stderr",
     "output_type": "stream",
     "text": [
      "Train:  95%|█████████▍| 2168/2286 [00:43<00:02, 49.91it/s, accuracy=0.0273, train_loss=6.24] \n",
      "Evaluation:  21%|██▏       | 53/248 [00:52<03:12,  1.01it/s]\n"
     ]
    },
    {
     "name": "stdout",
     "output_type": "stream",
     "text": [
      "\t - Recall@20 epoch 2: 0.269163\n",
      "\t - MRR@20    epoch 2: 0.073633\n",
      "\n"
     ]
    },
    {
     "name": "stderr",
     "output_type": "stream",
     "text": [
      "Train:  95%|█████████▍| 2168/2286 [00:43<00:02, 50.38it/s, accuracy=0.0312, train_loss=6]    \n",
      "Evaluation:  21%|██▏       | 53/248 [00:50<03:06,  1.05it/s]\n"
     ]
    },
    {
     "name": "stdout",
     "output_type": "stream",
     "text": [
      "\t - Recall@20 epoch 3: 0.313974\n",
      "\t - MRR@20    epoch 3: 0.088369\n",
      "\n"
     ]
    },
    {
     "name": "stderr",
     "output_type": "stream",
     "text": [
      "Train:  95%|█████████▍| 2168/2286 [00:43<00:02, 50.16it/s, accuracy=0.0234, train_loss=5.83] \n",
      "Evaluation:  21%|██▏       | 53/248 [00:50<03:05,  1.05it/s]\n"
     ]
    },
    {
     "name": "stdout",
     "output_type": "stream",
     "text": [
      "\t - Recall@20 epoch 4: 0.333358\n",
      "\t - MRR@20    epoch 4: 0.098254\n",
      "\n"
     ]
    },
    {
     "name": "stderr",
     "output_type": "stream",
     "text": [
      "Train:  95%|█████████▍| 2168/2286 [00:43<00:02, 50.06it/s, accuracy=0.0273, train_loss=5.71] \n",
      "Evaluation:  21%|██▏       | 53/248 [00:49<03:02,  1.07it/s]\n"
     ]
    },
    {
     "name": "stdout",
     "output_type": "stream",
     "text": [
      "\t - Recall@20 epoch 5: 0.347583\n",
      "\t - MRR@20    epoch 5: 0.103644\n",
      "\n"
     ]
    },
    {
     "name": "stderr",
     "output_type": "stream",
     "text": [
      "Train:  95%|█████████▍| 2168/2286 [00:43<00:02, 50.21it/s, accuracy=0.0312, train_loss=5.64] \n",
      "Evaluation:  21%|██▏       | 53/248 [00:49<03:00,  1.08it/s]\n"
     ]
    },
    {
     "name": "stdout",
     "output_type": "stream",
     "text": [
      "\t - Recall@20 epoch 6: 0.355027\n",
      "\t - MRR@20    epoch 6: 0.107024\n",
      "\n"
     ]
    },
    {
     "name": "stderr",
     "output_type": "stream",
     "text": [
      "Train:  95%|█████████▍| 2168/2286 [00:43<00:02, 50.06it/s, accuracy=0.0625, train_loss=5.59] \n",
      "Evaluation:  21%|██▏       | 53/248 [00:48<03:00,  1.08it/s]\n"
     ]
    },
    {
     "name": "stdout",
     "output_type": "stream",
     "text": [
      "\t - Recall@20 epoch 7: 0.358269\n",
      "\t - MRR@20    epoch 7: 0.110475\n",
      "\n"
     ]
    },
    {
     "name": "stderr",
     "output_type": "stream",
     "text": [
      "Train:  95%|█████████▍| 2168/2286 [00:43<00:02, 50.40it/s, accuracy=0.043, train_loss=5.57] \n",
      "Evaluation:  21%|██▏       | 53/248 [00:49<03:00,  1.08it/s]\n"
     ]
    },
    {
     "name": "stdout",
     "output_type": "stream",
     "text": [
      "\t - Recall@20 epoch 8: 0.363355\n",
      "\t - MRR@20    epoch 8: 0.113121\n",
      "\n"
     ]
    },
    {
     "name": "stderr",
     "output_type": "stream",
     "text": [
      "Train:  95%|█████████▍| 2168/2286 [00:43<00:02, 50.38it/s, accuracy=0.0547, train_loss=5.51] \n",
      "Evaluation:  21%|██▏       | 53/248 [00:48<02:59,  1.09it/s]\n"
     ]
    },
    {
     "name": "stdout",
     "output_type": "stream",
     "text": [
      "\t - Recall@20 epoch 9: 0.366966\n",
      "\t - MRR@20    epoch 9: 0.115038\n",
      "\n"
     ]
    },
    {
     "name": "stderr",
     "output_type": "stream",
     "text": [
      "Train:  95%|█████████▍| 2168/2286 [00:42<00:02, 50.52it/s, accuracy=0.043, train_loss=5.5]  \n",
      "Evaluation:  21%|██▏       | 53/248 [00:48<02:58,  1.09it/s]\n"
     ]
    },
    {
     "name": "stdout",
     "output_type": "stream",
     "text": [
      "\t - Recall@20 epoch 10: 0.369030\n",
      "\t - MRR@20    epoch 10: 0.117368\n",
      "\n"
     ]
    },
    {
     "name": "stderr",
     "output_type": "stream",
     "text": [
      "Train:  95%|█████████▍| 2168/2286 [00:43<00:02, 50.31it/s, accuracy=0.0586, train_loss=5.49]\n",
      "Evaluation:  21%|██▏       | 53/248 [00:48<02:58,  1.09it/s]\n"
     ]
    },
    {
     "name": "stdout",
     "output_type": "stream",
     "text": [
      "\t - Recall@20 epoch 11: 0.371683\n",
      "\t - MRR@20    epoch 11: 0.118686\n",
      "\n"
     ]
    },
    {
     "name": "stderr",
     "output_type": "stream",
     "text": [
      "Train:  95%|█████████▍| 2168/2286 [00:42<00:02, 50.52it/s, accuracy=0.0625, train_loss=5.44]\n",
      "Evaluation:  21%|██▏       | 53/248 [00:48<02:58,  1.09it/s]\n"
     ]
    },
    {
     "name": "stdout",
     "output_type": "stream",
     "text": [
      "\t - Recall@20 epoch 12: 0.373084\n",
      "\t - MRR@20    epoch 12: 0.120092\n",
      "\n"
     ]
    },
    {
     "name": "stderr",
     "output_type": "stream",
     "text": [
      "Train:  95%|█████████▍| 2168/2286 [00:43<00:02, 49.92it/s, accuracy=0.0547, train_loss=5.48]\n",
      "Evaluation:  21%|██▏       | 53/248 [00:48<02:59,  1.09it/s]\n"
     ]
    },
    {
     "name": "stdout",
     "output_type": "stream",
     "text": [
      "\t - Recall@20 epoch 13: 0.373452\n",
      "\t - MRR@20    epoch 13: 0.120983\n",
      "\n"
     ]
    },
    {
     "name": "stderr",
     "output_type": "stream",
     "text": [
      "Train:  95%|█████████▍| 2168/2286 [00:43<00:02, 50.15it/s, accuracy=0.0469, train_loss=5.5] \n",
      "Evaluation:  21%|██▏       | 53/248 [00:48<02:58,  1.09it/s]\n"
     ]
    },
    {
     "name": "stdout",
     "output_type": "stream",
     "text": [
      "\t - Recall@20 epoch 14: 0.373526\n",
      "\t - MRR@20    epoch 14: 0.121517\n",
      "\n"
     ]
    },
    {
     "name": "stderr",
     "output_type": "stream",
     "text": [
      "Train:  95%|█████████▍| 2168/2286 [00:43<00:02, 50.02it/s, accuracy=0.0625, train_loss=5.48]\n",
      "Evaluation:  21%|██▏       | 53/248 [00:48<02:59,  1.09it/s]\n"
     ]
    },
    {
     "name": "stdout",
     "output_type": "stream",
     "text": [
      "\t - Recall@20 epoch 15: 0.374705\n",
      "\t - MRR@20    epoch 15: 0.122104\n",
      "\n"
     ]
    },
    {
     "name": "stderr",
     "output_type": "stream",
     "text": [
      "Train:  95%|█████████▍| 2168/2286 [00:43<00:02, 49.78it/s, accuracy=0.0664, train_loss=5.46]\n",
      "Evaluation:  21%|██▏       | 53/248 [00:48<02:59,  1.09it/s]\n"
     ]
    },
    {
     "name": "stdout",
     "output_type": "stream",
     "text": [
      "\t - Recall@20 epoch 16: 0.375884\n",
      "\t - MRR@20    epoch 16: 0.122539\n",
      "\n"
     ]
    },
    {
     "name": "stderr",
     "output_type": "stream",
     "text": [
      "Train:  95%|█████████▍| 2168/2286 [00:43<00:02, 50.06it/s, accuracy=0.0625, train_loss=5.45]\n",
      "Evaluation:  21%|██▏       | 53/248 [00:49<03:00,  1.08it/s]\n"
     ]
    },
    {
     "name": "stdout",
     "output_type": "stream",
     "text": [
      "\t - Recall@20 epoch 17: 0.377358\n",
      "\t - MRR@20    epoch 17: 0.123172\n",
      "\n"
     ]
    },
    {
     "name": "stderr",
     "output_type": "stream",
     "text": [
      "Train:  95%|█████████▍| 2168/2286 [00:43<00:02, 49.75it/s, accuracy=0.0703, train_loss=5.47]\n",
      "Evaluation:  21%|██▏       | 53/248 [00:48<02:59,  1.09it/s]\n"
     ]
    },
    {
     "name": "stdout",
     "output_type": "stream",
     "text": [
      "\t - Recall@20 epoch 18: 0.377727\n",
      "\t - MRR@20    epoch 18: 0.123571\n",
      "\n"
     ]
    },
    {
     "name": "stderr",
     "output_type": "stream",
     "text": [
      "Train:  95%|█████████▍| 2168/2286 [00:43<00:02, 49.74it/s, accuracy=0.0664, train_loss=5.45]\n",
      "Evaluation:  21%|██▏       | 53/248 [00:48<02:58,  1.09it/s]\n"
     ]
    },
    {
     "name": "stdout",
     "output_type": "stream",
     "text": [
      "\t - Recall@20 epoch 19: 0.378390\n",
      "\t - MRR@20    epoch 19: 0.124315\n",
      "\n"
     ]
    },
    {
     "name": "stderr",
     "output_type": "stream",
     "text": [
      "Train:  95%|█████████▍| 2168/2286 [00:43<00:02, 49.96it/s, accuracy=0.0547, train_loss=5.5] \n",
      "Evaluation:  21%|██▏       | 53/248 [00:48<02:59,  1.09it/s]\n"
     ]
    },
    {
     "name": "stdout",
     "output_type": "stream",
     "text": [
      "\t - Recall@20 epoch 20: 0.378538\n",
      "\t - MRR@20    epoch 20: 0.124035\n",
      "\n"
     ]
    },
    {
     "name": "stderr",
     "output_type": "stream",
     "text": [
      "Train:  95%|█████████▍| 2168/2286 [00:43<00:02, 50.13it/s, accuracy=0.0625, train_loss=5.41]\n",
      "Evaluation:  21%|██▏       | 53/248 [00:48<02:58,  1.09it/s]\n"
     ]
    },
    {
     "name": "stdout",
     "output_type": "stream",
     "text": [
      "\t - Recall@20 epoch 21: 0.378464\n",
      "\t - MRR@20    epoch 21: 0.124822\n",
      "\n"
     ]
    },
    {
     "name": "stderr",
     "output_type": "stream",
     "text": [
      "Train:  95%|█████████▍| 2168/2286 [00:43<00:02, 49.48it/s, accuracy=0.0664, train_loss=5.43]\n",
      "Evaluation:  21%|██▏       | 53/248 [00:48<02:58,  1.09it/s]\n"
     ]
    },
    {
     "name": "stdout",
     "output_type": "stream",
     "text": [
      "\t - Recall@20 epoch 22: 0.379054\n",
      "\t - MRR@20    epoch 22: 0.125737\n",
      "\n"
     ]
    },
    {
     "name": "stderr",
     "output_type": "stream",
     "text": [
      "Train:  95%|█████████▍| 2168/2286 [00:43<00:02, 49.41it/s, accuracy=0.0547, train_loss=5.4] \n",
      "Evaluation:  21%|██▏       | 53/248 [00:48<02:57,  1.10it/s]\n"
     ]
    },
    {
     "name": "stdout",
     "output_type": "stream",
     "text": [
      "\t - Recall@20 epoch 23: 0.378611\n",
      "\t - MRR@20    epoch 23: 0.125468\n",
      "\n"
     ]
    },
    {
     "name": "stderr",
     "output_type": "stream",
     "text": [
      "Train:  95%|█████████▍| 2168/2286 [00:43<00:02, 49.83it/s, accuracy=0.0625, train_loss=5.41]\n",
      "Evaluation:  21%|██▏       | 53/248 [00:48<02:56,  1.10it/s]\n"
     ]
    },
    {
     "name": "stdout",
     "output_type": "stream",
     "text": [
      "\t - Recall@20 epoch 24: 0.378980\n",
      "\t - MRR@20    epoch 24: 0.125590\n",
      "\n"
     ]
    },
    {
     "name": "stderr",
     "output_type": "stream",
     "text": [
      "Train:  95%|█████████▍| 2168/2286 [00:43<00:02, 50.39it/s, accuracy=0.0625, train_loss=5.41]\n",
      "Evaluation:  21%|██▏       | 53/248 [00:48<02:56,  1.10it/s]\n"
     ]
    },
    {
     "name": "stdout",
     "output_type": "stream",
     "text": [
      "\t - Recall@20 epoch 25: 0.377948\n",
      "\t - MRR@20    epoch 25: 0.125705\n",
      "\n"
     ]
    },
    {
     "name": "stderr",
     "output_type": "stream",
     "text": [
      "Train:  95%|█████████▍| 2168/2286 [00:43<00:02, 50.10it/s, accuracy=0.0586, train_loss=5.39]\n",
      "Evaluation:  21%|██▏       | 53/248 [00:48<02:58,  1.09it/s]\n"
     ]
    },
    {
     "name": "stdout",
     "output_type": "stream",
     "text": [
      "\t - Recall@20 epoch 26: 0.377801\n",
      "\t - MRR@20    epoch 26: 0.125549\n",
      "\n"
     ]
    },
    {
     "name": "stderr",
     "output_type": "stream",
     "text": [
      "Train:  95%|█████████▍| 2168/2286 [00:43<00:02, 50.27it/s, accuracy=0.0586, train_loss=5.43]\n",
      "Evaluation:  21%|██▏       | 53/248 [00:47<02:56,  1.10it/s]\n"
     ]
    },
    {
     "name": "stdout",
     "output_type": "stream",
     "text": [
      "\t - Recall@20 epoch 27: 0.379275\n",
      "\t - MRR@20    epoch 27: 0.126710\n",
      "\n"
     ]
    },
    {
     "name": "stderr",
     "output_type": "stream",
     "text": [
      "Train:  95%|█████████▍| 2168/2286 [00:43<00:02, 49.80it/s, accuracy=0.0625, train_loss=5.44]\n",
      "Evaluation:  21%|██▏       | 53/248 [00:48<02:58,  1.10it/s]\n"
     ]
    },
    {
     "name": "stdout",
     "output_type": "stream",
     "text": [
      "\t - Recall@20 epoch 28: 0.377432\n",
      "\t - MRR@20    epoch 28: 0.126004\n",
      "\n"
     ]
    },
    {
     "name": "stderr",
     "output_type": "stream",
     "text": [
      "Train:  95%|█████████▍| 2168/2286 [00:42<00:02, 50.59it/s, accuracy=0.0508, train_loss=5.4] \n",
      "Evaluation:  21%|██▏       | 53/248 [00:48<02:57,  1.10it/s]\n"
     ]
    },
    {
     "name": "stdout",
     "output_type": "stream",
     "text": [
      "\t - Recall@20 epoch 29: 0.377358\n",
      "\t - MRR@20    epoch 29: 0.125776\n",
      "\n"
     ]
    },
    {
     "name": "stderr",
     "output_type": "stream",
     "text": [
      "Train:  95%|█████████▍| 2168/2286 [00:43<00:02, 50.25it/s, accuracy=0.0664, train_loss=5.38]\n",
      "Evaluation:  21%|██▏       | 53/248 [00:48<02:58,  1.09it/s]\n"
     ]
    },
    {
     "name": "stdout",
     "output_type": "stream",
     "text": [
      "\t - Recall@20 epoch 30: 0.377137\n",
      "\t - MRR@20    epoch 30: 0.126277\n",
      "\n"
     ]
    },
    {
     "name": "stderr",
     "output_type": "stream",
     "text": [
      "Train:  95%|█████████▍| 2168/2286 [00:43<00:02, 50.33it/s, accuracy=0.0586, train_loss=5.4] \n",
      "Evaluation:  21%|██▏       | 53/248 [00:48<02:57,  1.10it/s]\n"
     ]
    },
    {
     "name": "stdout",
     "output_type": "stream",
     "text": [
      "\t - Recall@20 epoch 31: 0.375811\n",
      "\t - MRR@20    epoch 31: 0.125555\n",
      "\n"
     ]
    },
    {
     "name": "stderr",
     "output_type": "stream",
     "text": [
      "Train:  95%|█████████▍| 2168/2286 [00:43<00:02, 50.32it/s, accuracy=0.0625, train_loss=5.36]\n",
      "Evaluation:  21%|██▏       | 53/248 [00:48<02:58,  1.09it/s]\n"
     ]
    },
    {
     "name": "stdout",
     "output_type": "stream",
     "text": [
      "\t - Recall@20 epoch 32: 0.377432\n",
      "\t - MRR@20    epoch 32: 0.126250\n",
      "\n"
     ]
    },
    {
     "name": "stderr",
     "output_type": "stream",
     "text": [
      "Train:  95%|█████████▍| 2168/2286 [00:43<00:02, 49.92it/s, accuracy=0.0508, train_loss=5.4] \n",
      "Evaluation:  21%|██▏       | 53/248 [00:48<02:57,  1.10it/s]\n"
     ]
    },
    {
     "name": "stdout",
     "output_type": "stream",
     "text": [
      "\t - Recall@20 epoch 33: 0.376843\n",
      "\t - MRR@20    epoch 33: 0.126623\n",
      "\n"
     ]
    },
    {
     "name": "stderr",
     "output_type": "stream",
     "text": [
      "Train:  95%|█████████▍| 2168/2286 [00:43<00:02, 50.26it/s, accuracy=0.043, train_loss=5.37] \n",
      "Evaluation:  21%|██▏       | 53/248 [00:48<02:57,  1.10it/s]\n"
     ]
    },
    {
     "name": "stdout",
     "output_type": "stream",
     "text": [
      "\t - Recall@20 epoch 34: 0.376474\n",
      "\t - MRR@20    epoch 34: 0.126589\n",
      "\n"
     ]
    },
    {
     "name": "stderr",
     "output_type": "stream",
     "text": [
      "Train:  95%|█████████▍| 2168/2286 [00:43<00:02, 50.22it/s, accuracy=0.0625, train_loss=5.33]\n",
      "Evaluation:  21%|██▏       | 53/248 [00:47<02:55,  1.11it/s]\n"
     ]
    },
    {
     "name": "stdout",
     "output_type": "stream",
     "text": [
      "\t - Recall@20 epoch 35: 0.376327\n",
      "\t - MRR@20    epoch 35: 0.126595\n",
      "\n"
     ]
    },
    {
     "name": "stderr",
     "output_type": "stream",
     "text": [
      "Train:  95%|█████████▍| 2168/2286 [00:43<00:02, 50.05it/s, accuracy=0.0547, train_loss=5.32]\n",
      "Evaluation:  21%|██▏       | 53/248 [00:48<02:56,  1.10it/s]\n"
     ]
    },
    {
     "name": "stdout",
     "output_type": "stream",
     "text": [
      "\t - Recall@20 epoch 36: 0.377137\n",
      "\t - MRR@20    epoch 36: 0.126537\n",
      "\n"
     ]
    },
    {
     "name": "stderr",
     "output_type": "stream",
     "text": [
      "Train:  95%|█████████▍| 2168/2286 [00:43<00:02, 50.20it/s, accuracy=0.0547, train_loss=5.34]\n",
      "Evaluation:  21%|██▏       | 53/248 [00:48<02:57,  1.10it/s]\n"
     ]
    },
    {
     "name": "stdout",
     "output_type": "stream",
     "text": [
      "\t - Recall@20 epoch 37: 0.376916\n",
      "\t - MRR@20    epoch 37: 0.126188\n",
      "\n"
     ]
    },
    {
     "name": "stderr",
     "output_type": "stream",
     "text": [
      "Train:  95%|█████████▍| 2168/2286 [00:43<00:02, 50.07it/s, accuracy=0.0938, train_loss=5.25]\n",
      "Evaluation:  21%|██▏       | 53/248 [00:48<02:57,  1.10it/s]\n"
     ]
    },
    {
     "name": "stdout",
     "output_type": "stream",
     "text": [
      "\t - Recall@20 epoch 38: 0.374558\n",
      "\t - MRR@20    epoch 38: 0.126015\n",
      "\n"
     ]
    },
    {
     "name": "stderr",
     "output_type": "stream",
     "text": [
      "Train:  95%|█████████▍| 2168/2286 [00:43<00:02, 50.26it/s, accuracy=0.0547, train_loss=5.35]\n",
      "Evaluation:  21%|██▏       | 53/248 [00:48<02:57,  1.10it/s]\n"
     ]
    },
    {
     "name": "stdout",
     "output_type": "stream",
     "text": [
      "\t - Recall@20 epoch 39: 0.375737\n",
      "\t - MRR@20    epoch 39: 0.125727\n",
      "\n"
     ]
    },
    {
     "name": "stderr",
     "output_type": "stream",
     "text": [
      "Train:  95%|█████████▍| 2168/2286 [00:43<00:02, 50.20it/s, accuracy=0.043, train_loss=5.39] \n",
      "Evaluation:  21%|██▏       | 53/248 [00:48<02:57,  1.10it/s]\n"
     ]
    },
    {
     "name": "stdout",
     "output_type": "stream",
     "text": [
      "\t - Recall@20 epoch 40: 0.376327\n",
      "\t - MRR@20    epoch 40: 0.126127\n",
      "\n"
     ]
    },
    {
     "name": "stderr",
     "output_type": "stream",
     "text": [
      "Train:  95%|█████████▍| 2168/2286 [00:42<00:02, 50.47it/s, accuracy=0.0547, train_loss=5.38]\n",
      "Evaluation:  21%|██▏       | 53/248 [00:47<02:56,  1.10it/s]\n"
     ]
    },
    {
     "name": "stdout",
     "output_type": "stream",
     "text": [
      "\t - Recall@20 epoch 41: 0.375074\n",
      "\t - MRR@20    epoch 41: 0.125520\n",
      "\n"
     ]
    },
    {
     "name": "stderr",
     "output_type": "stream",
     "text": [
      "Train:  95%|█████████▍| 2168/2286 [00:42<00:02, 50.44it/s, accuracy=0.0547, train_loss=5.35]\n",
      "Evaluation:  21%|██▏       | 53/248 [00:47<02:56,  1.11it/s]\n"
     ]
    },
    {
     "name": "stdout",
     "output_type": "stream",
     "text": [
      "\t - Recall@20 epoch 42: 0.374116\n",
      "\t - MRR@20    epoch 42: 0.125757\n",
      "\n"
     ]
    },
    {
     "name": "stderr",
     "output_type": "stream",
     "text": [
      "Train:  95%|█████████▍| 2168/2286 [00:43<00:02, 49.88it/s, accuracy=0.0586, train_loss=5.35]\n",
      "Evaluation:  21%|██▏       | 53/248 [00:48<02:57,  1.10it/s]\n"
     ]
    },
    {
     "name": "stdout",
     "output_type": "stream",
     "text": [
      "\t - Recall@20 epoch 43: 0.374705\n",
      "\t - MRR@20    epoch 43: 0.125500\n",
      "\n"
     ]
    },
    {
     "name": "stderr",
     "output_type": "stream",
     "text": [
      "Train:  95%|█████████▍| 2168/2286 [00:43<00:02, 50.41it/s, accuracy=0.0352, train_loss=5.36]\n",
      "Evaluation:  21%|██▏       | 53/248 [00:48<02:57,  1.10it/s]\n"
     ]
    },
    {
     "name": "stdout",
     "output_type": "stream",
     "text": [
      "\t - Recall@20 epoch 44: 0.374189\n",
      "\t - MRR@20    epoch 44: 0.125458\n",
      "\n"
     ]
    },
    {
     "name": "stderr",
     "output_type": "stream",
     "text": [
      "Train:  95%|█████████▍| 2168/2286 [00:43<00:02, 50.24it/s, accuracy=0.0586, train_loss=5.27]\n",
      "Evaluation:  21%|██▏       | 53/248 [00:47<02:56,  1.11it/s]\n"
     ]
    },
    {
     "name": "stdout",
     "output_type": "stream",
     "text": [
      "\t - Recall@20 epoch 45: 0.374337\n",
      "\t - MRR@20    epoch 45: 0.125624\n",
      "\n"
     ]
    },
    {
     "name": "stderr",
     "output_type": "stream",
     "text": [
      "Train:  95%|█████████▍| 2168/2286 [00:42<00:02, 50.63it/s, accuracy=0.0469, train_loss=5.36]\n",
      "Evaluation:  21%|██▏       | 53/248 [00:47<02:56,  1.10it/s]\n"
     ]
    },
    {
     "name": "stdout",
     "output_type": "stream",
     "text": [
      "\t - Recall@20 epoch 46: 0.375516\n",
      "\t - MRR@20    epoch 46: 0.125769\n",
      "\n"
     ]
    },
    {
     "name": "stderr",
     "output_type": "stream",
     "text": [
      "Train:  95%|█████████▍| 2168/2286 [00:43<00:02, 50.01it/s, accuracy=0.0547, train_loss=5.31]\n",
      "Evaluation:  21%|██▏       | 53/248 [00:48<02:57,  1.10it/s]\n"
     ]
    },
    {
     "name": "stdout",
     "output_type": "stream",
     "text": [
      "\t - Recall@20 epoch 47: 0.375663\n",
      "\t - MRR@20    epoch 47: 0.124966\n",
      "\n"
     ]
    },
    {
     "name": "stderr",
     "output_type": "stream",
     "text": [
      "Train:  95%|█████████▍| 2168/2286 [00:43<00:02, 49.87it/s, accuracy=0.0625, train_loss=5.31]\n",
      "Evaluation:  21%|██▏       | 53/248 [00:48<02:57,  1.10it/s]\n"
     ]
    },
    {
     "name": "stdout",
     "output_type": "stream",
     "text": [
      "\t - Recall@20 epoch 48: 0.373821\n",
      "\t - MRR@20    epoch 48: 0.125412\n",
      "\n"
     ]
    },
    {
     "name": "stderr",
     "output_type": "stream",
     "text": [
      "Train:  95%|█████████▍| 2168/2286 [00:43<00:02, 50.08it/s, accuracy=0.0508, train_loss=5.33]\n",
      "Evaluation:  21%|██▏       | 53/248 [00:48<02:58,  1.09it/s]\n"
     ]
    },
    {
     "name": "stdout",
     "output_type": "stream",
     "text": [
      "\t - Recall@20 epoch 49: 0.374189\n",
      "\t - MRR@20    epoch 49: 0.125194\n",
      "\n"
     ]
    },
    {
     "name": "stderr",
     "output_type": "stream",
     "text": [
      "Train:  95%|█████████▍| 2168/2286 [00:44<00:02, 49.15it/s, accuracy=0.0547, train_loss=5.26]\n",
      "Evaluation:  21%|██▏       | 53/248 [00:48<02:58,  1.09it/s]"
     ]
    },
    {
     "name": "stdout",
     "output_type": "stream",
     "text": [
      "\t - Recall@20 epoch 50: 0.375663\n",
      "\t - MRR@20    epoch 50: 0.125066\n",
      "\n"
     ]
    },
    {
     "name": "stderr",
     "output_type": "stream",
     "text": [
      "\n"
     ]
    }
   ],
   "source": [
    "train_model(model, args)"
   ]
  },
  {
   "cell_type": "markdown",
   "id": "5961208e",
   "metadata": {},
   "source": [
    "# 5. 모델 테스트"
   ]
  },
  {
   "cell_type": "code",
   "execution_count": 70,
   "id": "28ab55de",
   "metadata": {},
   "outputs": [
    {
     "name": "stderr",
     "output_type": "stream",
     "text": [
      "Evaluation:  67%|██████▋   | 473/708 [07:42<03:49,  1.02it/s]"
     ]
    },
    {
     "name": "stdout",
     "output_type": "stream",
     "text": [
      "\t - Recall@20: 0.282101\n",
      "\t - MRR@20: 0.086337\n",
      "\n"
     ]
    },
    {
     "name": "stderr",
     "output_type": "stream",
     "text": [
      "\n"
     ]
    }
   ],
   "source": [
    "def test_model(model, args, test):\n",
    "    test_recall, test_mrr = get_metrics(test, model, args, 20)\n",
    "    print(f\"\\t - Recall@{args.k}: {test_recall:3f}\")\n",
    "    print(f\"\\t - MRR@{args.k}: {test_mrr:3f}\\n\")\n",
    "\n",
    "test_model(model, args, test)"
   ]
  },
  {
   "cell_type": "markdown",
   "id": "27f9be85",
   "metadata": {},
   "source": [
    "# 2번째 모델 - 하이퍼파라미터 변경"
   ]
  },
  {
   "cell_type": "code",
   "execution_count": 66,
   "id": "cb4aef58",
   "metadata": {},
   "outputs": [],
   "source": [
    "args = Args(train, valid, test, batch_size=128, hsz=50, drop_rate=0.4, lr=0.001, epochs=30, k=20)"
   ]
  },
  {
   "cell_type": "code",
   "execution_count": 67,
   "id": "ebbd39c1",
   "metadata": {},
   "outputs": [
    {
     "name": "stdout",
     "output_type": "stream",
     "text": [
      "Model: \"model_1\"\n",
      "_________________________________________________________________\n",
      "Layer (type)                 Output Shape              Param #   \n",
      "=================================================================\n",
      "input_2 (InputLayer)         [(128, 1, 3556)]          0         \n",
      "_________________________________________________________________\n",
      "GRU (GRU)                    [(128, 50), (128, 50)]    541200    \n",
      "_________________________________________________________________\n",
      "dropout_1 (Dropout)          (128, 50)                 0         \n",
      "_________________________________________________________________\n",
      "dense_1 (Dense)              (128, 3556)               181356    \n",
      "=================================================================\n",
      "Total params: 722,556\n",
      "Trainable params: 722,556\n",
      "Non-trainable params: 0\n",
      "_________________________________________________________________\n"
     ]
    }
   ],
   "source": [
    "model = create_model(args)"
   ]
  },
  {
   "cell_type": "code",
   "execution_count": 68,
   "id": "df76676e",
   "metadata": {
    "scrolled": true
   },
   "outputs": [
    {
     "name": "stderr",
     "output_type": "stream",
     "text": [
      "Train:  98%|█████████▊| 4462/4572 [02:26<00:03, 30.46it/s, accuracy=0.0156, train_loss=6.55] \n",
      "Evaluation:  59%|█████▊    | 291/496 [02:54<02:03,  1.66it/s]\n"
     ]
    },
    {
     "name": "stdout",
     "output_type": "stream",
     "text": [
      "\t - Recall@20 epoch 1: 0.157216\n",
      "\t - MRR@20    epoch 1: 0.036442\n",
      "\n"
     ]
    },
    {
     "name": "stderr",
     "output_type": "stream",
     "text": [
      "Train:  98%|█████████▊| 4462/4572 [02:35<00:03, 28.72it/s, accuracy=0.0156, train_loss=6.13] \n",
      "Evaluation:  59%|█████▊    | 291/496 [02:48<01:58,  1.72it/s]\n"
     ]
    },
    {
     "name": "stdout",
     "output_type": "stream",
     "text": [
      "\t - Recall@20 epoch 2: 0.249651\n",
      "\t - MRR@20    epoch 2: 0.063485\n",
      "\n"
     ]
    },
    {
     "name": "stderr",
     "output_type": "stream",
     "text": [
      "Train:  98%|█████████▊| 4462/4572 [02:30<00:03, 29.60it/s, accuracy=0.00781, train_loss=6.14]\n",
      "Evaluation:  59%|█████▊    | 291/496 [02:50<02:00,  1.70it/s]\n"
     ]
    },
    {
     "name": "stdout",
     "output_type": "stream",
     "text": [
      "\t - Recall@20 epoch 3: 0.278055\n",
      "\t - MRR@20    epoch 3: 0.072556\n",
      "\n"
     ]
    },
    {
     "name": "stderr",
     "output_type": "stream",
     "text": [
      "Train:  98%|█████████▊| 4462/4572 [02:23<00:03, 31.04it/s, accuracy=0.0234, train_loss=5.93] \n",
      "Evaluation:  59%|█████▊    | 291/496 [02:42<01:54,  1.79it/s]\n"
     ]
    },
    {
     "name": "stdout",
     "output_type": "stream",
     "text": [
      "\t - Recall@20 epoch 4: 0.294432\n",
      "\t - MRR@20    epoch 4: 0.079525\n",
      "\n"
     ]
    },
    {
     "name": "stderr",
     "output_type": "stream",
     "text": [
      "Train:  98%|█████████▊| 4462/4572 [02:25<00:03, 30.63it/s, accuracy=0.0156, train_loss=5.88] \n",
      "Evaluation:  59%|█████▊    | 291/496 [02:42<01:54,  1.79it/s]\n"
     ]
    },
    {
     "name": "stdout",
     "output_type": "stream",
     "text": [
      "\t - Recall@20 epoch 5: 0.302486\n",
      "\t - MRR@20    epoch 5: 0.083359\n",
      "\n"
     ]
    },
    {
     "name": "stderr",
     "output_type": "stream",
     "text": [
      "Train:  98%|█████████▊| 4462/4572 [02:24<00:03, 30.85it/s, accuracy=0.0234, train_loss=5.85] \n",
      "Evaluation:  59%|█████▊    | 291/496 [02:44<01:55,  1.77it/s]\n"
     ]
    },
    {
     "name": "stdout",
     "output_type": "stream",
     "text": [
      "\t - Recall@20 epoch 6: 0.310701\n",
      "\t - MRR@20    epoch 6: 0.086742\n",
      "\n"
     ]
    },
    {
     "name": "stderr",
     "output_type": "stream",
     "text": [
      "Train:  98%|█████████▊| 4462/4572 [02:30<00:03, 29.63it/s, accuracy=0.0312, train_loss=5.86] \n",
      "Evaluation:  59%|█████▊    | 291/496 [02:38<01:51,  1.84it/s]\n"
     ]
    },
    {
     "name": "stdout",
     "output_type": "stream",
     "text": [
      "\t - Recall@20 epoch 7: 0.315641\n",
      "\t - MRR@20    epoch 7: 0.089534\n",
      "\n"
     ]
    },
    {
     "name": "stderr",
     "output_type": "stream",
     "text": [
      "Train:  98%|█████████▊| 4462/4572 [02:23<00:03, 31.18it/s, accuracy=0.0391, train_loss=5.78] \n",
      "Evaluation:  59%|█████▊    | 291/496 [02:40<01:53,  1.81it/s]\n"
     ]
    },
    {
     "name": "stdout",
     "output_type": "stream",
     "text": [
      "\t - Recall@20 epoch 8: 0.319963\n",
      "\t - MRR@20    epoch 8: 0.090952\n",
      "\n"
     ]
    },
    {
     "name": "stderr",
     "output_type": "stream",
     "text": [
      "Train:  98%|█████████▊| 4462/4572 [02:29<00:03, 29.94it/s, accuracy=0.0391, train_loss=5.8]  \n",
      "Evaluation:  59%|█████▊    | 291/496 [02:37<01:51,  1.85it/s]\n"
     ]
    },
    {
     "name": "stdout",
     "output_type": "stream",
     "text": [
      "\t - Recall@20 epoch 9: 0.321735\n",
      "\t - MRR@20    epoch 9: 0.092164\n",
      "\n"
     ]
    },
    {
     "name": "stderr",
     "output_type": "stream",
     "text": [
      "Train:  98%|█████████▊| 4462/4572 [02:21<00:03, 31.43it/s, accuracy=0.0391, train_loss=5.8]  \n",
      "Evaluation:  59%|█████▊    | 291/496 [02:39<01:52,  1.83it/s]\n"
     ]
    },
    {
     "name": "stdout",
     "output_type": "stream",
     "text": [
      "\t - Recall@20 epoch 10: 0.324420\n",
      "\t - MRR@20    epoch 10: 0.093279\n",
      "\n"
     ]
    },
    {
     "name": "stderr",
     "output_type": "stream",
     "text": [
      "Train:  98%|█████████▊| 4462/4572 [02:24<00:03, 30.96it/s, accuracy=0, train_loss=5.81]      \n",
      "Evaluation:  59%|█████▊    | 291/496 [02:41<01:53,  1.80it/s]\n"
     ]
    },
    {
     "name": "stdout",
     "output_type": "stream",
     "text": [
      "\t - Recall@20 epoch 11: 0.324984\n",
      "\t - MRR@20    epoch 11: 0.093884\n",
      "\n"
     ]
    },
    {
     "name": "stderr",
     "output_type": "stream",
     "text": [
      "Train:  98%|█████████▊| 4462/4572 [02:22<00:03, 31.21it/s, accuracy=0.0312, train_loss=5.89] \n",
      "Evaluation:  59%|█████▊    | 291/496 [02:38<01:51,  1.84it/s]\n"
     ]
    },
    {
     "name": "stdout",
     "output_type": "stream",
     "text": [
      "\t - Recall@20 epoch 12: 0.326944\n",
      "\t - MRR@20    epoch 12: 0.094924\n",
      "\n"
     ]
    },
    {
     "name": "stderr",
     "output_type": "stream",
     "text": [
      "Train:  98%|█████████▊| 4462/4572 [02:31<00:03, 29.48it/s, accuracy=0.0156, train_loss=5.79] \n",
      "Evaluation:  59%|█████▊    | 291/496 [02:40<01:52,  1.82it/s]\n"
     ]
    },
    {
     "name": "stdout",
     "output_type": "stream",
     "text": [
      "\t - Recall@20 epoch 13: 0.329494\n",
      "\t - MRR@20    epoch 13: 0.095251\n",
      "\n"
     ]
    },
    {
     "name": "stderr",
     "output_type": "stream",
     "text": [
      "Train:  98%|█████████▊| 4462/4572 [02:22<00:03, 31.35it/s, accuracy=0.0234, train_loss=5.91] \n",
      "Evaluation:  59%|█████▊    | 291/496 [02:40<01:52,  1.82it/s]\n"
     ]
    },
    {
     "name": "stdout",
     "output_type": "stream",
     "text": [
      "\t - Recall@20 epoch 14: 0.329011\n",
      "\t - MRR@20    epoch 14: 0.095926\n",
      "\n"
     ]
    },
    {
     "name": "stderr",
     "output_type": "stream",
     "text": [
      "Train:  98%|█████████▊| 4462/4572 [02:23<00:03, 31.01it/s, accuracy=0.0391, train_loss=5.85] \n",
      "Evaluation:  59%|█████▊    | 291/496 [02:41<01:53,  1.80it/s]\n"
     ]
    },
    {
     "name": "stdout",
     "output_type": "stream",
     "text": [
      "\t - Recall@20 epoch 15: 0.329548\n",
      "\t - MRR@20    epoch 15: 0.096169\n",
      "\n"
     ]
    },
    {
     "name": "stderr",
     "output_type": "stream",
     "text": [
      "Train:  98%|█████████▊| 4462/4572 [02:39<00:03, 28.03it/s, accuracy=0.0391, train_loss=5.71] \n",
      "Evaluation:  59%|█████▊    | 291/496 [02:46<01:57,  1.75it/s]\n"
     ]
    },
    {
     "name": "stdout",
     "output_type": "stream",
     "text": [
      "\t - Recall@20 epoch 16: 0.329118\n",
      "\t - MRR@20    epoch 16: 0.096509\n",
      "\n"
     ]
    },
    {
     "name": "stderr",
     "output_type": "stream",
     "text": [
      "Train:  98%|█████████▊| 4462/4572 [02:38<00:03, 28.16it/s, accuracy=0.0312, train_loss=5.82] \n",
      "Evaluation:  59%|█████▊    | 291/496 [02:45<01:56,  1.75it/s]\n"
     ]
    },
    {
     "name": "stdout",
     "output_type": "stream",
     "text": [
      "\t - Recall@20 epoch 17: 0.330407\n",
      "\t - MRR@20    epoch 17: 0.096927\n",
      "\n"
     ]
    },
    {
     "name": "stderr",
     "output_type": "stream",
     "text": [
      "Train:  98%|█████████▊| 4462/4572 [02:40<00:03, 27.88it/s, accuracy=0.0312, train_loss=5.67] \n",
      "Evaluation:  59%|█████▊    | 291/496 [02:46<01:57,  1.75it/s]\n"
     ]
    },
    {
     "name": "stdout",
     "output_type": "stream",
     "text": [
      "\t - Recall@20 epoch 18: 0.332152\n",
      "\t - MRR@20    epoch 18: 0.097461\n",
      "\n"
     ]
    },
    {
     "name": "stderr",
     "output_type": "stream",
     "text": [
      "Train:  98%|█████████▊| 4462/4572 [02:38<00:03, 28.20it/s, accuracy=0.0156, train_loss=5.74] \n",
      "Evaluation:  59%|█████▊    | 291/496 [02:45<01:56,  1.76it/s]\n"
     ]
    },
    {
     "name": "stdout",
     "output_type": "stream",
     "text": [
      "\t - Recall@20 epoch 19: 0.331212\n",
      "\t - MRR@20    epoch 19: 0.097415\n",
      "\n"
     ]
    },
    {
     "name": "stderr",
     "output_type": "stream",
     "text": [
      "Train:  98%|█████████▊| 4462/4572 [02:36<00:03, 28.59it/s, accuracy=0.0391, train_loss=5.85] \n",
      "Evaluation:  59%|█████▊    | 291/496 [02:46<01:56,  1.75it/s]\n"
     ]
    },
    {
     "name": "stdout",
     "output_type": "stream",
     "text": [
      "\t - Recall@20 epoch 20: 0.332152\n",
      "\t - MRR@20    epoch 20: 0.098281\n",
      "\n"
     ]
    },
    {
     "name": "stderr",
     "output_type": "stream",
     "text": [
      "Train:  98%|█████████▊| 4462/4572 [02:35<00:03, 28.70it/s, accuracy=0.0469, train_loss=5.82] \n",
      "Evaluation:  59%|█████▊    | 291/496 [02:43<01:55,  1.78it/s]\n"
     ]
    },
    {
     "name": "stdout",
     "output_type": "stream",
     "text": [
      "\t - Recall@20 epoch 21: 0.331508\n",
      "\t - MRR@20    epoch 21: 0.098117\n",
      "\n"
     ]
    },
    {
     "name": "stderr",
     "output_type": "stream",
     "text": [
      "Train:  98%|█████████▊| 4462/4572 [02:42<00:03, 27.53it/s, accuracy=0.0391, train_loss=5.57] \n",
      "Evaluation:  59%|█████▊    | 291/496 [02:47<01:58,  1.74it/s]\n"
     ]
    },
    {
     "name": "stdout",
     "output_type": "stream",
     "text": [
      "\t - Recall@20 epoch 22: 0.330273\n",
      "\t - MRR@20    epoch 22: 0.098198\n",
      "\n"
     ]
    },
    {
     "name": "stderr",
     "output_type": "stream",
     "text": [
      "Train:  98%|█████████▊| 4462/4572 [02:44<00:04, 27.08it/s, accuracy=0.0625, train_loss=5.76] \n",
      "Evaluation:  59%|█████▊    | 291/496 [02:45<01:56,  1.75it/s]\n"
     ]
    },
    {
     "name": "stdout",
     "output_type": "stream",
     "text": [
      "\t - Recall@20 epoch 23: 0.329467\n",
      "\t - MRR@20    epoch 23: 0.098265\n",
      "\n"
     ]
    },
    {
     "name": "stderr",
     "output_type": "stream",
     "text": [
      "Train:  98%|█████████▊| 4462/4572 [02:52<00:04, 25.86it/s, accuracy=0.0391, train_loss=5.69] \n",
      "Evaluation:  59%|█████▊    | 291/496 [02:46<01:57,  1.75it/s]\n"
     ]
    },
    {
     "name": "stdout",
     "output_type": "stream",
     "text": [
      "\t - Recall@20 epoch 24: 0.331588\n",
      "\t - MRR@20    epoch 24: 0.099336\n",
      "\n"
     ]
    },
    {
     "name": "stderr",
     "output_type": "stream",
     "text": [
      "Train:  98%|█████████▊| 4462/4572 [02:50<00:04, 26.11it/s, accuracy=0.0234, train_loss=5.78] \n",
      "Evaluation:  59%|█████▊    | 291/496 [02:47<01:57,  1.74it/s]\n"
     ]
    },
    {
     "name": "stdout",
     "output_type": "stream",
     "text": [
      "\t - Recall@20 epoch 25: 0.331105\n",
      "\t - MRR@20    epoch 25: 0.099467\n",
      "\n"
     ]
    },
    {
     "name": "stderr",
     "output_type": "stream",
     "text": [
      "Train:  98%|█████████▊| 4462/4572 [02:46<00:04, 26.85it/s, accuracy=0.0469, train_loss=5.64] \n",
      "Evaluation:  59%|█████▊    | 291/496 [02:45<01:56,  1.76it/s]\n"
     ]
    },
    {
     "name": "stdout",
     "output_type": "stream",
     "text": [
      "\t - Recall@20 epoch 26: 0.331239\n",
      "\t - MRR@20    epoch 26: 0.099254\n",
      "\n"
     ]
    },
    {
     "name": "stderr",
     "output_type": "stream",
     "text": [
      "Train:  98%|█████████▊| 4462/4572 [02:44<00:04, 27.07it/s, accuracy=0.0625, train_loss=5.66] \n",
      "Evaluation:  59%|█████▊    | 291/496 [02:44<01:56,  1.77it/s]\n"
     ]
    },
    {
     "name": "stdout",
     "output_type": "stream",
     "text": [
      "\t - Recall@20 epoch 27: 0.331857\n",
      "\t - MRR@20    epoch 27: 0.099110\n",
      "\n"
     ]
    },
    {
     "name": "stderr",
     "output_type": "stream",
     "text": [
      "Train:  98%|█████████▊| 4462/4572 [02:46<00:04, 26.79it/s, accuracy=0.0312, train_loss=5.78] \n",
      "Evaluation:  59%|█████▊    | 291/496 [02:47<01:57,  1.74it/s]\n"
     ]
    },
    {
     "name": "stdout",
     "output_type": "stream",
     "text": [
      "\t - Recall@20 epoch 28: 0.331105\n",
      "\t - MRR@20    epoch 28: 0.098576\n",
      "\n"
     ]
    },
    {
     "name": "stderr",
     "output_type": "stream",
     "text": [
      "Train:  98%|█████████▊| 4462/4572 [02:49<00:04, 26.28it/s, accuracy=0.0312, train_loss=5.68] \n",
      "Evaluation:  59%|█████▊    | 291/496 [02:47<01:57,  1.74it/s]\n"
     ]
    },
    {
     "name": "stdout",
     "output_type": "stream",
     "text": [
      "\t - Recall@20 epoch 29: 0.331266\n",
      "\t - MRR@20    epoch 29: 0.099660\n",
      "\n"
     ]
    },
    {
     "name": "stderr",
     "output_type": "stream",
     "text": [
      "Train:  98%|█████████▊| 4462/4572 [02:46<00:04, 26.82it/s, accuracy=0.0312, train_loss=5.82] \n",
      "Evaluation:  59%|█████▊    | 291/496 [02:46<01:57,  1.75it/s]"
     ]
    },
    {
     "name": "stdout",
     "output_type": "stream",
     "text": [
      "\t - Recall@20 epoch 30: 0.332098\n",
      "\t - MRR@20    epoch 30: 0.099280\n",
      "\n"
     ]
    },
    {
     "name": "stderr",
     "output_type": "stream",
     "text": [
      "\n"
     ]
    }
   ],
   "source": [
    "train_model(model, args)"
   ]
  },
  {
   "cell_type": "code",
   "execution_count": 69,
   "id": "5ceaf6fb",
   "metadata": {},
   "outputs": [
    {
     "name": "stderr",
     "output_type": "stream",
     "text": [
      "Evaluation:  83%|████████▎ | 1181/1417 [11:34<02:18,  1.70it/s]"
     ]
    },
    {
     "name": "stdout",
     "output_type": "stream",
     "text": [
      "\t - Recall@20: 0.274344\n",
      "\t - MRR@20: 0.080527\n",
      "\n"
     ]
    },
    {
     "name": "stderr",
     "output_type": "stream",
     "text": [
      "\n"
     ]
    }
   ],
   "source": [
    "def test_model(model, args, test):\n",
    "    test_recall, test_mrr = get_metrics(test, model, args, 20)\n",
    "    print(f\"\\t - Recall@{args.k}: {test_recall:3f}\")\n",
    "    print(f\"\\t - MRR@{args.k}: {test_mrr:3f}\\n\")\n",
    "\n",
    "test_model(model, args, test)"
   ]
  },
  {
   "cell_type": "markdown",
   "id": "facf9795",
   "metadata": {},
   "source": [
    "# 3번째 모델 - 모델 구조 (loss 종류) 변경"
   ]
  },
  {
   "cell_type": "code",
   "execution_count": 75,
   "id": "88eb13ac",
   "metadata": {},
   "outputs": [],
   "source": [
    "from tensorflow.keras.losses import mse\n",
    "\n",
    "def create_model(args):\n",
    "    inputs = Input(batch_shape=(args.batch_size, 1, args.num_items))\n",
    "    gru, _ = GRU(args.hsz, stateful=True, return_state=True, name='GRU')(inputs)\n",
    "    dropout = Dropout(args.drop_rate)(gru)\n",
    "    predictions = Dense(args.num_items, activation='softmax')(dropout)\n",
    "    model = Model(inputs=inputs, outputs=[predictions])\n",
    "    model.compile(loss=mse, optimizer=Adam(args.lr), metrics=['accuracy'])\n",
    "    model.summary()\n",
    "    return model"
   ]
  },
  {
   "cell_type": "code",
   "execution_count": 76,
   "id": "c365620e",
   "metadata": {},
   "outputs": [],
   "source": [
    "args = Args(train, valid, test, batch_size=128, hsz=50, drop_rate=0.1, lr=0.001, epochs=10, k=20)"
   ]
  },
  {
   "cell_type": "code",
   "execution_count": 77,
   "id": "e76491e5",
   "metadata": {},
   "outputs": [
    {
     "name": "stdout",
     "output_type": "stream",
     "text": [
      "Model: \"model_2\"\n",
      "_________________________________________________________________\n",
      "Layer (type)                 Output Shape              Param #   \n",
      "=================================================================\n",
      "input_3 (InputLayer)         [(128, 1, 3556)]          0         \n",
      "_________________________________________________________________\n",
      "GRU (GRU)                    [(128, 50), (128, 50)]    541200    \n",
      "_________________________________________________________________\n",
      "dropout_2 (Dropout)          (128, 50)                 0         \n",
      "_________________________________________________________________\n",
      "dense_2 (Dense)              (128, 3556)               181356    \n",
      "=================================================================\n",
      "Total params: 722,556\n",
      "Trainable params: 722,556\n",
      "Non-trainable params: 0\n",
      "_________________________________________________________________\n"
     ]
    }
   ],
   "source": [
    "model = create_model(args)"
   ]
  },
  {
   "cell_type": "code",
   "execution_count": 78,
   "id": "7dd7d06d",
   "metadata": {
    "scrolled": true
   },
   "outputs": [
    {
     "name": "stderr",
     "output_type": "stream",
     "text": [
      "Train:  98%|█████████▊| 4462/4572 [01:04<00:01, 69.56it/s, accuracy=0, train_loss=0.000281]      \n",
      "Evaluation:  59%|█████▊    | 291/496 [02:49<01:59,  1.72it/s]\n"
     ]
    },
    {
     "name": "stdout",
     "output_type": "stream",
     "text": [
      "\t - Recall@20 epoch 1: 0.067306\n",
      "\t - MRR@20    epoch 1: 0.013468\n",
      "\n"
     ]
    },
    {
     "name": "stderr",
     "output_type": "stream",
     "text": [
      "Train:  98%|█████████▊| 4462/4572 [01:01<00:01, 72.23it/s, accuracy=0.00781, train_loss=0.000281]\n",
      "Evaluation:  59%|█████▊    | 291/496 [02:48<01:58,  1.73it/s]\n"
     ]
    },
    {
     "name": "stdout",
     "output_type": "stream",
     "text": [
      "\t - Recall@20 epoch 2: 0.068675\n",
      "\t - MRR@20    epoch 2: 0.013892\n",
      "\n"
     ]
    },
    {
     "name": "stderr",
     "output_type": "stream",
     "text": [
      "Train:  98%|█████████▊| 4462/4572 [01:00<00:01, 73.38it/s, accuracy=0.00781, train_loss=0.000281]\n",
      "Evaluation:  59%|█████▊    | 291/496 [02:48<01:58,  1.72it/s]\n"
     ]
    },
    {
     "name": "stdout",
     "output_type": "stream",
     "text": [
      "\t - Recall@20 epoch 3: 0.069480\n",
      "\t - MRR@20    epoch 3: 0.014008\n",
      "\n"
     ]
    },
    {
     "name": "stderr",
     "output_type": "stream",
     "text": [
      "Train:  98%|█████████▊| 4462/4572 [01:01<00:01, 72.34it/s, accuracy=0.00781, train_loss=0.000281]\n",
      "Evaluation:  59%|█████▊    | 291/496 [02:46<01:57,  1.75it/s]\n"
     ]
    },
    {
     "name": "stdout",
     "output_type": "stream",
     "text": [
      "\t - Recall@20 epoch 4: 0.069480\n",
      "\t - MRR@20    epoch 4: 0.014052\n",
      "\n"
     ]
    },
    {
     "name": "stderr",
     "output_type": "stream",
     "text": [
      "Train:  98%|█████████▊| 4462/4572 [01:00<00:01, 73.40it/s, accuracy=0.00781, train_loss=0.000281]\n",
      "Evaluation:  59%|█████▊    | 291/496 [02:47<01:57,  1.74it/s]\n"
     ]
    },
    {
     "name": "stdout",
     "output_type": "stream",
     "text": [
      "\t - Recall@20 epoch 5: 0.069534\n",
      "\t - MRR@20    epoch 5: 0.014056\n",
      "\n"
     ]
    },
    {
     "name": "stderr",
     "output_type": "stream",
     "text": [
      "Train:  98%|█████████▊| 4462/4572 [01:00<00:01, 73.78it/s, accuracy=0.00781, train_loss=0.000281]\n",
      "Evaluation:  59%|█████▊    | 291/496 [02:46<01:57,  1.75it/s]\n"
     ]
    },
    {
     "name": "stdout",
     "output_type": "stream",
     "text": [
      "\t - Recall@20 epoch 6: 0.069400\n",
      "\t - MRR@20    epoch 6: 0.014072\n",
      "\n"
     ]
    },
    {
     "name": "stderr",
     "output_type": "stream",
     "text": [
      "Train:  98%|█████████▊| 4462/4572 [01:00<00:01, 73.63it/s, accuracy=0.00781, train_loss=0.000281]\n",
      "Evaluation:  59%|█████▊    | 291/496 [02:45<01:56,  1.75it/s]\n"
     ]
    },
    {
     "name": "stdout",
     "output_type": "stream",
     "text": [
      "\t - Recall@20 epoch 7: 0.069104\n",
      "\t - MRR@20    epoch 7: 0.014052\n",
      "\n"
     ]
    },
    {
     "name": "stderr",
     "output_type": "stream",
     "text": [
      "Train:  98%|█████████▊| 4462/4572 [01:01<00:01, 72.76it/s, accuracy=0.00781, train_loss=0.000281]\n",
      "Evaluation:  59%|█████▊    | 291/496 [02:46<01:57,  1.75it/s]\n"
     ]
    },
    {
     "name": "stdout",
     "output_type": "stream",
     "text": [
      "\t - Recall@20 epoch 8: 0.069319\n",
      "\t - MRR@20    epoch 8: 0.014068\n",
      "\n"
     ]
    },
    {
     "name": "stderr",
     "output_type": "stream",
     "text": [
      "Train:  98%|█████████▊| 4462/4572 [01:00<00:01, 73.37it/s, accuracy=0.00781, train_loss=0.000281]\n",
      "Evaluation:  59%|█████▊    | 291/496 [02:46<01:57,  1.75it/s]\n"
     ]
    },
    {
     "name": "stdout",
     "output_type": "stream",
     "text": [
      "\t - Recall@20 epoch 9: 0.069131\n",
      "\t - MRR@20    epoch 9: 0.014072\n",
      "\n"
     ]
    },
    {
     "name": "stderr",
     "output_type": "stream",
     "text": [
      "Train:  98%|█████████▊| 4462/4572 [01:00<00:01, 73.42it/s, accuracy=0.00781, train_loss=0.000281]\n",
      "Evaluation:  59%|█████▊    | 291/496 [02:46<01:57,  1.75it/s]"
     ]
    },
    {
     "name": "stdout",
     "output_type": "stream",
     "text": [
      "\t - Recall@20 epoch 10: 0.069104\n",
      "\t - MRR@20    epoch 10: 0.014081\n",
      "\n"
     ]
    },
    {
     "name": "stderr",
     "output_type": "stream",
     "text": [
      "\n"
     ]
    }
   ],
   "source": [
    "train_model(model, args)"
   ]
  },
  {
   "cell_type": "code",
   "execution_count": null,
   "id": "a4b1d00e",
   "metadata": {},
   "outputs": [
    {
     "name": "stderr",
     "output_type": "stream",
     "text": [
      "Evaluation:  83%|████████▎ | 1181/1417 [11:21<02:16,  1.73it/s]"
     ]
    },
    {
     "name": "stdout",
     "output_type": "stream",
     "text": [
      "\t - Recall@20: 0.047179\n",
      "\t - MRR@20: 0.009182\n",
      "\n"
     ]
    },
    {
     "name": "stderr",
     "output_type": "stream",
     "text": [
      "\n"
     ]
    }
   ],
   "source": [
    "def test_model(model, args, test):\n",
    "    test_recall, test_mrr = get_metrics(test, model, args, 20)\n",
    "    print(f\"\\t - Recall@{args.k}: {test_recall:3f}\")\n",
    "    print(f\"\\t - MRR@{args.k}: {test_mrr:3f}\\n\")\n",
    "\n",
    "test_model(model, args, test)"
   ]
  },
  {
   "cell_type": "markdown",
   "id": "6f27918a",
   "metadata": {},
   "source": [
    "# 결과 및 회고\n",
    "\n",
    "- 이번 프로젝트에서는 세션 기반의 추천 시스템을 만들어 보았다. 데이터 전처리 과정에서 평점이 3점 이하인 데이터를 제거하고, 데이터 전처리에서 시각화했을 때, 세션 길이 2000이 넘는 것은 boxplot 상의 이상치들 중에서도 매우 멀리 떨어져 있기도 하고 평점을 남긴 시간대를 보면 초까지 똑같은 시간에 남겼다는게 말이 안되기 때문에 session(UserID) length가 2000 이상인 데이터는 제거했다.\n",
    "- 모델은 노드에 나와있었던 세션 기반 추천 모델 관련한 논문에서 사용한 구조(GRU)를 이용하며 여러가지를 알게 되었다.\n",
    "\n",
    "> 1. 에폭의 변경은 그렇게 큰 영향을 주지 못했다.        \n",
    "> 2. cross-entropy loss 보다는 pairwise ranking based loss를 사용하는 것이 더 성능이 좋다고 한다.    \n",
    "> 3. 사실 loss function으로는 BPR loss를 선택하는 것이 최선이지만 함수를 불러오려면 따로 구현해야한다.            \n",
    "> 4. 추천 모델 성능 평가를 위한 지표로는 Recall과 MRR을 사용하는 것이 일반적이다.     \n",
    "> 5. recall을 구할 때는 k 값을 점점 크게 주면서 값을 비교하는 것이 좋다.         \n",
    "> 6. Precision보다 Recall 지표를 비교해보면 아래와 같다. Recall 지표를 사용하는 이유는 사용자 입장에서 좋아하는 영화를 추천 안해주는 것 보다는 싫어하는 영화를 계속 추천해주는게 더 싫어서인 것 같다.\n",
    ">> **precision** = 실제로 추천한 영화 중 사용자가 선호하는 영화를 얼마나 추천해주었는가          \n",
    ">> **recall** = 사용자가 선호하는 영화를 얼마나 맞췄는가         \n",
    "\n",
    "\n",
    "- 크게 3가지 방법으로 모델을 학습시킨 결과, 아래 표와 같다.\n",
    "\n",
    "|모델|Recall@20|MRR@20|\n",
    "|------|---|---|\n",
    "|기본|0.282101|0.086337|\n",
    "|하이퍼파라미터 변경|0.274344|0.080527|\n",
    "|모델 구조 (loss 종류) 변경|0.047179|0.009182|\n",
    "\n",
    "\n",
    "- loss를 바꾸면 성능이 좋아질 줄 알았지만 결과는 그와 다르게 매우 안좋게 나오기도 했다.\n",
    "- 하이퍼파라미터 튜닝도 여러 방법을 시도했다.\n",
    "> **batch size** : 64부터 512까지 테스트한 결과, 유의미한 차이는 없었지만 128일 때의 성능이 약간 높았다.          \n",
    "> **learning rate** : 0.0001부터 0.01까지 테스트한 결과, 0.001일 때의 성능이 가장 좋았다.         \n",
    "> **epochs** : 10~15 정도가 적당하고 그 이상에서는 overfitting이 발생했다.\n",
    "\n",
    "- 세 모델 모두 recall값이 크지 않아 좋은 모델 결과를 얻었다고 할 수는 없지만, 프로젝트 과정에서 여러 논문도 참고하고 평가 지표에 대해 고민도 하고 더 깊이 이해할 수 있었다."
   ]
  }
 ],
 "metadata": {
  "kernelspec": {
   "display_name": "Python 3 (ipykernel)",
   "language": "python",
   "name": "python3"
  },
  "language_info": {
   "codemirror_mode": {
    "name": "ipython",
    "version": 3
   },
   "file_extension": ".py",
   "mimetype": "text/x-python",
   "name": "python",
   "nbconvert_exporter": "python",
   "pygments_lexer": "ipython3",
   "version": "3.9.7"
  }
 },
 "nbformat": 4,
 "nbformat_minor": 5
}
