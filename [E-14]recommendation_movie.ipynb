{
 "cells": [
  {
   "cell_type": "markdown",
   "id": "6ec4d5b8",
   "metadata": {},
   "source": [
    "# 추천 시스템\n",
    "1. 협업 필터링\n",
    "- 다수의 사용자의 아이템 구매 이력 정보만으로 사용자간 유사성 및 아이템 간 유사성을 파악\n",
    "-  아이템과 사용자 간의 행동 또는 관계에만 주목할 뿐 아이템 자체의 고유한 속성에 주목하지 않음\n",
    "2. 콘텐츠 기반 필터링\n",
    "- 아이템의 고유의 정보를 바탕으로 아이템 간 유사성을 파악\n",
    "- 아이템 자체의 속성에만 주목하고 사용자와 아이템 간의 관련성에는 주목하지 않음"
   ]
  },
  {
   "cell_type": "markdown",
   "id": "cdca6130",
   "metadata": {},
   "source": [
    "# 명시적 평가\n",
    "- 좋아요나 별점와 같은 선호도\n",
    "\n",
    "# 암묵적 평가\n",
    "- 서비스를 사용하면서 자연스럽게 발생하는 암묵적(implicit)인 피드백"
   ]
  },
  {
   "cell_type": "markdown",
   "id": "35800628",
   "metadata": {},
   "source": [
    "# 데이터셋\n",
    "- Movielens 데이터\n",
    "- 유저가 영화에 대해 평점을 매긴 데이터가 데이터 크기 별로 있음 MovieLens 1M Dataset 사용을 권장\n",
    "- 별점 데이터는 대표적인 explicit 데이터이지만 implicit 데이터로 간주하고 테스트해 볼 수 있음\n",
    "- 별점을 시청횟수로 해석\n",
    "- 유저가 3점 미만으로 준 데이터는 선호하지 않는다고 가정하고 제외"
   ]
  },
  {
   "cell_type": "markdown",
   "id": "5082180b",
   "metadata": {},
   "source": [
    "# 1. 데이터 준비와 전처리"
   ]
  },
  {
   "cell_type": "code",
   "execution_count": 1,
   "id": "bb572d5b",
   "metadata": {},
   "outputs": [
    {
     "data": {
      "text/html": [
       "<div>\n",
       "<style scoped>\n",
       "    .dataframe tbody tr th:only-of-type {\n",
       "        vertical-align: middle;\n",
       "    }\n",
       "\n",
       "    .dataframe tbody tr th {\n",
       "        vertical-align: top;\n",
       "    }\n",
       "\n",
       "    .dataframe thead th {\n",
       "        text-align: right;\n",
       "    }\n",
       "</style>\n",
       "<table border=\"1\" class=\"dataframe\">\n",
       "  <thead>\n",
       "    <tr style=\"text-align: right;\">\n",
       "      <th></th>\n",
       "      <th>user_id</th>\n",
       "      <th>movie_id</th>\n",
       "      <th>rating</th>\n",
       "      <th>timestamp</th>\n",
       "    </tr>\n",
       "  </thead>\n",
       "  <tbody>\n",
       "    <tr>\n",
       "      <th>0</th>\n",
       "      <td>1</td>\n",
       "      <td>1193</td>\n",
       "      <td>5</td>\n",
       "      <td>978300760</td>\n",
       "    </tr>\n",
       "    <tr>\n",
       "      <th>1</th>\n",
       "      <td>1</td>\n",
       "      <td>661</td>\n",
       "      <td>3</td>\n",
       "      <td>978302109</td>\n",
       "    </tr>\n",
       "    <tr>\n",
       "      <th>2</th>\n",
       "      <td>1</td>\n",
       "      <td>914</td>\n",
       "      <td>3</td>\n",
       "      <td>978301968</td>\n",
       "    </tr>\n",
       "    <tr>\n",
       "      <th>3</th>\n",
       "      <td>1</td>\n",
       "      <td>3408</td>\n",
       "      <td>4</td>\n",
       "      <td>978300275</td>\n",
       "    </tr>\n",
       "    <tr>\n",
       "      <th>4</th>\n",
       "      <td>1</td>\n",
       "      <td>2355</td>\n",
       "      <td>5</td>\n",
       "      <td>978824291</td>\n",
       "    </tr>\n",
       "    <tr>\n",
       "      <th>5</th>\n",
       "      <td>1</td>\n",
       "      <td>1197</td>\n",
       "      <td>3</td>\n",
       "      <td>978302268</td>\n",
       "    </tr>\n",
       "    <tr>\n",
       "      <th>6</th>\n",
       "      <td>1</td>\n",
       "      <td>1287</td>\n",
       "      <td>5</td>\n",
       "      <td>978302039</td>\n",
       "    </tr>\n",
       "    <tr>\n",
       "      <th>7</th>\n",
       "      <td>1</td>\n",
       "      <td>2804</td>\n",
       "      <td>5</td>\n",
       "      <td>978300719</td>\n",
       "    </tr>\n",
       "    <tr>\n",
       "      <th>8</th>\n",
       "      <td>1</td>\n",
       "      <td>594</td>\n",
       "      <td>4</td>\n",
       "      <td>978302268</td>\n",
       "    </tr>\n",
       "    <tr>\n",
       "      <th>9</th>\n",
       "      <td>1</td>\n",
       "      <td>919</td>\n",
       "      <td>4</td>\n",
       "      <td>978301368</td>\n",
       "    </tr>\n",
       "  </tbody>\n",
       "</table>\n",
       "</div>"
      ],
      "text/plain": [
       "   user_id  movie_id  rating  timestamp\n",
       "0        1      1193       5  978300760\n",
       "1        1       661       3  978302109\n",
       "2        1       914       3  978301968\n",
       "3        1      3408       4  978300275\n",
       "4        1      2355       5  978824291\n",
       "5        1      1197       3  978302268\n",
       "6        1      1287       5  978302039\n",
       "7        1      2804       5  978300719\n",
       "8        1       594       4  978302268\n",
       "9        1       919       4  978301368"
      ]
     },
     "execution_count": 1,
     "metadata": {},
     "output_type": "execute_result"
    }
   ],
   "source": [
    "import pandas as pd\n",
    "import os\n",
    "\n",
    "rating_file_path=os.getenv('HOME') + '/aiffel/recommendata_iu/data/ml-1m/ratings.dat'\n",
    "ratings_cols = ['user_id', 'movie_id', 'rating', 'timestamp']\n",
    "ratings = pd.read_csv(rating_file_path, sep='::', names=ratings_cols, engine='python', encoding = \"ISO-8859-1\")\n",
    "orginal_data_size = len(ratings)\n",
    "ratings.head(10)"
   ]
  },
  {
   "cell_type": "code",
   "execution_count": 2,
   "id": "e2753129",
   "metadata": {},
   "outputs": [
    {
     "name": "stdout",
     "output_type": "stream",
     "text": [
      "orginal_data_size: 1000209, filtered_data_size: 836478\n",
      "Ratio of Remaining Data is 83.63%\n"
     ]
    }
   ],
   "source": [
    "# 3점 이상만 남깁니다.\n",
    "ratings = ratings[ratings['rating']>=3]\n",
    "filtered_data_size = len(ratings)\n",
    "\n",
    "print(f'orginal_data_size: {orginal_data_size}, filtered_data_size: {filtered_data_size}')\n",
    "print(f'Ratio of Remaining Data is {filtered_data_size / orginal_data_size:.2%}')"
   ]
  },
  {
   "cell_type": "code",
   "execution_count": 3,
   "id": "b7b30a48",
   "metadata": {},
   "outputs": [],
   "source": [
    "# rating 컬럼의 이름을 count로 바꿉니다.\n",
    "ratings.rename(columns={'rating':'count'}, inplace=True)"
   ]
  },
  {
   "cell_type": "code",
   "execution_count": 4,
   "id": "4c012792",
   "metadata": {},
   "outputs": [
    {
     "data": {
      "text/plain": [
       "0          5\n",
       "1          3\n",
       "2          3\n",
       "3          4\n",
       "4          5\n",
       "          ..\n",
       "1000203    3\n",
       "1000205    5\n",
       "1000206    5\n",
       "1000207    4\n",
       "1000208    4\n",
       "Name: count, Length: 836478, dtype: int64"
      ]
     },
     "execution_count": 4,
     "metadata": {},
     "output_type": "execute_result"
    }
   ],
   "source": [
    "ratings['count']"
   ]
  },
  {
   "cell_type": "code",
   "execution_count": 5,
   "id": "90ca45bf",
   "metadata": {},
   "outputs": [
    {
     "data": {
      "text/html": [
       "<div>\n",
       "<style scoped>\n",
       "    .dataframe tbody tr th:only-of-type {\n",
       "        vertical-align: middle;\n",
       "    }\n",
       "\n",
       "    .dataframe tbody tr th {\n",
       "        vertical-align: top;\n",
       "    }\n",
       "\n",
       "    .dataframe thead th {\n",
       "        text-align: right;\n",
       "    }\n",
       "</style>\n",
       "<table border=\"1\" class=\"dataframe\">\n",
       "  <thead>\n",
       "    <tr style=\"text-align: right;\">\n",
       "      <th></th>\n",
       "      <th>movie_id</th>\n",
       "      <th>title</th>\n",
       "      <th>genre</th>\n",
       "    </tr>\n",
       "  </thead>\n",
       "  <tbody>\n",
       "    <tr>\n",
       "      <th>0</th>\n",
       "      <td>1</td>\n",
       "      <td>Toy Story (1995)</td>\n",
       "      <td>Animation|Children's|Comedy</td>\n",
       "    </tr>\n",
       "    <tr>\n",
       "      <th>1</th>\n",
       "      <td>2</td>\n",
       "      <td>Jumanji (1995)</td>\n",
       "      <td>Adventure|Children's|Fantasy</td>\n",
       "    </tr>\n",
       "    <tr>\n",
       "      <th>2</th>\n",
       "      <td>3</td>\n",
       "      <td>Grumpier Old Men (1995)</td>\n",
       "      <td>Comedy|Romance</td>\n",
       "    </tr>\n",
       "    <tr>\n",
       "      <th>3</th>\n",
       "      <td>4</td>\n",
       "      <td>Waiting to Exhale (1995)</td>\n",
       "      <td>Comedy|Drama</td>\n",
       "    </tr>\n",
       "    <tr>\n",
       "      <th>4</th>\n",
       "      <td>5</td>\n",
       "      <td>Father of the Bride Part II (1995)</td>\n",
       "      <td>Comedy</td>\n",
       "    </tr>\n",
       "    <tr>\n",
       "      <th>5</th>\n",
       "      <td>6</td>\n",
       "      <td>Heat (1995)</td>\n",
       "      <td>Action|Crime|Thriller</td>\n",
       "    </tr>\n",
       "    <tr>\n",
       "      <th>6</th>\n",
       "      <td>7</td>\n",
       "      <td>Sabrina (1995)</td>\n",
       "      <td>Comedy|Romance</td>\n",
       "    </tr>\n",
       "    <tr>\n",
       "      <th>7</th>\n",
       "      <td>8</td>\n",
       "      <td>Tom and Huck (1995)</td>\n",
       "      <td>Adventure|Children's</td>\n",
       "    </tr>\n",
       "    <tr>\n",
       "      <th>8</th>\n",
       "      <td>9</td>\n",
       "      <td>Sudden Death (1995)</td>\n",
       "      <td>Action</td>\n",
       "    </tr>\n",
       "    <tr>\n",
       "      <th>9</th>\n",
       "      <td>10</td>\n",
       "      <td>GoldenEye (1995)</td>\n",
       "      <td>Action|Adventure|Thriller</td>\n",
       "    </tr>\n",
       "  </tbody>\n",
       "</table>\n",
       "</div>"
      ],
      "text/plain": [
       "   movie_id                               title                         genre\n",
       "0         1                    Toy Story (1995)   Animation|Children's|Comedy\n",
       "1         2                      Jumanji (1995)  Adventure|Children's|Fantasy\n",
       "2         3             Grumpier Old Men (1995)                Comedy|Romance\n",
       "3         4            Waiting to Exhale (1995)                  Comedy|Drama\n",
       "4         5  Father of the Bride Part II (1995)                        Comedy\n",
       "5         6                         Heat (1995)         Action|Crime|Thriller\n",
       "6         7                      Sabrina (1995)                Comedy|Romance\n",
       "7         8                 Tom and Huck (1995)          Adventure|Children's\n",
       "8         9                 Sudden Death (1995)                        Action\n",
       "9        10                    GoldenEye (1995)     Action|Adventure|Thriller"
      ]
     },
     "execution_count": 5,
     "metadata": {},
     "output_type": "execute_result"
    }
   ],
   "source": [
    "# 영화 제목을 보기 위해 메타 데이터를 읽어옵니다.\n",
    "movie_file_path=os.getenv('HOME') + '/aiffel/recommendata_iu/data/ml-1m/movies.dat'\n",
    "cols = ['movie_id', 'title', 'genre'] \n",
    "movies = pd.read_csv(movie_file_path, sep='::', names=cols, engine='python', encoding='ISO-8859-1')\n",
    "movies.head(10)"
   ]
  },
  {
   "cell_type": "code",
   "execution_count": 6,
   "id": "aaef648c",
   "metadata": {},
   "outputs": [
    {
     "data": {
      "text/html": [
       "<div>\n",
       "<style scoped>\n",
       "    .dataframe tbody tr th:only-of-type {\n",
       "        vertical-align: middle;\n",
       "    }\n",
       "\n",
       "    .dataframe tbody tr th {\n",
       "        vertical-align: top;\n",
       "    }\n",
       "\n",
       "    .dataframe thead th {\n",
       "        text-align: right;\n",
       "    }\n",
       "</style>\n",
       "<table border=\"1\" class=\"dataframe\">\n",
       "  <thead>\n",
       "    <tr style=\"text-align: right;\">\n",
       "      <th></th>\n",
       "      <th>user_id</th>\n",
       "      <th>movie_id</th>\n",
       "      <th>count</th>\n",
       "      <th>timestamp</th>\n",
       "      <th>title</th>\n",
       "      <th>genre</th>\n",
       "    </tr>\n",
       "  </thead>\n",
       "  <tbody>\n",
       "    <tr>\n",
       "      <th>0</th>\n",
       "      <td>1</td>\n",
       "      <td>1193</td>\n",
       "      <td>5</td>\n",
       "      <td>978300760</td>\n",
       "      <td>One Flew Over the Cuckoo's Nest (1975)</td>\n",
       "      <td>Drama</td>\n",
       "    </tr>\n",
       "    <tr>\n",
       "      <th>1</th>\n",
       "      <td>1</td>\n",
       "      <td>661</td>\n",
       "      <td>3</td>\n",
       "      <td>978302109</td>\n",
       "      <td>James and the Giant Peach (1996)</td>\n",
       "      <td>Animation|Children's|Musical</td>\n",
       "    </tr>\n",
       "    <tr>\n",
       "      <th>2</th>\n",
       "      <td>1</td>\n",
       "      <td>914</td>\n",
       "      <td>3</td>\n",
       "      <td>978301968</td>\n",
       "      <td>My Fair Lady (1964)</td>\n",
       "      <td>Musical|Romance</td>\n",
       "    </tr>\n",
       "    <tr>\n",
       "      <th>3</th>\n",
       "      <td>1</td>\n",
       "      <td>3408</td>\n",
       "      <td>4</td>\n",
       "      <td>978300275</td>\n",
       "      <td>Erin Brockovich (2000)</td>\n",
       "      <td>Drama</td>\n",
       "    </tr>\n",
       "    <tr>\n",
       "      <th>4</th>\n",
       "      <td>1</td>\n",
       "      <td>2355</td>\n",
       "      <td>5</td>\n",
       "      <td>978824291</td>\n",
       "      <td>Bug's Life, A (1998)</td>\n",
       "      <td>Animation|Children's|Comedy</td>\n",
       "    </tr>\n",
       "  </tbody>\n",
       "</table>\n",
       "</div>"
      ],
      "text/plain": [
       "   user_id  movie_id  count  timestamp  \\\n",
       "0        1      1193      5  978300760   \n",
       "1        1       661      3  978302109   \n",
       "2        1       914      3  978301968   \n",
       "3        1      3408      4  978300275   \n",
       "4        1      2355      5  978824291   \n",
       "\n",
       "                                    title                         genre  \n",
       "0  One Flew Over the Cuckoo's Nest (1975)                         Drama  \n",
       "1        James and the Giant Peach (1996)  Animation|Children's|Musical  \n",
       "2                     My Fair Lady (1964)               Musical|Romance  \n",
       "3                  Erin Brockovich (2000)                         Drama  \n",
       "4                    Bug's Life, A (1998)   Animation|Children's|Comedy  "
      ]
     },
     "execution_count": 6,
     "metadata": {},
     "output_type": "execute_result"
    }
   ],
   "source": [
    "# 평점과 제목 데이터프레임 합치기\n",
    "ratings = ratings.join(movies.set_index('movie_id'), on='movie_id')\n",
    "ratings.head()"
   ]
  },
  {
   "cell_type": "code",
   "execution_count": 7,
   "id": "5f658bba",
   "metadata": {
    "scrolled": true
   },
   "outputs": [
    {
     "data": {
      "text/html": [
       "<div>\n",
       "<style scoped>\n",
       "    .dataframe tbody tr th:only-of-type {\n",
       "        vertical-align: middle;\n",
       "    }\n",
       "\n",
       "    .dataframe tbody tr th {\n",
       "        vertical-align: top;\n",
       "    }\n",
       "\n",
       "    .dataframe thead th {\n",
       "        text-align: right;\n",
       "    }\n",
       "</style>\n",
       "<table border=\"1\" class=\"dataframe\">\n",
       "  <thead>\n",
       "    <tr style=\"text-align: right;\">\n",
       "      <th></th>\n",
       "      <th>user_id</th>\n",
       "      <th>movie_id</th>\n",
       "      <th>count</th>\n",
       "      <th>title</th>\n",
       "    </tr>\n",
       "  </thead>\n",
       "  <tbody>\n",
       "    <tr>\n",
       "      <th>0</th>\n",
       "      <td>1</td>\n",
       "      <td>1193</td>\n",
       "      <td>5</td>\n",
       "      <td>One Flew Over the Cuckoo's Nest (1975)</td>\n",
       "    </tr>\n",
       "    <tr>\n",
       "      <th>1</th>\n",
       "      <td>1</td>\n",
       "      <td>661</td>\n",
       "      <td>3</td>\n",
       "      <td>James and the Giant Peach (1996)</td>\n",
       "    </tr>\n",
       "    <tr>\n",
       "      <th>2</th>\n",
       "      <td>1</td>\n",
       "      <td>914</td>\n",
       "      <td>3</td>\n",
       "      <td>My Fair Lady (1964)</td>\n",
       "    </tr>\n",
       "    <tr>\n",
       "      <th>3</th>\n",
       "      <td>1</td>\n",
       "      <td>3408</td>\n",
       "      <td>4</td>\n",
       "      <td>Erin Brockovich (2000)</td>\n",
       "    </tr>\n",
       "    <tr>\n",
       "      <th>4</th>\n",
       "      <td>1</td>\n",
       "      <td>2355</td>\n",
       "      <td>5</td>\n",
       "      <td>Bug's Life, A (1998)</td>\n",
       "    </tr>\n",
       "  </tbody>\n",
       "</table>\n",
       "</div>"
      ],
      "text/plain": [
       "   user_id  movie_id  count                                   title\n",
       "0        1      1193      5  One Flew Over the Cuckoo's Nest (1975)\n",
       "1        1       661      3        James and the Giant Peach (1996)\n",
       "2        1       914      3                     My Fair Lady (1964)\n",
       "3        1      3408      4                  Erin Brockovich (2000)\n",
       "4        1      2355      5                    Bug's Life, A (1998)"
      ]
     },
     "execution_count": 7,
     "metadata": {},
     "output_type": "execute_result"
    }
   ],
   "source": [
    "# 사용하지 않는 컬럼 제거\n",
    "ratings = ratings.drop(columns=['timestamp', 'genre'])\n",
    "ratings.head()"
   ]
  },
  {
   "cell_type": "markdown",
   "id": "34aeef5c",
   "metadata": {},
   "source": [
    "# 2. 데이터 분석"
   ]
  },
  {
   "cell_type": "code",
   "execution_count": 8,
   "id": "9b34596f",
   "metadata": {},
   "outputs": [
    {
     "data": {
      "text/plain": [
       "3628"
      ]
     },
     "execution_count": 8,
     "metadata": {},
     "output_type": "execute_result"
    }
   ],
   "source": [
    "# ratings에 있는 유니크한 영화 개수\n",
    "ratings['movie_id'].nunique()"
   ]
  },
  {
   "cell_type": "code",
   "execution_count": 9,
   "id": "efcfe110",
   "metadata": {},
   "outputs": [
    {
     "data": {
      "text/plain": [
       "3628"
      ]
     },
     "execution_count": 9,
     "metadata": {},
     "output_type": "execute_result"
    }
   ],
   "source": [
    "# ratings에 있는 유니크한 영화 제목 수\n",
    "ratings['title'].nunique()"
   ]
  },
  {
   "cell_type": "code",
   "execution_count": 10,
   "id": "daa447e2",
   "metadata": {
    "scrolled": true
   },
   "outputs": [
    {
     "data": {
      "text/plain": [
       "6039"
      ]
     },
     "execution_count": 10,
     "metadata": {},
     "output_type": "execute_result"
    }
   ],
   "source": [
    "# ratings에 있는 유니크한 사용자 수\n",
    "ratings['user_id'].nunique()"
   ]
  },
  {
   "cell_type": "code",
   "execution_count": 11,
   "id": "d55d060d",
   "metadata": {
    "scrolled": true
   },
   "outputs": [
    {
     "data": {
      "text/plain": [
       "title\n",
       "American Beauty (1999)                                   3211\n",
       "Star Wars: Episode IV - A New Hope (1977)                2910\n",
       "Star Wars: Episode V - The Empire Strikes Back (1980)    2885\n",
       "Star Wars: Episode VI - Return of the Jedi (1983)        2716\n",
       "Saving Private Ryan (1998)                               2561\n",
       "Terminator 2: Judgment Day (1991)                        2509\n",
       "Silence of the Lambs, The (1991)                         2498\n",
       "Raiders of the Lost Ark (1981)                           2473\n",
       "Back to the Future (1985)                                2460\n",
       "Matrix, The (1999)                                       2434\n",
       "Jurassic Park (1993)                                     2413\n",
       "Sixth Sense, The (1999)                                  2385\n",
       "Fargo (1996)                                             2371\n",
       "Braveheart (1995)                                        2314\n",
       "Men in Black (1997)                                      2297\n",
       "Schindler's List (1993)                                  2257\n",
       "Princess Bride, The (1987)                               2252\n",
       "Shakespeare in Love (1998)                               2213\n",
       "L.A. Confidential (1997)                                 2210\n",
       "Shawshank Redemption, The (1994)                         2194\n",
       "Godfather, The (1972)                                    2167\n",
       "Groundhog Day (1993)                                     2121\n",
       "E.T. the Extra-Terrestrial (1982)                        2102\n",
       "Being John Malkovich (1999)                              2066\n",
       "Ghostbusters (1984)                                      2051\n",
       "Pulp Fiction (1994)                                      2030\n",
       "Forrest Gump (1994)                                      2022\n",
       "Terminator, The (1984)                                   2019\n",
       "Toy Story (1995)                                         2000\n",
       "Fugitive, The (1993)                                     1941\n",
       "Name: user_id, dtype: int64"
      ]
     },
     "execution_count": 11,
     "metadata": {},
     "output_type": "execute_result"
    }
   ],
   "source": [
    "# 가장 인기 있는 영화 30개\n",
    "movie_count = ratings.groupby('title')['user_id'].count()\n",
    "movie_count.sort_values(ascending=False).head(30)"
   ]
  },
  {
   "cell_type": "code",
   "execution_count": 12,
   "id": "bb620ad3",
   "metadata": {},
   "outputs": [
    {
     "data": {
      "text/plain": [
       "count    6039.000000\n",
       "mean      138.512668\n",
       "std       156.241599\n",
       "min         1.000000\n",
       "25%        38.000000\n",
       "50%        81.000000\n",
       "75%       177.000000\n",
       "max      1968.000000\n",
       "Name: movie_id, dtype: float64"
      ]
     },
     "execution_count": 12,
     "metadata": {},
     "output_type": "execute_result"
    }
   ],
   "source": [
    "# 유저별 몇 편의 영화를 봤는지에 대한 통계\n",
    "user_count = ratings.groupby('user_id')['movie_id'].count()\n",
    "user_count.describe()"
   ]
  },
  {
   "cell_type": "markdown",
   "id": "55d82834",
   "metadata": {},
   "source": [
    "# 3. 내가 선호하는 영화 추가"
   ]
  },
  {
   "cell_type": "code",
   "execution_count": 13,
   "id": "5932dcb3",
   "metadata": {},
   "outputs": [
    {
     "data": {
      "text/html": [
       "<div>\n",
       "<style scoped>\n",
       "    .dataframe tbody tr th:only-of-type {\n",
       "        vertical-align: middle;\n",
       "    }\n",
       "\n",
       "    .dataframe tbody tr th {\n",
       "        vertical-align: top;\n",
       "    }\n",
       "\n",
       "    .dataframe thead th {\n",
       "        text-align: right;\n",
       "    }\n",
       "</style>\n",
       "<table border=\"1\" class=\"dataframe\">\n",
       "  <thead>\n",
       "    <tr style=\"text-align: right;\">\n",
       "      <th></th>\n",
       "      <th>movie_id</th>\n",
       "      <th>title</th>\n",
       "      <th>genre</th>\n",
       "    </tr>\n",
       "  </thead>\n",
       "  <tbody>\n",
       "    <tr>\n",
       "      <th>102</th>\n",
       "      <td>104</td>\n",
       "      <td>Happy Gilmore (1996)</td>\n",
       "      <td>Comedy</td>\n",
       "    </tr>\n",
       "    <tr>\n",
       "      <th>639</th>\n",
       "      <td>644</td>\n",
       "      <td>Happy Weekend (1996)</td>\n",
       "      <td>Comedy</td>\n",
       "    </tr>\n",
       "    <tr>\n",
       "      <th>2822</th>\n",
       "      <td>2891</td>\n",
       "      <td>Happy, Texas (1999)</td>\n",
       "      <td>Comedy</td>\n",
       "    </tr>\n",
       "    <tr>\n",
       "      <th>3246</th>\n",
       "      <td>3315</td>\n",
       "      <td>Happy Go Lovely (1951)</td>\n",
       "      <td>Musical</td>\n",
       "    </tr>\n",
       "  </tbody>\n",
       "</table>\n",
       "</div>"
      ],
      "text/plain": [
       "      movie_id                   title    genre\n",
       "102        104    Happy Gilmore (1996)   Comedy\n",
       "639        644    Happy Weekend (1996)   Comedy\n",
       "2822      2891     Happy, Texas (1999)   Comedy\n",
       "3246      3315  Happy Go Lovely (1951)  Musical"
      ]
     },
     "execution_count": 13,
     "metadata": {},
     "output_type": "execute_result"
    }
   ],
   "source": [
    "# 영화 제목 키워드로 검색\n",
    "movies[movies['title'].str.lower().str.contains('happy', regex=False)]"
   ]
  },
  {
   "cell_type": "code",
   "execution_count": 14,
   "id": "6975253e",
   "metadata": {
    "scrolled": true
   },
   "outputs": [
    {
     "data": {
      "text/html": [
       "<div>\n",
       "<style scoped>\n",
       "    .dataframe tbody tr th:only-of-type {\n",
       "        vertical-align: middle;\n",
       "    }\n",
       "\n",
       "    .dataframe tbody tr th {\n",
       "        vertical-align: top;\n",
       "    }\n",
       "\n",
       "    .dataframe thead th {\n",
       "        text-align: right;\n",
       "    }\n",
       "</style>\n",
       "<table border=\"1\" class=\"dataframe\">\n",
       "  <thead>\n",
       "    <tr style=\"text-align: right;\">\n",
       "      <th></th>\n",
       "      <th>user_id</th>\n",
       "      <th>movie_id</th>\n",
       "      <th>count</th>\n",
       "      <th>title</th>\n",
       "    </tr>\n",
       "  </thead>\n",
       "  <tbody>\n",
       "    <tr>\n",
       "      <th>0</th>\n",
       "      <td>jenny</td>\n",
       "      <td>3404</td>\n",
       "      <td>5</td>\n",
       "      <td>Titanic (1997)</td>\n",
       "    </tr>\n",
       "    <tr>\n",
       "      <th>1</th>\n",
       "      <td>jenny</td>\n",
       "      <td>1</td>\n",
       "      <td>5</td>\n",
       "      <td>Toy Story (1995)</td>\n",
       "    </tr>\n",
       "    <tr>\n",
       "      <th>2</th>\n",
       "      <td>jenny</td>\n",
       "      <td>1682</td>\n",
       "      <td>5</td>\n",
       "      <td>Truman Show, The (1998)</td>\n",
       "    </tr>\n",
       "    <tr>\n",
       "      <th>3</th>\n",
       "      <td>jenny</td>\n",
       "      <td>586</td>\n",
       "      <td>5</td>\n",
       "      <td>Home Alone (1990)</td>\n",
       "    </tr>\n",
       "    <tr>\n",
       "      <th>4</th>\n",
       "      <td>jenny</td>\n",
       "      <td>2762</td>\n",
       "      <td>5</td>\n",
       "      <td>Sixth Sense, The (1999)</td>\n",
       "    </tr>\n",
       "  </tbody>\n",
       "</table>\n",
       "</div>"
      ],
      "text/plain": [
       "  user_id movie_id  count                    title\n",
       "0   jenny     3404      5           Titanic (1997)\n",
       "1   jenny        1      5         Toy Story (1995)\n",
       "2   jenny     1682      5  Truman Show, The (1998)\n",
       "3   jenny      586      5        Home Alone (1990)\n",
       "4   jenny     2762      5  Sixth Sense, The (1999)"
      ]
     },
     "execution_count": 14,
     "metadata": {},
     "output_type": "execute_result"
    }
   ],
   "source": [
    "# 내가 좋아하는 영화 5편의 id와 title 리스트 만들기\n",
    "my_favorite_id = ['3404', '1', '1682', '586', '2762']\n",
    "my_favorite_title = ['Titanic (1997)' , 'Toy Story (1995)' ,'Truman Show, The (1998)' ,'Home Alone (1990)' ,'Sixth Sense, The (1999)']\n",
    "\n",
    "# 'jenny'라는 user_id가 위 5편의 영화를 5번씩 봤다고 가정\n",
    "my_movielist = pd.DataFrame({'user_id': ['jenny']*5, 'movie_id': my_favorite_id, 'count': [5]*5, 'title': my_favorite_title})\n",
    "my_movielist"
   ]
  },
  {
   "cell_type": "code",
   "execution_count": 15,
   "id": "f089f43e",
   "metadata": {},
   "outputs": [
    {
     "data": {
      "text/html": [
       "<div>\n",
       "<style scoped>\n",
       "    .dataframe tbody tr th:only-of-type {\n",
       "        vertical-align: middle;\n",
       "    }\n",
       "\n",
       "    .dataframe tbody tr th {\n",
       "        vertical-align: top;\n",
       "    }\n",
       "\n",
       "    .dataframe thead th {\n",
       "        text-align: right;\n",
       "    }\n",
       "</style>\n",
       "<table border=\"1\" class=\"dataframe\">\n",
       "  <thead>\n",
       "    <tr style=\"text-align: right;\">\n",
       "      <th></th>\n",
       "      <th>user_id</th>\n",
       "      <th>movie_id</th>\n",
       "      <th>count</th>\n",
       "      <th>title</th>\n",
       "    </tr>\n",
       "  </thead>\n",
       "  <tbody>\n",
       "    <tr>\n",
       "      <th>836473</th>\n",
       "      <td>6040</td>\n",
       "      <td>1090</td>\n",
       "      <td>3</td>\n",
       "      <td>Platoon (1986)</td>\n",
       "    </tr>\n",
       "    <tr>\n",
       "      <th>836474</th>\n",
       "      <td>6040</td>\n",
       "      <td>1094</td>\n",
       "      <td>5</td>\n",
       "      <td>Crying Game, The (1992)</td>\n",
       "    </tr>\n",
       "    <tr>\n",
       "      <th>836475</th>\n",
       "      <td>6040</td>\n",
       "      <td>562</td>\n",
       "      <td>5</td>\n",
       "      <td>Welcome to the Dollhouse (1995)</td>\n",
       "    </tr>\n",
       "    <tr>\n",
       "      <th>836476</th>\n",
       "      <td>6040</td>\n",
       "      <td>1096</td>\n",
       "      <td>4</td>\n",
       "      <td>Sophie's Choice (1982)</td>\n",
       "    </tr>\n",
       "    <tr>\n",
       "      <th>836477</th>\n",
       "      <td>6040</td>\n",
       "      <td>1097</td>\n",
       "      <td>4</td>\n",
       "      <td>E.T. the Extra-Terrestrial (1982)</td>\n",
       "    </tr>\n",
       "    <tr>\n",
       "      <th>836478</th>\n",
       "      <td>jenny</td>\n",
       "      <td>3404</td>\n",
       "      <td>5</td>\n",
       "      <td>Titanic (1997)</td>\n",
       "    </tr>\n",
       "    <tr>\n",
       "      <th>836479</th>\n",
       "      <td>jenny</td>\n",
       "      <td>1</td>\n",
       "      <td>5</td>\n",
       "      <td>Toy Story (1995)</td>\n",
       "    </tr>\n",
       "    <tr>\n",
       "      <th>836480</th>\n",
       "      <td>jenny</td>\n",
       "      <td>1682</td>\n",
       "      <td>5</td>\n",
       "      <td>Truman Show, The (1998)</td>\n",
       "    </tr>\n",
       "    <tr>\n",
       "      <th>836481</th>\n",
       "      <td>jenny</td>\n",
       "      <td>586</td>\n",
       "      <td>5</td>\n",
       "      <td>Home Alone (1990)</td>\n",
       "    </tr>\n",
       "    <tr>\n",
       "      <th>836482</th>\n",
       "      <td>jenny</td>\n",
       "      <td>2762</td>\n",
       "      <td>5</td>\n",
       "      <td>Sixth Sense, The (1999)</td>\n",
       "    </tr>\n",
       "  </tbody>\n",
       "</table>\n",
       "</div>"
      ],
      "text/plain": [
       "       user_id movie_id  count                              title\n",
       "836473    6040     1090      3                     Platoon (1986)\n",
       "836474    6040     1094      5            Crying Game, The (1992)\n",
       "836475    6040      562      5    Welcome to the Dollhouse (1995)\n",
       "836476    6040     1096      4             Sophie's Choice (1982)\n",
       "836477    6040     1097      4  E.T. the Extra-Terrestrial (1982)\n",
       "836478   jenny     3404      5                     Titanic (1997)\n",
       "836479   jenny        1      5                   Toy Story (1995)\n",
       "836480   jenny     1682      5            Truman Show, The (1998)\n",
       "836481   jenny      586      5                  Home Alone (1990)\n",
       "836482   jenny     2762      5            Sixth Sense, The (1999)"
      ]
     },
     "execution_count": 15,
     "metadata": {},
     "output_type": "execute_result"
    }
   ],
   "source": [
    "if not ratings.isin({'user_id':['jenny']})['user_id'].any():  # user_id에 'jenny'라는 데이터가 없다면\n",
    "    ratings = ratings.append(my_movielist, ignore_index=True)   # 위에 임의로 만든 my_favorite 데이터를 추가해 줍니다. \n",
    "\n",
    "ratings.tail(10)       # 잘 추가되었는지 확인해 봅시다."
   ]
  },
  {
   "cell_type": "markdown",
   "id": "5bb7c8e0",
   "metadata": {},
   "source": [
    "# 4. indexing 후 CSR matrix 생성"
   ]
  },
  {
   "cell_type": "code",
   "execution_count": 16,
   "id": "e8134dac",
   "metadata": {},
   "outputs": [],
   "source": [
    "# 고유한 유저와 영화의 개수\n",
    "user_unique = ratings['user_id'].unique()\n",
    "movie_unique = ratings['title'].unique()\n",
    "\n",
    "# 고유한 값의 개수만큼 유저 id와 영화 제목을 indexing\n",
    "user_to_idx = {v:k for k,v in enumerate(user_unique)}\n",
    "movie_to_idx = {v:k for k,v in enumerate(movie_unique)}"
   ]
  },
  {
   "cell_type": "code",
   "execution_count": 17,
   "id": "452c5c0d",
   "metadata": {},
   "outputs": [
    {
     "name": "stdout",
     "output_type": "stream",
     "text": [
      "user_id column indexing OK!!\n",
      "title column indexing OK!!\n"
     ]
    },
    {
     "data": {
      "text/html": [
       "<div>\n",
       "<style scoped>\n",
       "    .dataframe tbody tr th:only-of-type {\n",
       "        vertical-align: middle;\n",
       "    }\n",
       "\n",
       "    .dataframe tbody tr th {\n",
       "        vertical-align: top;\n",
       "    }\n",
       "\n",
       "    .dataframe thead th {\n",
       "        text-align: right;\n",
       "    }\n",
       "</style>\n",
       "<table border=\"1\" class=\"dataframe\">\n",
       "  <thead>\n",
       "    <tr style=\"text-align: right;\">\n",
       "      <th></th>\n",
       "      <th>user_id</th>\n",
       "      <th>movie_id</th>\n",
       "      <th>count</th>\n",
       "      <th>title</th>\n",
       "    </tr>\n",
       "  </thead>\n",
       "  <tbody>\n",
       "    <tr>\n",
       "      <th>0</th>\n",
       "      <td>0</td>\n",
       "      <td>1193</td>\n",
       "      <td>5</td>\n",
       "      <td>0</td>\n",
       "    </tr>\n",
       "    <tr>\n",
       "      <th>1</th>\n",
       "      <td>0</td>\n",
       "      <td>661</td>\n",
       "      <td>3</td>\n",
       "      <td>1</td>\n",
       "    </tr>\n",
       "    <tr>\n",
       "      <th>2</th>\n",
       "      <td>0</td>\n",
       "      <td>914</td>\n",
       "      <td>3</td>\n",
       "      <td>2</td>\n",
       "    </tr>\n",
       "    <tr>\n",
       "      <th>3</th>\n",
       "      <td>0</td>\n",
       "      <td>3408</td>\n",
       "      <td>4</td>\n",
       "      <td>3</td>\n",
       "    </tr>\n",
       "    <tr>\n",
       "      <th>4</th>\n",
       "      <td>0</td>\n",
       "      <td>2355</td>\n",
       "      <td>5</td>\n",
       "      <td>4</td>\n",
       "    </tr>\n",
       "    <tr>\n",
       "      <th>...</th>\n",
       "      <td>...</td>\n",
       "      <td>...</td>\n",
       "      <td>...</td>\n",
       "      <td>...</td>\n",
       "    </tr>\n",
       "    <tr>\n",
       "      <th>836478</th>\n",
       "      <td>6039</td>\n",
       "      <td>3404</td>\n",
       "      <td>5</td>\n",
       "      <td>27</td>\n",
       "    </tr>\n",
       "    <tr>\n",
       "      <th>836479</th>\n",
       "      <td>6039</td>\n",
       "      <td>1</td>\n",
       "      <td>5</td>\n",
       "      <td>40</td>\n",
       "    </tr>\n",
       "    <tr>\n",
       "      <th>836480</th>\n",
       "      <td>6039</td>\n",
       "      <td>1682</td>\n",
       "      <td>5</td>\n",
       "      <td>385</td>\n",
       "    </tr>\n",
       "    <tr>\n",
       "      <th>836481</th>\n",
       "      <td>6039</td>\n",
       "      <td>586</td>\n",
       "      <td>5</td>\n",
       "      <td>507</td>\n",
       "    </tr>\n",
       "    <tr>\n",
       "      <th>836482</th>\n",
       "      <td>6039</td>\n",
       "      <td>2762</td>\n",
       "      <td>5</td>\n",
       "      <td>38</td>\n",
       "    </tr>\n",
       "  </tbody>\n",
       "</table>\n",
       "<p>836483 rows × 4 columns</p>\n",
       "</div>"
      ],
      "text/plain": [
       "        user_id movie_id  count  title\n",
       "0             0     1193      5      0\n",
       "1             0      661      3      1\n",
       "2             0      914      3      2\n",
       "3             0     3408      4      3\n",
       "4             0     2355      5      4\n",
       "...         ...      ...    ...    ...\n",
       "836478     6039     3404      5     27\n",
       "836479     6039        1      5     40\n",
       "836480     6039     1682      5    385\n",
       "836481     6039      586      5    507\n",
       "836482     6039     2762      5     38\n",
       "\n",
       "[836483 rows x 4 columns]"
      ]
     },
     "execution_count": 17,
     "metadata": {},
     "output_type": "execute_result"
    }
   ],
   "source": [
    "# 데이터 컬럼 내 값을 indexing된 값으로 교체\n",
    "\n",
    "# user_to_idx.get을 통해 user_id 컬럼의 모든 값을 인덱싱한 Series를 구해 봅시다. \n",
    "# 혹시 정상적으로 인덱싱되지 않은 row가 있다면 인덱스가 NaN이 될 테니 dropna()로 제거합니다. \n",
    "temp_user_data = ratings['user_id'].map(user_to_idx.get).dropna()\n",
    "if len(temp_user_data) == len(ratings):   # 모든 row가 정상적으로 인덱싱되었다면\n",
    "    print('user_id column indexing OK!!')\n",
    "    ratings['user_id'] = temp_user_data   # data['user_id']을 인덱싱된 Series로 교체해 줍니다. \n",
    "else:\n",
    "    print('user_id column indexing Fail!!')\n",
    "\n",
    "# movie_to_idx을 통해 title 컬럼도 동일한 방식으로 인덱싱해 줍니다. \n",
    "temp_movie_data = ratings['title'].map(movie_to_idx.get).dropna()\n",
    "if len(temp_movie_data) == len(ratings):\n",
    "    print('title column indexing OK!!')\n",
    "    ratings['title'] = temp_movie_data\n",
    "else:\n",
    "    print('title column indexing Fail!!')\n",
    "\n",
    "ratings"
   ]
  },
  {
   "cell_type": "code",
   "execution_count": 18,
   "id": "a8a563c8",
   "metadata": {},
   "outputs": [
    {
     "data": {
      "text/plain": [
       "<6040x3628 sparse matrix of type '<class 'numpy.int64'>'\n",
       "\twith 836483 stored elements in Compressed Sparse Row format>"
      ]
     },
     "execution_count": 18,
     "metadata": {},
     "output_type": "execute_result"
    }
   ],
   "source": [
    "from scipy.sparse import csr_matrix\n",
    "\n",
    "# CSR Matrix 생성\n",
    "num_user = ratings['user_id'].nunique()\n",
    "num_movie = ratings['title'].nunique()\n",
    "\n",
    "csr_data = csr_matrix((ratings['count'], (ratings.user_id, ratings.title)), shape= (num_user, num_movie))\n",
    "csr_data"
   ]
  },
  {
   "cell_type": "markdown",
   "id": "8872105f",
   "metadata": {},
   "source": [
    "# 5. AlternatingLeastSquares 모델 훈련시키기"
   ]
  },
  {
   "cell_type": "code",
   "execution_count": 19,
   "id": "3ce1ff28",
   "metadata": {},
   "outputs": [],
   "source": [
    "from implicit.als import AlternatingLeastSquares\n",
    "import os\n",
    "import numpy as np\n",
    "\n",
    "# implicit 라이브러리에서 권장하고 있는 부분입니다. 학습 내용과는 무관합니다.\n",
    "os.environ['OPENBLAS_NUM_THREADS']='1'\n",
    "os.environ['KMP_DUPLICATE_LIB_OK']='True'\n",
    "os.environ['MKL_NUM_THREADS']='1'"
   ]
  },
  {
   "cell_type": "code",
   "execution_count": 20,
   "id": "3213901c",
   "metadata": {},
   "outputs": [],
   "source": [
    "# Implicit AlternatingLeastSquares 모델의 선언\n",
    "als_model = AlternatingLeastSquares(factors=100, regularization=0.01, use_gpu=False, iterations=15, dtype=np.float32)"
   ]
  },
  {
   "cell_type": "code",
   "execution_count": 21,
   "id": "687426a6",
   "metadata": {},
   "outputs": [
    {
     "data": {
      "text/plain": [
       "<3628x6040 sparse matrix of type '<class 'numpy.int64'>'\n",
       "\twith 836483 stored elements in Compressed Sparse Column format>"
      ]
     },
     "execution_count": 21,
     "metadata": {},
     "output_type": "execute_result"
    }
   ],
   "source": [
    "# als 모델은 input으로 item X user 꼴의 matrix를 받기 때문에 Transpose해줍니다.\n",
    "csr_data_transpose = csr_data.T\n",
    "csr_data_transpose"
   ]
  },
  {
   "cell_type": "code",
   "execution_count": 22,
   "id": "be033273",
   "metadata": {},
   "outputs": [
    {
     "data": {
      "application/vnd.jupyter.widget-view+json": {
       "model_id": "e86e92672237485cb158cc24f7ecdd3b",
       "version_major": 2,
       "version_minor": 0
      },
      "text/plain": [
       "  0%|          | 0/15 [00:00<?, ?it/s]"
      ]
     },
     "metadata": {},
     "output_type": "display_data"
    }
   ],
   "source": [
    "# 모델 훈련\n",
    "als_model.fit(csr_data_transpose)"
   ]
  },
  {
   "cell_type": "markdown",
   "id": "c0d20141",
   "metadata": {},
   "source": [
    "# 6. 훈련된 모델이 예측한 나의 선호도 파악"
   ]
  },
  {
   "cell_type": "code",
   "execution_count": 23,
   "id": "5848e444",
   "metadata": {},
   "outputs": [],
   "source": [
    "# 훈련된 모델이 만든 나의 벡터와 영화 벡터 구하기\n",
    "jenny, titanic = user_to_idx['jenny'], movie_to_idx['Titanic (1997)']\n",
    "jenny_vector, titanic_vector = als_model.user_factors[jenny], als_model.item_factors[titanic]"
   ]
  },
  {
   "cell_type": "code",
   "execution_count": 24,
   "id": "62c372ca",
   "metadata": {},
   "outputs": [
    {
     "data": {
      "text/plain": [
       "array([ 0.22430515,  0.17618869, -0.6691161 ,  0.97457343, -0.17608222,\n",
       "        0.8075873 , -0.3021627 , -0.32576367, -0.19819802, -0.31356815,\n",
       "       -0.0906718 ,  0.6598122 , -0.13994437, -0.6603704 , -0.56656414,\n",
       "        0.4369003 ,  0.40960336, -0.5479577 , -1.1902001 ,  0.9769281 ,\n",
       "       -0.44432303,  0.45421672,  0.13773352,  0.14894769,  0.28756678,\n",
       "        0.777767  , -0.08669937,  0.3794692 , -1.0260193 ,  0.20687294,\n",
       "        0.9769322 ,  0.77625304,  0.18239821, -0.4400936 ,  0.17369905,\n",
       "        0.05602873,  0.44858778,  0.0249983 ,  0.21382478,  0.08409972,\n",
       "       -0.6903213 , -0.5327605 , -0.9527088 , -0.8644769 ,  0.47433954,\n",
       "       -0.22294797,  0.3997604 ,  0.00636849, -0.43039185,  0.18103476,\n",
       "       -0.68476945,  0.15028484,  0.8294395 ,  0.39347103,  0.21207045,\n",
       "        0.17733374, -0.17726314,  0.2349217 ,  0.8275934 , -0.08061446,\n",
       "        0.5330021 ,  0.5609189 , -0.09951682, -0.10520467, -0.25933304,\n",
       "        0.23708516,  0.90822816, -0.35760653,  0.76988554,  0.34279528,\n",
       "       -0.28524286, -0.24421762, -0.22087675, -0.35469246, -0.26009834,\n",
       "       -0.22256121,  0.3555945 ,  0.04764296, -0.45988482,  0.6582304 ,\n",
       "       -0.14921461, -0.81164265, -0.00322596, -0.8776264 , -0.10413548,\n",
       "        0.21212913, -0.26232445, -0.49910694,  0.25296322,  0.23475291,\n",
       "       -0.37923038, -0.12491376, -0.8216959 ,  1.3279924 , -0.29247966,\n",
       "        0.76186615,  0.70770335, -1.1840538 ,  0.01920378,  0.07782666],\n",
       "      dtype=float32)"
      ]
     },
     "execution_count": 24,
     "metadata": {},
     "output_type": "execute_result"
    }
   ],
   "source": [
    "jenny_vector"
   ]
  },
  {
   "cell_type": "code",
   "execution_count": 25,
   "id": "bf0b9161",
   "metadata": {},
   "outputs": [
    {
     "data": {
      "text/plain": [
       "array([ 1.4334379e-02,  1.2988924e-03, -2.6735742e-02, -1.2741253e-03,\n",
       "        4.4695903e-02,  3.0073904e-02,  8.2859304e-03, -2.8947478e-02,\n",
       "       -4.9338187e-03, -1.8764181e-02, -7.2373389e-03,  4.3879885e-02,\n",
       "       -2.3459287e-02, -1.8840311e-02,  4.6434123e-03,  6.8252780e-03,\n",
       "        1.0521811e-02, -8.0114724e-03, -1.5447078e-03,  4.3332849e-02,\n",
       "        2.0630222e-02,  1.0901998e-03,  1.9397378e-02, -1.0935541e-02,\n",
       "       -1.7009841e-02,  1.0176537e-03, -9.4603011e-03,  6.4675640e-03,\n",
       "       -1.5129714e-04, -2.9739385e-02,  2.7907021e-02,  3.3202440e-02,\n",
       "        2.9360132e-02, -1.2418005e-02,  2.3703862e-03,  4.0498313e-02,\n",
       "        2.2373863e-02, -1.5935270e-02,  1.0690268e-02, -1.5368544e-02,\n",
       "       -3.2211810e-02, -9.5716836e-03,  8.7086931e-03, -7.1087210e-03,\n",
       "        2.8084777e-02, -1.3243903e-02,  3.3424396e-02, -1.0372459e-02,\n",
       "       -9.0304026e-03,  4.2970616e-02,  5.9769424e-03,  1.9377794e-02,\n",
       "        5.5009252e-03,  2.1587998e-02,  8.2574943e-03,  1.0689802e-02,\n",
       "        1.0910203e-02,  2.8973291e-02,  4.2857721e-02,  3.8832244e-03,\n",
       "        1.9864986e-02,  4.6725817e-02, -2.0062564e-02,  5.4114670e-03,\n",
       "       -3.2787852e-02,  2.1716759e-02,  3.6526896e-02,  6.7223916e-03,\n",
       "        4.1701376e-02,  3.4906399e-02, -5.6789133e-05, -3.1809691e-02,\n",
       "       -3.0382311e-02, -1.8665561e-02, -2.6634913e-02, -3.2667737e-02,\n",
       "        3.6541291e-02, -1.4515875e-03, -5.7433214e-04,  2.1233466e-02,\n",
       "       -8.5509811e-03, -2.0827284e-02,  3.6532762e-03, -1.8471960e-02,\n",
       "        1.4353217e-02,  1.6568750e-02, -8.9382771e-03, -1.6183006e-02,\n",
       "        1.5154794e-02,  8.6517660e-03, -1.4178760e-02,  1.7925238e-02,\n",
       "       -6.1812834e-03,  2.3734892e-02,  1.9596925e-02,  3.0639993e-02,\n",
       "        3.1778622e-02, -3.3676416e-02,  3.0592466e-02,  9.1701210e-04],\n",
       "      dtype=float32)"
      ]
     },
     "execution_count": 25,
     "metadata": {},
     "output_type": "execute_result"
    }
   ],
   "source": [
    "titanic_vector   # 영화 타이타닉의 벡터"
   ]
  },
  {
   "cell_type": "code",
   "execution_count": 26,
   "id": "ce057e0b",
   "metadata": {},
   "outputs": [
    {
     "data": {
      "text/plain": [
       "0.69579905"
      ]
     },
     "execution_count": 26,
     "metadata": {},
     "output_type": "execute_result"
    }
   ],
   "source": [
    "# 나와 타이타닉의 내적 구하기 (선호 리스트에 있는 영화)\n",
    "np.dot(jenny_vector, titanic_vector)"
   ]
  },
  {
   "cell_type": "code",
   "execution_count": 27,
   "id": "058ed1dd",
   "metadata": {},
   "outputs": [
    {
     "data": {
      "text/plain": [
       "0.05902475"
      ]
     },
     "execution_count": 27,
     "metadata": {},
     "output_type": "execute_result"
    }
   ],
   "source": [
    "# 다른 영화에 대한 선호도 예측 (선호 리스트에 없는 영화)\n",
    "matrix = movie_to_idx['My Fair Lady (1964)']\n",
    "matrix_vector = als_model.item_factors[matrix]\n",
    "np.dot(jenny_vector, matrix_vector)"
   ]
  },
  {
   "cell_type": "markdown",
   "id": "f2e74f1d",
   "metadata": {},
   "source": [
    "# 7. 내가 좋아하는 영화와 비슷한 영화 추천"
   ]
  },
  {
   "cell_type": "code",
   "execution_count": 28,
   "id": "32bb672e",
   "metadata": {},
   "outputs": [
    {
     "data": {
      "text/plain": [
       "[(58, 1.0),\n",
       " (138, 0.5284145),\n",
       " (118, 0.48484734),\n",
       " (587, 0.47482374),\n",
       " (156, 0.46559694),\n",
       " (179, 0.44948187),\n",
       " (766, 0.44903842),\n",
       " (82, 0.43846905),\n",
       " (714, 0.43518576),\n",
       " (772, 0.43057784),\n",
       " (129, 0.42631635),\n",
       " (140, 0.41672072),\n",
       " (975, 0.4042716),\n",
       " (435, 0.3886269),\n",
       " (1943, 0.38709497)]"
      ]
     },
     "execution_count": 28,
     "metadata": {},
     "output_type": "execute_result"
    }
   ],
   "source": [
    "favorite_movie = 'Mission: Impossible (1996)'\n",
    "movie_id = movie_to_idx[favorite_movie]\n",
    "similar_movie = als_model.similar_items(movie_id, N=15)\n",
    "similar_movie   # (movie idx, 유사도) Tuple"
   ]
  },
  {
   "cell_type": "code",
   "execution_count": 29,
   "id": "de229385",
   "metadata": {},
   "outputs": [
    {
     "data": {
      "text/plain": [
       "['Mission: Impossible (1996)',\n",
       " 'True Lies (1994)',\n",
       " 'Con Air (1997)',\n",
       " 'Batman Returns (1992)',\n",
       " 'Mask of Zorro, The (1998)',\n",
       " 'Rock, The (1996)',\n",
       " 'GoldenEye (1995)',\n",
       " 'Lost World: Jurassic Park, The (1997)',\n",
       " 'Waterworld (1995)',\n",
       " 'Rising Sun (1993)',\n",
       " 'Conspiracy Theory (1997)',\n",
       " 'Clear and Present Danger (1994)',\n",
       " 'Young Sherlock Holmes (1985)',\n",
       " 'Godfather: Part III, The (1990)',\n",
       " 'Batman & Robin (1997)']"
      ]
     },
     "execution_count": 29,
     "metadata": {},
     "output_type": "execute_result"
    }
   ],
   "source": [
    "# movie_to_idx 를 뒤집어, index로부터 movie 이름을 얻는 dict를 생성합니다. \n",
    "idx_to_movie = {v:k for k,v in movie_to_idx.items()}\n",
    "[idx_to_movie[i[0]] for i in similar_movie]"
   ]
  },
  {
   "cell_type": "code",
   "execution_count": 30,
   "id": "56c4e3bd",
   "metadata": {},
   "outputs": [],
   "source": [
    "# 비슷한 영화를 알려주는 함수\n",
    "def get_similar_movie(movie_title: str):\n",
    "    movie_id = movie_to_idx[movie_title]\n",
    "    similar_movie = als_model.similar_items(movie_id)\n",
    "    similar_movie = [idx_to_movie[i[0]] for i in similar_movie]\n",
    "    return similar_movie"
   ]
  },
  {
   "cell_type": "code",
   "execution_count": 31,
   "id": "3c060041",
   "metadata": {},
   "outputs": [
    {
     "data": {
      "text/plain": [
       "['Gladiator (2000)',\n",
       " 'Patriot, The (2000)',\n",
       " 'Mission: Impossible 2 (2000)',\n",
       " 'Perfect Storm, The (2000)',\n",
       " 'X-Men (2000)',\n",
       " 'U-571 (2000)',\n",
       " 'Frequency (2000)',\n",
       " 'Shanghai Noon (2000)',\n",
       " 'Gone in 60 Seconds (2000)',\n",
       " 'Shaft (2000)']"
      ]
     },
     "execution_count": 31,
     "metadata": {},
     "output_type": "execute_result"
    }
   ],
   "source": [
    "get_similar_movie('Gladiator (2000)')"
   ]
  },
  {
   "cell_type": "code",
   "execution_count": 32,
   "id": "aba8abcd",
   "metadata": {},
   "outputs": [
    {
     "data": {
      "text/plain": [
       "['2001: A Space Odyssey (1968)',\n",
       " 'Close Encounters of the Third Kind (1977)',\n",
       " 'Dr. Strangelove or: How I Learned to Stop Worrying and Love the Bomb (1963)',\n",
       " 'Clockwork Orange, A (1971)',\n",
       " '2010 (1984)',\n",
       " 'Alien (1979)',\n",
       " 'Brazil (1985)',\n",
       " 'Blade Runner (1982)',\n",
       " 'Apocalypse Now (1979)',\n",
       " '8MM (1999)']"
      ]
     },
     "execution_count": 32,
     "metadata": {},
     "output_type": "execute_result"
    }
   ],
   "source": [
    "get_similar_movie('2001: A Space Odyssey (1968)')"
   ]
  },
  {
   "cell_type": "markdown",
   "id": "3e10e56d",
   "metadata": {},
   "source": [
    "# 8. 내가 가장 좋아할 만한 영화 추천"
   ]
  },
  {
   "cell_type": "code",
   "execution_count": 33,
   "id": "b698a59c",
   "metadata": {},
   "outputs": [
    {
     "data": {
      "text/plain": [
       "[(50, 0.50636333),\n",
       " (39, 0.3608958),\n",
       " (126, 0.31682932),\n",
       " (248, 0.29198194),\n",
       " (330, 0.27225143),\n",
       " (4, 0.23439188),\n",
       " (626, 0.22994356),\n",
       " (60, 0.2287566),\n",
       " (139, 0.22874075),\n",
       " (110, 0.22863382),\n",
       " (479, 0.20951699),\n",
       " (384, 0.20842972),\n",
       " (255, 0.1984038),\n",
       " (322, 0.1898619),\n",
       " (33, 0.18564972),\n",
       " (160, 0.18369524),\n",
       " (143, 0.17946643),\n",
       " (99, 0.17829229),\n",
       " (121, 0.1776527),\n",
       " (641, 0.17341408)]"
      ]
     },
     "execution_count": 33,
     "metadata": {},
     "output_type": "execute_result"
    }
   ],
   "source": [
    "user = user_to_idx['jenny']\n",
    "# recommend에서는 user*item CSR Matrix를 받습니다.\n",
    "movie_recommended = als_model.recommend(user, csr_data, N=20, filter_already_liked_items=True)\n",
    "movie_recommended"
   ]
  },
  {
   "cell_type": "code",
   "execution_count": 34,
   "id": "a3817af1",
   "metadata": {},
   "outputs": [
    {
     "data": {
      "text/plain": [
       "['Toy Story 2 (1999)',\n",
       " 'Apollo 13 (1995)',\n",
       " 'Shakespeare in Love (1998)',\n",
       " 'Good Will Hunting (1997)',\n",
       " 'Lion King, The (1994)',\n",
       " \"Bug's Life, A (1998)\",\n",
       " \"You've Got Mail (1998)\",\n",
       " 'Star Wars: Episode I - The Phantom Menace (1999)',\n",
       " 'October Sky (1999)',\n",
       " 'Groundhog Day (1993)',\n",
       " 'Contact (1997)',\n",
       " 'Jerry Maguire (1996)',\n",
       " \"There's Something About Mary (1998)\",\n",
       " 'Babe (1995)',\n",
       " 'Aladdin (1992)',\n",
       " 'Forrest Gump (1994)',\n",
       " 'Gone with the Wind (1939)',\n",
       " 'American Beauty (1999)',\n",
       " 'Silence of the Lambs, The (1991)',\n",
       " \"Mr. Holland's Opus (1995)\"]"
      ]
     },
     "execution_count": 34,
     "metadata": {},
     "output_type": "execute_result"
    }
   ],
   "source": [
    "# 인덱스를 영화 제목으로 변환\n",
    "[idx_to_movie[i[0]] for i in movie_recommended]"
   ]
  },
  {
   "cell_type": "code",
   "execution_count": 35,
   "id": "70511714",
   "metadata": {},
   "outputs": [
    {
     "data": {
      "text/plain": [
       "[('Toy Story (1995)', 0.015202926284850439),\n",
       " ('Home Alone (1990)', -0.002879711428088287),\n",
       " ('Titanic (1997)', -0.010803508339650849),\n",
       " ('Sixth Sense, The (1999)', -0.022343710851984232),\n",
       " ('Truman Show, The (1998)', -0.029618814526831478)]"
      ]
     },
     "execution_count": 35,
     "metadata": {},
     "output_type": "execute_result"
    }
   ],
   "source": [
    "# 사용자가 기록을 남긴 데이터가 특정 영화 추천에 기여한 정도를 확인\n",
    "recommended = movie_to_idx['Blade Runner (1982)']\n",
    "explain = als_model.explain(user, csr_data, itemid=recommended)\n",
    "\n",
    "[(idx_to_movie[i[0]], i[1]) for i in explain[1]]"
   ]
  },
  {
   "cell_type": "code",
   "execution_count": 36,
   "id": "414cf1f7",
   "metadata": {},
   "outputs": [
    {
     "data": {
      "text/html": [
       "<div>\n",
       "<style scoped>\n",
       "    .dataframe tbody tr th:only-of-type {\n",
       "        vertical-align: middle;\n",
       "    }\n",
       "\n",
       "    .dataframe tbody tr th {\n",
       "        vertical-align: top;\n",
       "    }\n",
       "\n",
       "    .dataframe thead th {\n",
       "        text-align: right;\n",
       "    }\n",
       "</style>\n",
       "<table border=\"1\" class=\"dataframe\">\n",
       "  <thead>\n",
       "    <tr style=\"text-align: right;\">\n",
       "      <th></th>\n",
       "      <th>추천 영화 Top 20</th>\n",
       "    </tr>\n",
       "  </thead>\n",
       "  <tbody>\n",
       "    <tr>\n",
       "      <th>0</th>\n",
       "      <td>Toy Story 2 (1999)</td>\n",
       "    </tr>\n",
       "    <tr>\n",
       "      <th>1</th>\n",
       "      <td>Apollo 13 (1995)</td>\n",
       "    </tr>\n",
       "    <tr>\n",
       "      <th>2</th>\n",
       "      <td>Shakespeare in Love (1998)</td>\n",
       "    </tr>\n",
       "    <tr>\n",
       "      <th>3</th>\n",
       "      <td>Good Will Hunting (1997)</td>\n",
       "    </tr>\n",
       "    <tr>\n",
       "      <th>4</th>\n",
       "      <td>Lion King, The (1994)</td>\n",
       "    </tr>\n",
       "    <tr>\n",
       "      <th>5</th>\n",
       "      <td>Bug's Life, A (1998)</td>\n",
       "    </tr>\n",
       "    <tr>\n",
       "      <th>6</th>\n",
       "      <td>You've Got Mail (1998)</td>\n",
       "    </tr>\n",
       "    <tr>\n",
       "      <th>7</th>\n",
       "      <td>Star Wars: Episode I - The Phantom Menace (1999)</td>\n",
       "    </tr>\n",
       "    <tr>\n",
       "      <th>8</th>\n",
       "      <td>October Sky (1999)</td>\n",
       "    </tr>\n",
       "    <tr>\n",
       "      <th>9</th>\n",
       "      <td>Groundhog Day (1993)</td>\n",
       "    </tr>\n",
       "    <tr>\n",
       "      <th>10</th>\n",
       "      <td>Contact (1997)</td>\n",
       "    </tr>\n",
       "    <tr>\n",
       "      <th>11</th>\n",
       "      <td>Jerry Maguire (1996)</td>\n",
       "    </tr>\n",
       "    <tr>\n",
       "      <th>12</th>\n",
       "      <td>There's Something About Mary (1998)</td>\n",
       "    </tr>\n",
       "    <tr>\n",
       "      <th>13</th>\n",
       "      <td>Babe (1995)</td>\n",
       "    </tr>\n",
       "    <tr>\n",
       "      <th>14</th>\n",
       "      <td>Aladdin (1992)</td>\n",
       "    </tr>\n",
       "    <tr>\n",
       "      <th>15</th>\n",
       "      <td>Forrest Gump (1994)</td>\n",
       "    </tr>\n",
       "    <tr>\n",
       "      <th>16</th>\n",
       "      <td>Gone with the Wind (1939)</td>\n",
       "    </tr>\n",
       "    <tr>\n",
       "      <th>17</th>\n",
       "      <td>American Beauty (1999)</td>\n",
       "    </tr>\n",
       "    <tr>\n",
       "      <th>18</th>\n",
       "      <td>Silence of the Lambs, The (1991)</td>\n",
       "    </tr>\n",
       "    <tr>\n",
       "      <th>19</th>\n",
       "      <td>Mr. Holland's Opus (1995)</td>\n",
       "    </tr>\n",
       "  </tbody>\n",
       "</table>\n",
       "</div>"
      ],
      "text/plain": [
       "                                        추천 영화 Top 20\n",
       "0                                 Toy Story 2 (1999)\n",
       "1                                   Apollo 13 (1995)\n",
       "2                         Shakespeare in Love (1998)\n",
       "3                           Good Will Hunting (1997)\n",
       "4                              Lion King, The (1994)\n",
       "5                               Bug's Life, A (1998)\n",
       "6                             You've Got Mail (1998)\n",
       "7   Star Wars: Episode I - The Phantom Menace (1999)\n",
       "8                                 October Sky (1999)\n",
       "9                               Groundhog Day (1993)\n",
       "10                                    Contact (1997)\n",
       "11                              Jerry Maguire (1996)\n",
       "12               There's Something About Mary (1998)\n",
       "13                                       Babe (1995)\n",
       "14                                    Aladdin (1992)\n",
       "15                               Forrest Gump (1994)\n",
       "16                         Gone with the Wind (1939)\n",
       "17                            American Beauty (1999)\n",
       "18                  Silence of the Lambs, The (1991)\n",
       "19                         Mr. Holland's Opus (1995)"
      ]
     },
     "execution_count": 36,
     "metadata": {},
     "output_type": "execute_result"
    }
   ],
   "source": [
    "rec = [idx_to_movie[i[0]] for i in movie_recommended]\n",
    "recommendation = pd.DataFrame(rec)\n",
    "recommendation.columns = ['추천 영화 Top 20']\n",
    "recommendation"
   ]
  },
  {
   "cell_type": "markdown",
   "id": "ec22e94c",
   "metadata": {},
   "source": [
    "# 회고\n",
    "- 데이터 전처리 과정에서 영화 평점과 제목이 나뉘어져 있어 두 데이터프레임을 join하게 되었다. 그리고 'timestamp', 'genre'컬럼은 사용하지 않을거라서 보기 편하게 제거했다.\n",
    "- CSR matrix 생성할때 차원이 초과되어 오류가 발생했다. 좋아하는 영화 5개를 추가하는 부분에서 user_id와 movie_id를 숫자로 추가했는데도 에러가 났다. 알고보니 데이터가 숫자처럼 보이지만 사실 제대로 인덱싱이 되어 있지 않아서 오류가 생긴 것이었다. 실제로 인덱싱 과정을 거치니 matrix가 제대로 생성되었다.\n",
    "- 결과적으로 선호하는 영화 '타이타닉'에 대한 선호도를 계산했을 때 0.69579905이라는 값을 얻을 수 있었다. 그리고 선호 리스트에 없는 영화에 대한 예측을 했을 때 0.05902475으로 비교적 낮게 나왔다. \n",
    "- 유사한 장르의 영화가 추천되어 모델의 성능이 꽤 괜찮은 것 같다."
   ]
  }
 ],
 "metadata": {
  "kernelspec": {
   "display_name": "Python 3 (ipykernel)",
   "language": "python",
   "name": "python3"
  },
  "language_info": {
   "codemirror_mode": {
    "name": "ipython",
    "version": 3
   },
   "file_extension": ".py",
   "mimetype": "text/x-python",
   "name": "python",
   "nbconvert_exporter": "python",
   "pygments_lexer": "ipython3",
   "version": "3.9.7"
  }
 },
 "nbformat": 4,
 "nbformat_minor": 5
}
